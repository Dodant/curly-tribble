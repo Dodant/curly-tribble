{
 "cells": [
  {
   "cell_type": "code",
   "execution_count": 170,
   "id": "abfecf87-dd59-4814-b481-d04ef98df6e1",
   "metadata": {},
   "outputs": [
    {
     "name": "stdin",
     "output_type": "stream",
     "text": [
      " 100 99 100000000000\n"
     ]
    },
    {
     "name": "stdout",
     "output_type": "stream",
     "text": [
      "99999999901\n"
     ]
    }
   ],
   "source": [
    "import math\n",
    "\n",
    "a,b,v = map(int, input().split())\n",
    "s = 0\n",
    "if v-a == 0:\n",
    "    print(1)\n",
    "elif (v-a)//(a-b) == 0:\n",
    "    s += 1\n",
    "    print(s + math.ceil((v-a)/(a-b)) + 1)\n",
    "else:\n",
    "    print(s + math.ceil((v-a)/(a-b)) + 1)"
   ]
  },
  {
   "cell_type": "code",
   "execution_count": null,
   "id": "c375c5c8-021a-4ef7-b56d-cb401c35fd14",
   "metadata": {},
   "outputs": [],
   "source": [
    "~100"
   ]
  },
  {
   "cell_type": "code",
   "execution_count": 167,
   "id": "d8095fa7-0ad2-4735-bef8-697b35a88451",
   "metadata": {},
   "outputs": [
    {
     "data": {
      "text/plain": [
       "1"
      ]
     },
     "execution_count": 167,
     "metadata": {},
     "output_type": "execute_result"
    }
   ],
   "source": [
    "5 // 4"
   ]
  },
  {
   "cell_type": "code",
   "execution_count": null,
   "id": "8eb52a5a-6b5c-4cee-9d47-cb85cfa93cc7",
   "metadata": {},
   "outputs": [],
   "source": []
  }
 ],
 "metadata": {
  "kernelspec": {
   "display_name": "Python 3 (ipykernel)",
   "language": "python",
   "name": "python3"
  },
  "language_info": {
   "codemirror_mode": {
    "name": "ipython",
    "version": 3
   },
   "file_extension": ".py",
   "mimetype": "text/x-python",
   "name": "python",
   "nbconvert_exporter": "python",
   "pygments_lexer": "ipython3",
   "version": "3.8.0"
  },
  "widgets": {
   "application/vnd.jupyter.widget-state+json": {
    "state": {},
    "version_major": 2,
    "version_minor": 0
   }
  }
 },
 "nbformat": 4,
 "nbformat_minor": 5
}
