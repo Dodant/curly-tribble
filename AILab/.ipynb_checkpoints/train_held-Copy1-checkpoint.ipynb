{
 "cells": [
  {
   "cell_type": "code",
   "execution_count": 107,
   "id": "1403a792-6849-4568-9617-267ba1445628",
   "metadata": {
    "tags": []
   },
   "outputs": [],
   "source": [
    "import pandas as pd\n",
    "import numpy as np\n",
    "import torch\n",
    "import torch.nn as nn\n",
    "import torch.nn.functional as F \n",
    "from torch.utils.data import TensorDataset, DataLoader\n",
    "import matplotlib.pyplot as plt\n",
    "\n",
    "train_data = pd.read_csv('dataset/price_data_tr.csv')\n",
    "heldout_data = pd.read_csv('dataset/price_data_val.csv')\n",
    "test_data = pd.read_csv('dataset/price_data_ts.csv')"
   ]
  },
  {
   "cell_type": "code",
   "execution_count": 108,
   "id": "360b6db5-20be-4652-82c3-a155b651e985",
   "metadata": {},
   "outputs": [
    {
     "name": "stdout",
     "output_type": "stream",
     "text": [
      "(12968, 21)\n",
      "(4323, 21)\n",
      "(4322, 21)\n"
     ]
    }
   ],
   "source": [
    "print(train_data.shape)\n",
    "print(heldout_data.shape)\n",
    "print(test_data.shape)"
   ]
  },
  {
   "cell_type": "code",
   "execution_count": 109,
   "id": "e45d02bd-4a3a-42dd-a000-4e50f67aba76",
   "metadata": {},
   "outputs": [],
   "source": [
    "# data.columns\n",
    "# 'id', 'date', \n",
    "# 'price', \n",
    "# 'bedrooms', 'bathrooms', 'sqft_living', 'sqft_lot', 'floors', 'waterfront', 'view', 'condition', 'grade',\n",
    "# 'sqft_above', 'sqft_basement', 'yr_built', 'yr_renovated', 'zipcode', 'lat', 'long', 'sqft_living15', 'sqft_lot15'"
   ]
  },
  {
   "cell_type": "code",
   "execution_count": 110,
   "id": "1e32b9bb-74f2-48a3-9e69-9a93d21f48fd",
   "metadata": {},
   "outputs": [
    {
     "name": "stdout",
     "output_type": "stream",
     "text": [
      "           id             date     price  bedrooms\n",
      "0  1310440590  20150413T000000  440000.0         3\n",
      "1  1437580480  20140918T000000  994000.0         5\n",
      "           id             date     price  bedrooms\n",
      "0  7229800175  20140604T000000  453500.0         5\n",
      "1  3905080870  20150206T000000  510000.0         3\n",
      "           id             date  price  bedrooms\n",
      "0  7000100850  20140926T000000    NaN         4\n",
      "1  4037400280  20140923T000000    NaN         3\n"
     ]
    }
   ],
   "source": [
    "print(train_data.iloc[0:2, [0,1,2,3]])\n",
    "print(heldout_data.iloc[0:2, [0,1,2,3]])\n",
    "print(test_data.iloc[0:2, [0,1,2,3]])"
   ]
  },
  {
   "cell_type": "code",
   "execution_count": 111,
   "id": "41422950-7b02-40d7-af7b-b4c24526a440",
   "metadata": {},
   "outputs": [
    {
     "name": "stdout",
     "output_type": "stream",
     "text": [
      "(17291, 17)\n"
     ]
    }
   ],
   "source": [
    "train_data = pd.concat((train_data, heldout_data))\n",
    "\n",
    "nor_train = train_data.iloc[:, 3:-1].apply(lambda x: (x-x.mean()) / (x.std()))\n",
    "nor_test = test_data.iloc[:, 3:-1].apply(lambda x: (x-x.mean()) / (x.std()))\n",
    "\n",
    "nor_train_price = train_data.iloc[:, 2:3].apply(lambda x: (x-x.mean()) / (x.std()))\n",
    "\n",
    "print(nor_train.shape)"
   ]
  },
  {
   "cell_type": "code",
   "execution_count": 112,
   "id": "2c3c2c44-e259-4299-b043-228a6c955c4b",
   "metadata": {},
   "outputs": [
    {
     "name": "stdout",
     "output_type": "stream",
     "text": [
      "539719.7752588051 363401.4889145882\n"
     ]
    }
   ],
   "source": [
    "train_label_mean, train_label_std = train_data.iloc[:, 2].mean(), train_data.iloc[:, 2].std()\n",
    "print(train_label_mean, train_label_std)"
   ]
  },
  {
   "cell_type": "code",
   "execution_count": 113,
   "id": "05513f29-c2a9-480d-abe7-6110ef902b5d",
   "metadata": {},
   "outputs": [],
   "source": [
    "train_feats = torch.tensor(nor_train.iloc[:, :].values, dtype=torch.float32)\n",
    "train_labels = torch.tensor(nor_train_price.values.reshape(-1, 1), dtype=torch.float32)\n",
    "\n",
    "test_feat = torch.tensor(nor_test.iloc[:, :].values, dtype=torch.float32)"
   ]
  },
  {
   "cell_type": "code",
   "execution_count": 114,
   "id": "176a396b-79da-4253-84ce-45d0486ad6da",
   "metadata": {},
   "outputs": [
    {
     "name": "stdout",
     "output_type": "stream",
     "text": [
      "torch.Size([17291, 17])\n",
      "torch.Size([17291, 1])\n",
      "torch.Size([4322, 17])\n"
     ]
    }
   ],
   "source": [
    "print(train_feats.shape)\n",
    "print(train_labels.shape)\n",
    "print(test_feat.shape)"
   ]
  },
  {
   "cell_type": "code",
   "execution_count": 124,
   "id": "4f3d108f-0c22-43c5-9493-a00673124626",
   "metadata": {},
   "outputs": [],
   "source": [
    "n_train, in_features = train_data.shape[0], train_feats.shape[1]\n",
    "\n",
    "\n",
    "class Regressor(nn.Module):\n",
    "    def __init__(self):\n",
    "        super(Regressor, self).__init__()\n",
    "        self.fc1 = nn.Linear(in_features, 32)\n",
    "        self.fc2 = nn.Linear(32, 64)\n",
    "        self.fc3 = nn.Linear(64, 32)\n",
    "        self.fc4 = nn.Linear(32, 8)\n",
    "        self.fc5 = nn.Linear(8, 1)\n",
    "        self.dropout = nn.Dropout(0.2)\n",
    "        self.relu = nn.ReLU() # trial 5\n",
    "#         self.relu = nn.PReLU() # trial 3, 6\n",
    "#         self.relu = nn.SELU() # trial 4, 7\n",
    "#         self.relu = nn.Tanh() # trial 8\n",
    "    \n",
    "    def forward(self, x):\n",
    "        x = self.fc1(x)\n",
    "        x = self.relu(x)\n",
    "        x = self.dropout(x)\n",
    "        \n",
    "        x = self.fc2(x)\n",
    "        x = self.relu(x)\n",
    "        x = self.dropout(x)\n",
    "        \n",
    "        x = self.fc3(x)\n",
    "        x = self.relu(x)\n",
    "        x = self.dropout(x)\n",
    "        \n",
    "        x = self.fc4(x)\n",
    "        x = self.relu(x)\n",
    "#         x = self.dropout(x) # trial 2 유 / 5,6,7 무\n",
    "        \n",
    "        x = self.fc5(x)\n",
    "        return x\n",
    "    \n",
    "def rmse(predictions, targets):\n",
    "    return np.sqrt(((predictions - targets) ** 2).mean())"
   ]
  },
  {
   "cell_type": "code",
   "execution_count": null,
   "id": "cfe9b09d-9005-441c-8ff1-712d5b2403de",
   "metadata": {},
   "outputs": [],
   "source": []
  },
  {
   "cell_type": "code",
   "execution_count": 125,
   "id": "5c37bf10-e693-4362-aea6-cfe86a727fdd",
   "metadata": {
    "tags": []
   },
   "outputs": [],
   "source": [
    "learning_rate = 0.01\n",
    "weight_decay = 0.1\n",
    "batch_size = 1024\n",
    "epochs = 500\n",
    "\n",
    "device = torch.device('cuda:0' if torch.cuda.is_available() else 'cpu')\n",
    "net = Regressor().to(device)\n",
    "\n",
    "criterion = nn.MSELoss()\n",
    "# optimizer = torch.optim.Adam(net.parameters(), lr=learning_rate, weight_decay=weight_decay)\n",
    "# optimizer = torch.optim.SGD(net.parameters(), lr=learning_rate, weight_decay=weight_decay)\n",
    "optimizer = torch.optim.AdamW(net.parameters(), lr=learning_rate, weight_decay=weight_decay)\n",
    "scheduler = torch.optim.lr_scheduler.MultiStepLR(optimizer, milestones=[50,100,150,200,250,300,400,500], gamma=0.25)\n",
    "# optimizer = torch.optim.Adagrad(net.parameters(), lr=learning_rate, lr_decay=0, weight_decay=weight_decay, initial_accumulator_value=0, eps=1e-10)"
   ]
  },
  {
   "cell_type": "code",
   "execution_count": 126,
   "id": "2bf1f9ed-3b41-42ef-aa67-0b9723cd3988",
   "metadata": {},
   "outputs": [],
   "source": [
    "train_features, train_labels  = train_feats.to(device), train_labels.to(device)\n",
    "\n",
    "dataset = TensorDataset(train_features, train_labels)\n",
    "dataloader = DataLoader(dataset, batch_size=batch_size, shuffle=True, drop_last=True)\n",
    "\n",
    "train_ls, test_ls = [], []\n",
    "\n",
    "for epoch in range(epochs):\n",
    "    for inputs, labels in dataloader:\n",
    "        optimizer.zero_grad()\n",
    "        outputs = net(inputs)\n",
    "        loss = criterion(outputs, labels)\n",
    "        loss.backward()\n",
    "        optimizer.step()\n",
    "        scheduler.step()\n",
    "    \n",
    "    train_rmse = np.sqrt(criterion(net(train_features), train_labels).item())\n",
    "    train_ls.append(train_rmse)"
   ]
  },
  {
   "cell_type": "code",
   "execution_count": 127,
   "id": "ca39507a-ee18-4e51-b5e6-cdad3d36b3cb",
   "metadata": {},
   "outputs": [
    {
     "data": {
      "image/png": "[encoded data removed]",
      "text/plain": [
       "<Figure size 432x288 with 1 Axes>"
      ]
     },
     "metadata": {
      "needs_background": "light"
     },
     "output_type": "display_data"
    },
    {
     "name": "stdout",
     "output_type": "stream",
     "text": [
      "0.48202759541960855\n"
     ]
    }
   ],
   "source": [
    "plt.plot(train_ls)\n",
    "plt.show()\n",
    "\n",
    "print(train_ls[-1]) # 0.3615"
   ]
  },
  {
   "cell_type": "code",
   "execution_count": 128,
   "id": "7fa60f96-cc3d-49c4-ab2f-8801685caff3",
   "metadata": {},
   "outputs": [],
   "source": [
    "# predicts = net(train_features).to('cpu').detach().numpy()\n",
    "\n",
    "# train_predicts = predicts * train_label_std + train_label_mean\n",
    "# rmse_train = rmse(train_predicts, train_labels)\n",
    "\n",
    "# print(rmse_train)"
   ]
  },
  {
   "cell_type": "code",
   "execution_count": 129,
   "id": "765c41fe-68f4-41d7-8751-e74fe5138a2f",
   "metadata": {},
   "outputs": [],
   "source": [
    "test_predicts = net(test_feat.to('cuda'))"
   ]
  },
  {
   "cell_type": "code",
   "execution_count": 130,
   "id": "ab02e530-d271-401c-81bf-8768894710ee",
   "metadata": {},
   "outputs": [],
   "source": [
    "final_predict = test_predicts * train_label_std + train_label_mean\n",
    "final_predict = final_predict.cpu().detach().numpy()"
   ]
  },
  {
   "cell_type": "code",
   "execution_count": 131,
   "id": "9d695c63-c989-4c7a-b2a7-0a77c93b3891",
   "metadata": {},
   "outputs": [
    {
     "data": {
      "text/html": [
       "<div>\n",
       "<style scoped>\n",
       "    .dataframe tbody tr th:only-of-type {\n",
       "        vertical-align: middle;\n",
       "    }\n",
       "\n",
       "    .dataframe tbody tr th {\n",
       "        vertical-align: top;\n",
       "    }\n",
       "\n",
       "    .dataframe thead th {\n",
       "        text-align: right;\n",
       "    }\n",
       "</style>\n",
       "<table border=\"1\" class=\"dataframe\">\n",
       "  <thead>\n",
       "    <tr style=\"text-align: right;\">\n",
       "      <th></th>\n",
       "      <th>id</th>\n",
       "      <th>price</th>\n",
       "    </tr>\n",
       "  </thead>\n",
       "  <tbody>\n",
       "    <tr>\n",
       "      <th>0</th>\n",
       "      <td>700010085020140926T000000</td>\n",
       "      <td>502365.65625</td>\n",
       "    </tr>\n",
       "    <tr>\n",
       "      <th>1</th>\n",
       "      <td>403740028020140923T000000</td>\n",
       "      <td>480248.93750</td>\n",
       "    </tr>\n",
       "    <tr>\n",
       "      <th>2</th>\n",
       "      <td>142340016020140618T000000</td>\n",
       "      <td>365168.31250</td>\n",
       "    </tr>\n",
       "    <tr>\n",
       "      <th>3</th>\n",
       "      <td>776740006020141119T000000</td>\n",
       "      <td>570579.68750</td>\n",
       "    </tr>\n",
       "    <tr>\n",
       "      <th>4</th>\n",
       "      <td>946590050020140617T000000</td>\n",
       "      <td>793383.87500</td>\n",
       "    </tr>\n",
       "    <tr>\n",
       "      <th>...</th>\n",
       "      <td>...</td>\n",
       "      <td>...</td>\n",
       "    </tr>\n",
       "    <tr>\n",
       "      <th>4317</th>\n",
       "      <td>733822037020141006T000000</td>\n",
       "      <td>287054.34375</td>\n",
       "    </tr>\n",
       "    <tr>\n",
       "      <th>4318</th>\n",
       "      <td>681910015020140721T000000</td>\n",
       "      <td>507140.96875</td>\n",
       "    </tr>\n",
       "    <tr>\n",
       "      <th>4319</th>\n",
       "      <td>082405914020140527T000000</td>\n",
       "      <td>775221.12500</td>\n",
       "    </tr>\n",
       "    <tr>\n",
       "      <th>4320</th>\n",
       "      <td>051450009020140513T000000</td>\n",
       "      <td>495084.56250</td>\n",
       "    </tr>\n",
       "    <tr>\n",
       "      <th>4321</th>\n",
       "      <td>770180005020140625T000000</td>\n",
       "      <td>436117.25000</td>\n",
       "    </tr>\n",
       "  </tbody>\n",
       "</table>\n",
       "<p>4322 rows × 2 columns</p>\n",
       "</div>"
      ],
      "text/plain": [
       "                             id         price\n",
       "0     700010085020140926T000000  502365.65625\n",
       "1     403740028020140923T000000  480248.93750\n",
       "2     142340016020140618T000000  365168.31250\n",
       "3     776740006020141119T000000  570579.68750\n",
       "4     946590050020140617T000000  793383.87500\n",
       "...                         ...           ...\n",
       "4317  733822037020141006T000000  287054.34375\n",
       "4318  681910015020140721T000000  507140.96875\n",
       "4319  082405914020140527T000000  775221.12500\n",
       "4320  051450009020140513T000000  495084.56250\n",
       "4321  770180005020140625T000000  436117.25000\n",
       "\n",
       "[4322 rows x 2 columns]"
      ]
     },
     "execution_count": 131,
     "metadata": {},
     "output_type": "execute_result"
    }
   ],
   "source": [
    "test_data = pd.read_csv('dataset/price_data_ts.csv')\n",
    "test_data['price'] = final_predict\n",
    "\n",
    "test_data['id'] = test_data['id'].apply(lambda x : str(x) if len(str(x)) == 10 else '0' + str(x) if len(str(x)) == 9 else '00' + str(x))\n",
    "test_data['id'] = test_data['id'].astype(str) + test_data['date'].astype(str)\n",
    "submission = pd.concat([test_data['id'], test_data['price']], axis=1)\n",
    "submission"
   ]
  },
  {
   "cell_type": "code",
   "execution_count": 132,
   "id": "b5861942-650e-498a-bb4d-70e966826d2e",
   "metadata": {},
   "outputs": [],
   "source": [
    "submission.to_csv('submission.csv', index=False)"
   ]
  },
  {
   "cell_type": "code",
   "execution_count": null,
   "id": "72762383-a2b1-4102-8769-d2b530bc3db8",
   "metadata": {},
   "outputs": [],
   "source": []
  },
  {
   "cell_type": "code",
   "execution_count": null,
   "id": "b9c60b86-c88d-45d1-a6d2-2a48cf79265e",
   "metadata": {},
   "outputs": [],
   "source": []
  },
  {
   "cell_type": "code",
   "execution_count": null,
   "id": "34e2111c-6b19-4d03-b89b-43dd024ee303",
   "metadata": {},
   "outputs": [],
   "source": []
  }
 ],
 "metadata": {
  "kernelspec": {
   "display_name": "Python 3 (ipykernel)",
   "language": "python",
   "name": "python3"
  },
  "language_info": {
   "codemirror_mode": {
    "name": "ipython",
    "version": 3
   },
   "file_extension": ".py",
   "mimetype": "text/x-python",
   "name": "python",
   "nbconvert_exporter": "python",
   "pygments_lexer": "ipython3",
   "version": "3.8.0"
  },
  "widgets": {
   "application/vnd.jupyter.widget-state+json": {
    "state": {},
    "version_major": 2,
    "version_minor": 0
   }
  }
 },
 "nbformat": 4,
 "nbformat_minor": 5
}
