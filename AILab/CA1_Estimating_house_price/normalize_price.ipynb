{
 "cells": [
  {
   "cell_type": "code",
   "execution_count": 221,
   "id": "8651bac5-ea5c-4ffa-9522-716e50578359",
   "metadata": {
    "tags": []
   },
   "outputs": [],
   "source": [
    "import pandas as pd\n",
    "import numpy as np\n",
    "import torch\n",
    "import torch.nn as nn\n",
    "import torch.nn.functional as F \n",
    "from torch.utils.data import TensorDataset, DataLoader\n",
    "import matplotlib.pyplot as plt\n",
    "\n",
    "train_data = pd.read_csv('dataset/price_data_tr.csv')\n",
    "heldout_data = pd.read_csv('dataset/price_data_val.csv')\n",
    "test_data = pd.read_csv('dataset/price_data_ts.csv')"
   ]
  },
  {
   "cell_type": "code",
   "execution_count": 222,
   "id": "c411b0d0-c7f7-4c8a-b166-5128c5d00735",
   "metadata": {
    "tags": []
   },
   "outputs": [],
   "source": [
    "#print(train_data.shape) #(12968, 21)\n",
    "#print(heldout_data.shape) #(4323, 21)\n",
    "#print(test_data.shape) #(4322, 21)\n",
    "\n",
    "# data.columns\n",
    "# 'id', 'date', \n",
    "# 'price', \n",
    "# 'bedrooms', 'bathrooms', 'sqft_living', 'sqft_lot', 'floors', 'waterfront', 'view', 'condition', 'grade',\n",
    "# 'sqft_above', 'sqft_basement', 'yr_built', 'yr_renovated', 'zipcode', 'lat', 'long', 'sqft_living15', 'sqft_lot15'"
   ]
  },
  {
   "cell_type": "code",
   "execution_count": 223,
   "id": "a7b41efa-8b62-4735-b398-c9d5ffe06249",
   "metadata": {},
   "outputs": [],
   "source": [
    "# 최신 연도로 바꾸고 기존 yr_bult, yr_renovated 삭제\n",
    "train_data['yr_max'] = np.maximum(np.array(train_data.yr_built), np.array(train_data.yr_renovated))\n",
    "heldout_data['yr_max'] = np.maximum(np.array(heldout_data.yr_built), np.array(heldout_data.yr_renovated))\n",
    "test_data['yr_max'] = np.maximum(np.array(test_data.yr_built), np.array(test_data.yr_renovated))\n",
    "\n",
    "train_data = train_data.drop(['yr_built','yr_renovated'], axis=1)\n",
    "heldout_data = heldout_data.drop(['yr_built','yr_renovated'], axis=1)\n",
    "test_data = test_data.drop(['yr_built','yr_renovated'], axis=1)"
   ]
  },
  {
   "cell_type": "code",
   "execution_count": 224,
   "id": "f8d6b982-9a9d-4a4d-8d3e-0c2a36dbe1bb",
   "metadata": {},
   "outputs": [],
   "source": [
    "# log sqft_lot\n",
    "train_data['sqft_lot'] = np.log(train_data['sqft_lot'])\n",
    "heldout_data['sqft_lot'] = np.log(heldout_data['sqft_lot'])\n",
    "test_data['sqft_lot'] = np.log(test_data['sqft_lot'])\n",
    "# log sqft_lot15\n",
    "train_data['sqft_lot15'] = np.log(train_data['sqft_lot15'])\n",
    "heldout_data['sqft_lot15'] = np.log(heldout_data['sqft_lot15'])\n",
    "test_data['sqft_lot15'] = np.log(test_data['sqft_lot15'])\n",
    "# drop zipcode\n",
    "# train_data = train_data.drop(['zipcode'], axis=1)\n",
    "# heldout_data = heldout_data.drop(['zipcode'], axis=1)\n",
    "# test_data = test_data.drop(['zipcode'], axis=1)\n",
    "\n",
    "# -zipcode\n",
    "train_data['zipcode'] = -train_data['zipcode']\n",
    "heldout_data['zipcode'] = -heldout_data['zipcode']\n",
    "test_data['zipcode'] = -test_data['zipcode']\n",
    "\n",
    "# test\n",
    "train_data['sqft_living15'] = np.log(train_data['sqft_living15'])\n",
    "heldout_data['sqft_living15'] = np.log(heldout_data['sqft_living15'])\n",
    "test_data['sqft_living15'] = np.log(test_data['sqft_living15'])\n",
    "train_data['sqft_above'] = np.log(train_data['sqft_above'])\n",
    "heldout_data['sqft_above'] = np.log(heldout_data['sqft_above'])\n",
    "test_data['sqft_above'] = np.log(test_data['sqft_above'])\n",
    "train_data['sqft_living'] = np.log(train_data['sqft_living'])\n",
    "heldout_data['sqft_living'] = np.log(heldout_data['sqft_living'])\n",
    "test_data['sqft_living'] = np.log(test_data['sqft_living'])"
   ]
  },
  {
   "cell_type": "code",
   "execution_count": 225,
   "id": "4dad1c57-d226-4a8b-8127-303e1fcac632",
   "metadata": {},
   "outputs": [],
   "source": [
    "nor_train = train_data.iloc[:, 3:].apply(lambda x: (x-x.mean()) / (x.std()))\n",
    "nor_heldout = heldout_data.iloc[:, 3:].apply(lambda x: (x-x.mean()) / (x.std()))\n",
    "nor_test = test_data.iloc[:, 3:].apply(lambda x: (x-x.mean()) / (x.std()))\n",
    "\n",
    "nor_log_train_price = np.log(train_data.iloc[:, 2:3]).apply(lambda x: (x-x.mean()) / (x.std()))\n",
    "nor_log_heldout_price = np.log(heldout_data.iloc[:, 2:3]).apply(lambda x: (x-x.mean()) / (x.std()))"
   ]
  },
  {
   "cell_type": "code",
   "execution_count": 226,
   "id": "386bcb9d-b2c2-4ae7-be46-340de3b95756",
   "metadata": {},
   "outputs": [
    {
     "name": "stdout",
     "output_type": "stream",
     "text": [
      "13.04810655020148 0.5220080959315785\n",
      "13.048257499579405 0.5355929705203868\n",
      "13.048144289728448 0.5254218546587482\n"
     ]
    }
   ],
   "source": [
    "train_log_label_mean, train_log_label_std = np.log(train_data.iloc[:, 2]).mean(), np.log(train_data.iloc[:, 2]).std()\n",
    "heldout_log_label_mean, heldout_log_label_std = np.log(heldout_data.iloc[:, 2]).mean(), np.log(heldout_data.iloc[:, 2]).std()\n",
    "print(train_log_label_mean, train_log_label_std)\n",
    "print(heldout_log_label_mean, heldout_log_label_std)\n",
    "\n",
    "uni_log_label_mean = np.log(pd.concat((train_data.iloc[:, 2], heldout_data.iloc[:, 2]))).mean()\n",
    "uni_log_label_std = np.log(pd.concat((train_data.iloc[:, 2], heldout_data.iloc[:, 2]))).std()\n",
    "print(uni_log_label_mean, uni_log_label_std)"
   ]
  },
  {
   "cell_type": "code",
   "execution_count": 227,
   "id": "17e6c4cb-ee51-4fa8-953b-4dca90b6c243",
   "metadata": {},
   "outputs": [],
   "source": [
    "train_feats = torch.tensor(nor_train.iloc[:, :].values, dtype=torch.float32)\n",
    "heldout_feats = torch.tensor(nor_heldout.iloc[:, :].values, dtype=torch.float32)\n",
    "test_feat = torch.tensor(nor_test.iloc[:, :].values, dtype=torch.float32)\n",
    "\n",
    "train_labels = torch.tensor(nor_log_train_price.values.reshape(-1, 1), dtype=torch.float32)\n",
    "heldout_labels = torch.tensor(nor_log_heldout_price.values.reshape(-1, 1), dtype=torch.float32)"
   ]
  },
  {
   "cell_type": "code",
   "execution_count": 228,
   "id": "24e52a1b-6e79-49ff-b7a0-e367a7f329c2",
   "metadata": {},
   "outputs": [],
   "source": [
    "n_train, in_features = train_data.shape[0], train_feats.shape[1]\n",
    "\n",
    "\n",
    "class Regressor(nn.Module):\n",
    "    def __init__(self):\n",
    "        super(Regressor, self).__init__()\n",
    "        self.fc1 = nn.Linear(in_features, 32)\n",
    "        self.fc2 = nn.Linear(32, 64)\n",
    "        self.fc3 = nn.Linear(64, 128)\n",
    "        self.fc4 = nn.Linear(128, 256)\n",
    "        self.fc5 = nn.Linear(256, 128)\n",
    "        self.fc6 = nn.Linear(128, 64)\n",
    "        self.fc7 = nn.Linear(64, 32)\n",
    "        self.fc8 = nn.Linear(32, 1)\n",
    "        self.dropout = nn.Dropout(0.2)\n",
    "        self.relu = nn.ReLU()\n",
    "    \n",
    "    def forward(self, x):\n",
    "        x = self.dropout(self.relu(self.fc1(x)))\n",
    "        x = self.dropout(self.relu(self.fc2(x)))\n",
    "        x = self.dropout(self.relu(self.fc3(x)))\n",
    "        x = self.dropout(self.relu(self.fc4(x)))\n",
    "        x = self.dropout(self.relu(self.fc5(x)))\n",
    "        x = self.dropout(self.relu(self.fc6(x)))\n",
    "        x = self.relu(self.fc7(x))\n",
    "        x = self.fc8(x)\n",
    "        return x\n",
    "    \n",
    "def rmse(predictions, targets):\n",
    "    return np.sqrt(((predictions - targets) ** 2).mean())"
   ]
  },
  {
   "cell_type": "code",
   "execution_count": 229,
   "id": "5850a4ea-b436-464e-a377-4f52b427b420",
   "metadata": {},
   "outputs": [],
   "source": [
    "learning_rate = 0.001\n",
    "weight_decay = 0.1\n",
    "batch_size = 1024\n",
    "epochs = 3000\n",
    "\n",
    "device = torch.device('cuda:0' if torch.cuda.is_available() else 'cpu')\n",
    "net = Regressor().to(device)\n",
    "\n",
    "criterion = torch.nn.MSELoss()\n",
    "optimizer = torch.optim.AdamW(net.parameters(), lr=learning_rate, weight_decay=weight_decay)\n",
    "scheduler = torch.optim.lr_scheduler.MultiStepLR(optimizer, milestones=[200,300,400,500,600,800,1000,1200,1400,1600,1800,2000,2300,2600,2900], gamma=0.85)"
   ]
  },
  {
   "cell_type": "code",
   "execution_count": 230,
   "id": "8717539b-1030-49ba-8e13-c9ec042e3c09",
   "metadata": {},
   "outputs": [
    {
     "name": "stdout",
     "output_type": "stream",
     "text": [
      "epoch: 200 -- train_rmse: 0.38231, train_rmse: 0.38231\n",
      "epoch: 400 -- train_rmse: 0.36804, train_rmse: 0.36804\n",
      "epoch: 600 -- train_rmse: 0.35916, train_rmse: 0.35916\n",
      "epoch: 800 -- train_rmse: 0.35323, train_rmse: 0.35323\n",
      "epoch: 1000 -- train_rmse: 0.34366, train_rmse: 0.34366\n",
      "epoch: 1200 -- train_rmse: 0.33854, train_rmse: 0.33854\n",
      "epoch: 1400 -- train_rmse: 0.33626, train_rmse: 0.33626\n",
      "epoch: 1600 -- train_rmse: 0.33394, train_rmse: 0.33394\n",
      "epoch: 1800 -- train_rmse: 0.33218, train_rmse: 0.33218\n",
      "epoch: 2000 -- train_rmse: 0.33078, train_rmse: 0.33078\n",
      "epoch: 2200 -- train_rmse: 0.32702, train_rmse: 0.32702\n",
      "epoch: 2400 -- train_rmse: 0.32730, train_rmse: 0.32730\n",
      "epoch: 2600 -- train_rmse: 0.32629, train_rmse: 0.32629\n",
      "epoch: 2800 -- train_rmse: 0.32649, train_rmse: 0.32649\n",
      "epoch: 3000 -- train_rmse: 0.32644, train_rmse: 0.32644\n"
     ]
    },
    {
     "data": {
      "image/png": "[encoded data removed]",
      "text/plain": [
       "<Figure size 432x288 with 1 Axes>"
      ]
     },
     "metadata": {
      "needs_background": "light"
     },
     "output_type": "display_data"
    },
    {
     "name": "stdout",
     "output_type": "stream",
     "text": [
      "0.3264, 0.3395\n"
     ]
    }
   ],
   "source": [
    "train_features, train_labels = train_feats.to(device), train_labels.to(device)\n",
    "test_features, test_labels = heldout_feats.to(device), heldout_labels.to(device)\n",
    "\n",
    "dataset = TensorDataset(train_features, train_labels)\n",
    "dataloader = DataLoader(dataset, batch_size=batch_size, shuffle=True, drop_last=True)\n",
    "\n",
    "train_ls, test_ls = [], []\n",
    "\n",
    "for epoch in range(epochs):\n",
    "    for inputs, labels in dataloader:\n",
    "        optimizer.zero_grad()\n",
    "        outputs = net(inputs)\n",
    "        loss = criterion(outputs, labels)\n",
    "        loss.backward()\n",
    "        optimizer.step()\n",
    "        scheduler.step()\n",
    "    \n",
    "    train_rmse = np.sqrt(criterion(net(train_features), train_labels).item())\n",
    "    test_rmse = np.sqrt(criterion(net(test_features), test_labels).item())\n",
    "    \n",
    "    train_ls.append(train_rmse)\n",
    "    test_ls.append(test_rmse)\n",
    "    \n",
    "    if (epoch + 1) % 200 == 0:\n",
    "        print(f'epoch: {epoch + 1} -- train_rmse: {train_rmse:.5f}, train_rmse: {test_rmse:.5f}')\n",
    "    \n",
    "    \n",
    "plt.plot(train_ls, label=\"Train\")\n",
    "plt.plot(test_ls, label=\"Test\")\n",
    "plt.legend()\n",
    "plt.show()\n",
    "\n",
    "print(f'{train_ls[-1]:0.4f}, {test_ls[-1]:0.4f}')"
   ]
  },
  {
   "cell_type": "code",
   "execution_count": 231,
   "id": "6d1d64d3-187d-4d38-a62d-61c9a178da1a",
   "metadata": {},
   "outputs": [
    {
     "name": "stdout",
     "output_type": "stream",
     "text": [
      "0.5220080959315785 13.04810655020148\n",
      "0.5355929705203868 13.048257499579405\n",
      "0.5254218546587482 13.048144289728448\n",
      "137289.19081689735\n",
      "139129.61374641847\n",
      "137548.87011795526\n"
     ]
    },
    {
     "data": {
      "text/plain": [
       "array([[664021.1 ],\n",
       "       [470061.8 ],\n",
       "       [215077.72],\n",
       "       ...,\n",
       "       [868462.5 ],\n",
       "       [532460.56],\n",
       "       [414461.7 ]], dtype=float32)"
      ]
     },
     "execution_count": 231,
     "metadata": {},
     "output_type": "execute_result"
    }
   ],
   "source": [
    "trains = []\n",
    "helds = []\n",
    "unis = []\n",
    "\n",
    "print(train_log_label_std, train_log_label_mean)\n",
    "print(heldout_log_label_std, heldout_log_label_mean)\n",
    "print(uni_log_label_std, uni_log_label_mean)\n",
    "\n",
    "for i in range(3000):\n",
    "    predicts = net(test_features).to('cpu').detach().numpy()\n",
    "\n",
    "    train_predicts = np.exp(predicts * train_log_label_std + train_log_label_mean)\n",
    "    held_predicts = np.exp(predicts * heldout_log_label_std + heldout_log_label_mean)\n",
    "    uni_predicts = np.exp(predicts * uni_log_label_std + uni_log_label_mean)\n",
    "        \n",
    "    rmse_train = rmse(train_predicts, heldout_data.iloc[:, [2]].values)\n",
    "    rmse_held = rmse(held_predicts, heldout_data.iloc[:, [2]].values)\n",
    "    rmse_uni = rmse(uni_predicts, heldout_data.iloc[:, [2]].values)\n",
    "    rmse_other = rmse(other_predicts, heldout_data.iloc[:, [2]].values)\n",
    "    \n",
    "    trains.append(rmse_train)\n",
    "    helds.append(rmse_held)\n",
    "    unis.append(rmse_uni)\n",
    "\n",
    "print(np.array(trains).mean())\n",
    "print(np.array(helds).mean())\n",
    "print(np.array(unis).mean())\n",
    "\n",
    "finals = []\n",
    "\n",
    "for i in range(3000):\n",
    "    test_predicts = net(test_feat.to('cuda')).cpu().detach().numpy()\n",
    "    final_predict = np.exp(test_predicts * train_log_label_std + train_log_label_mean)\n",
    "    finals.append(final_predict)\n",
    "np.array(finals).mean(axis = 0)\n",
    "\n",
    "# 134904.32192449123\n",
    "# 135957.890039547\n",
    "# 134974.77365882287"
   ]
  },
  {
   "cell_type": "code",
   "execution_count": 207,
   "id": "0cca6484-e13e-4ce0-bbd5-2d5df3579e44",
   "metadata": {},
   "outputs": [
    {
     "data": {
      "text/html": [
       "<div>\n",
       "<style scoped>\n",
       "    .dataframe tbody tr th:only-of-type {\n",
       "        vertical-align: middle;\n",
       "    }\n",
       "\n",
       "    .dataframe tbody tr th {\n",
       "        vertical-align: top;\n",
       "    }\n",
       "\n",
       "    .dataframe thead th {\n",
       "        text-align: right;\n",
       "    }\n",
       "</style>\n",
       "<table border=\"1\" class=\"dataframe\">\n",
       "  <thead>\n",
       "    <tr style=\"text-align: right;\">\n",
       "      <th></th>\n",
       "      <th>id</th>\n",
       "      <th>price</th>\n",
       "    </tr>\n",
       "  </thead>\n",
       "  <tbody>\n",
       "    <tr>\n",
       "      <th>0</th>\n",
       "      <td>700010085020140926T000000</td>\n",
       "      <td>752229.125000</td>\n",
       "    </tr>\n",
       "    <tr>\n",
       "      <th>1</th>\n",
       "      <td>403740028020140923T000000</td>\n",
       "      <td>460574.625000</td>\n",
       "    </tr>\n",
       "    <tr>\n",
       "      <th>2</th>\n",
       "      <td>142340016020140618T000000</td>\n",
       "      <td>210307.546875</td>\n",
       "    </tr>\n",
       "    <tr>\n",
       "      <th>3</th>\n",
       "      <td>776740006020141119T000000</td>\n",
       "      <td>470847.781250</td>\n",
       "    </tr>\n",
       "    <tr>\n",
       "      <th>4</th>\n",
       "      <td>946590050020140617T000000</td>\n",
       "      <td>612893.187500</td>\n",
       "    </tr>\n",
       "    <tr>\n",
       "      <th>...</th>\n",
       "      <td>...</td>\n",
       "      <td>...</td>\n",
       "    </tr>\n",
       "    <tr>\n",
       "      <th>4317</th>\n",
       "      <td>733822037020141006T000000</td>\n",
       "      <td>313035.062500</td>\n",
       "    </tr>\n",
       "    <tr>\n",
       "      <th>4318</th>\n",
       "      <td>681910015020140721T000000</td>\n",
       "      <td>629949.937500</td>\n",
       "    </tr>\n",
       "    <tr>\n",
       "      <th>4319</th>\n",
       "      <td>082405914020140527T000000</td>\n",
       "      <td>952596.625000</td>\n",
       "    </tr>\n",
       "    <tr>\n",
       "      <th>4320</th>\n",
       "      <td>051450009020140513T000000</td>\n",
       "      <td>542852.500000</td>\n",
       "    </tr>\n",
       "    <tr>\n",
       "      <th>4321</th>\n",
       "      <td>770180005020140625T000000</td>\n",
       "      <td>385279.750000</td>\n",
       "    </tr>\n",
       "  </tbody>\n",
       "</table>\n",
       "<p>4322 rows × 2 columns</p>\n",
       "</div>"
      ],
      "text/plain": [
       "                             id          price\n",
       "0     700010085020140926T000000  752229.125000\n",
       "1     403740028020140923T000000  460574.625000\n",
       "2     142340016020140618T000000  210307.546875\n",
       "3     776740006020141119T000000  470847.781250\n",
       "4     946590050020140617T000000  612893.187500\n",
       "...                         ...            ...\n",
       "4317  733822037020141006T000000  313035.062500\n",
       "4318  681910015020140721T000000  629949.937500\n",
       "4319  082405914020140527T000000  952596.625000\n",
       "4320  051450009020140513T000000  542852.500000\n",
       "4321  770180005020140625T000000  385279.750000\n",
       "\n",
       "[4322 rows x 2 columns]"
      ]
     },
     "execution_count": 207,
     "metadata": {},
     "output_type": "execute_result"
    }
   ],
   "source": [
    "test_data = pd.read_csv('dataset/price_data_ts.csv')\n",
    "test_data['price'] = np.array(finals).mean(axis = 0)\n",
    "\n",
    "test_data['id'] = test_data['id'].apply(lambda x : str(x) if len(str(x)) == 10 else '0' + str(x) if len(str(x)) == 9 else '00' + str(x))\n",
    "test_data['id'] = test_data['id'].astype(str) + test_data['date'].astype(str)\n",
    "submission = pd.concat([test_data['id'], test_data['price']], axis=1)\n",
    "submission"
   ]
  },
  {
   "cell_type": "code",
   "execution_count": 208,
   "id": "d9e26a46-3270-4a9d-ad73-a65ff33ef6ea",
   "metadata": {},
   "outputs": [],
   "source": [
    "submission.to_csv('submission1.csv', index=False)"
   ]
  },
  {
   "cell_type": "code",
   "execution_count": null,
   "id": "5b75ba2e-ce29-4142-a3aa-484a6916ce05",
   "metadata": {},
   "outputs": [],
   "source": []
  }
 ],
 "metadata": {
  "kernelspec": {
   "display_name": "Python 3 (ipykernel)",
   "language": "python",
   "name": "python3"
  },
  "language_info": {
   "codemirror_mode": {
    "name": "ipython",
    "version": 3
   },
   "file_extension": ".py",
   "mimetype": "text/x-python",
   "name": "python",
   "nbconvert_exporter": "python",
   "pygments_lexer": "ipython3",
   "version": "3.8.0"
  },
  "widgets": {
   "application/vnd.jupyter.widget-state+json": {
    "state": {},
    "version_major": 2,
    "version_minor": 0
   }
  }
 },
 "nbformat": 4,
 "nbformat_minor": 5
}
