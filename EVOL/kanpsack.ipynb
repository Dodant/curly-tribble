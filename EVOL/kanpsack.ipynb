{
 "cells": [
  {
   "cell_type": "code",
   "execution_count": 986,
   "id": "c4e3eddc-86dd-453f-925e-8ad904d63d29",
   "metadata": {},
   "outputs": [],
   "source": [
    "import source as src\n",
    "import copy\n",
    "import random\n",
    "import sys"
   ]
  },
  {
   "cell_type": "code",
   "execution_count": 991,
   "id": "d60aa3a1-3910-4ca3-98d2-2063c9fc49c3",
   "metadata": {},
   "outputs": [],
   "source": [
    "cross_over_p = 0.9\n",
    "mutation_p = 0.01\n",
    "generation_iter = 100\n",
    "population_size = 100\n",
    "\n",
    "capacity, weights, profits = src.read_data('Data(0-1Knapsack).txt')"
   ]
  },
  {
   "cell_type": "code",
   "execution_count": 1074,
   "id": "40279e38-4fd4-4efb-86a6-90041ba9cee1",
   "metadata": {},
   "outputs": [],
   "source": [
    "def tournament(fitness, population):\n",
    "    for index, individual in enumerate(population):\n",
    "        x = random.randint(0, population_size-1)\n",
    "        if fitness(individual, capacity, weights, profits) < fitness(population[x], capacity, weights, profits):\n",
    "            population[index] = copy.deepcopy(population[x])\n",
    "    return population\n",
    "\n",
    "def roulette(fitness, population):\n",
    "    fitness_list = [fitness(i, capacity, weights, profits) for i in population]\n",
    "    total, min_fit = sum(fitness_list), min(fitness_list)\n",
    "    fitness_acc_list, fitness_acc = [], 0\n",
    "    new_population = []\n",
    "    \n",
    "    # Standard\n",
    "    for i in fitness_list:\n",
    "        fitness_acc += i / total\n",
    "        fitness_acc_list.append(fitness_acc)\n",
    "    \n",
    "    # Subtract minimum\n",
    "#     for i in fitness_list:\n",
    "#         fitness_acc += (i - min_fit) / (total - min_fit * population_size)\n",
    "#         fitness_acc_list.append(fitness_acc)\n",
    "    \n",
    "    for _ in range(population_size):\n",
    "        x = random.random()\n",
    "        for i in range(len(fitness_acc_list)):\n",
    "            if x < fitness_acc_list[i]:\n",
    "                new_population.append(population[i])\n",
    "                break\n",
    "\n",
    "    return new_population\n",
    "\n",
    "def crossover(population):\n",
    "    random.shuffle(population)\n",
    "    half = len(population) // 2\n",
    "    for i in range(half):\n",
    "        if random.random() < cross_over_p:\n",
    "            for _ in range(3): ## 3 points\n",
    "                pos = random.randint(0, len(population[i])-1) + 1\n",
    "                tmp_i_l = copy.deepcopy(population[i][:pos])\n",
    "                tmp_n_l = copy.deepcopy(population[i+half][:pos])\n",
    "                tmp_i_u = copy.deepcopy(population[i][pos:])\n",
    "                tmp_n_u = copy.deepcopy(population[i+half][pos:])\n",
    "                \n",
    "                population[i] = tmp_i_l + tmp_n_u\n",
    "                population[i+half] = tmp_n_l + tmp_i_u\n",
    "    return population\n",
    "\n",
    "def mutation(population):\n",
    "    for index, individual in enumerate(population):\n",
    "        temp = copy.deepcopy(individual)\n",
    "        for i in range(len(individual)):\n",
    "            if random.random() < mutation_p:\n",
    "                x = '0' if temp[i] == '1' else '1'\n",
    "                temp = temp[:i] + x + temp[i+1:]\n",
    "        population[index] = temp\n",
    "    return population\n",
    "\n",
    "def evalution(population):\n",
    "    return sum([src.fitness_function(i, capacity, weights, profits) for i in population]) / population_size\n",
    "\n",
    "def best_sample(population):\n",
    "    return max([src.fitness_function(i, capacity, weights, profits) for i in population])"
   ]
  },
  {
   "cell_type": "code",
   "execution_count": 1075,
   "id": "838123f6-05a8-4d64-987d-8c5606c8b214",
   "metadata": {
    "tags": []
   },
   "outputs": [
    {
     "name": "stdout",
     "output_type": "stream",
     "text": [
      "Gen   1: avg - 250577  /  best - 257038\n",
      "Gen   2: avg - 250629  /  best - 255789\n",
      "Gen   3: avg - 250546  /  best - 256418\n",
      "Gen   4: avg - 250574  /  best - 255951\n",
      "Gen   5: avg - 250716  /  best - 256572\n",
      "Gen   6: avg - 250927  /  best - 255647\n",
      "Gen   7: avg - 251061  /  best - 258454\n",
      "Gen   8: avg - 250966  /  best - 257312\n",
      "Gen   9: avg - 250113  /  best - 256636\n",
      "Gen  10: avg - 250590  /  best - 258812\n",
      "Gen  11: avg - 250945  /  best - 259208\n",
      "Gen  12: avg - 250707  /  best - 258631\n",
      "Gen  13: avg - 250612  /  best - 258969\n",
      "Gen  14: avg - 250802  /  best - 259164\n",
      "Gen  15: avg - 250847  /  best - 259197\n",
      "Gen  16: avg - 250443  /  best - 259578\n",
      "Gen  17: avg - 250480  /  best - 257419\n",
      "Gen  18: avg - 250531  /  best - 257131\n",
      "Gen  19: avg - 250872  /  best - 257303\n",
      "Gen  20: avg - 251022  /  best - 258050\n",
      "Gen  21: avg - 251134  /  best - 258797\n",
      "Gen  22: avg - 251251  /  best - 256329\n",
      "Gen  23: avg - 251695  /  best - 258456\n",
      "Gen  24: avg - 251117  /  best - 257189\n",
      "Gen  25: avg - 250970  /  best - 255738\n",
      "Gen  26: avg - 251125  /  best - 256113\n",
      "Gen  27: avg - 251347  /  best - 255621\n",
      "Gen  28: avg - 250972  /  best - 257435\n",
      "Gen  29: avg - 251151  /  best - 258010\n",
      "Gen  30: avg - 251168  /  best - 257239\n",
      "Gen  31: avg - 251281  /  best - 258427\n",
      "Gen  32: avg - 251179  /  best - 257670\n",
      "Gen  33: avg - 251306  /  best - 258432\n",
      "Gen  34: avg - 251307  /  best - 258119\n",
      "Gen  35: avg - 251223  /  best - 257713\n",
      "Gen  36: avg - 251289  /  best - 257175\n",
      "Gen  37: avg - 250956  /  best - 258661\n",
      "Gen  38: avg - 250265  /  best - 256581\n",
      "Gen  39: avg - 250408  /  best - 258693\n",
      "Gen  40: avg - 250025  /  best - 257666\n",
      "Gen  41: avg - 249978  /  best - 258472\n",
      "Gen  42: avg - 249698  /  best - 255839\n"
     ]
    },
    {
     "ename": "KeyboardInterrupt",
     "evalue": "",
     "output_type": "error",
     "traceback": [
      "\u001b[0;31m---------------------------------------------------------------------------\u001b[0m",
      "\u001b[0;31mKeyboardInterrupt\u001b[0m                         Traceback (most recent call last)",
      "\u001b[0;32m/tmp/ipykernel_28194/2389416009.py\u001b[0m in \u001b[0;36m<module>\u001b[0;34m\u001b[0m\n\u001b[1;32m      3\u001b[0m     \u001b[0mtemp_p\u001b[0m \u001b[0;34m=\u001b[0m \u001b[0mroulette\u001b[0m\u001b[0;34m(\u001b[0m\u001b[0msrc\u001b[0m\u001b[0;34m.\u001b[0m\u001b[0mfitness_function\u001b[0m\u001b[0;34m,\u001b[0m \u001b[0mpopulation\u001b[0m\u001b[0;34m)\u001b[0m\u001b[0;34m\u001b[0m\u001b[0;34m\u001b[0m\u001b[0m\n\u001b[1;32m      4\u001b[0m     \u001b[0mtemp_p\u001b[0m \u001b[0;34m=\u001b[0m \u001b[0mcrossover\u001b[0m\u001b[0;34m(\u001b[0m\u001b[0mtemp_p\u001b[0m\u001b[0;34m)\u001b[0m\u001b[0;34m\u001b[0m\u001b[0;34m\u001b[0m\u001b[0m\n\u001b[0;32m----> 5\u001b[0;31m     \u001b[0mpopulation\u001b[0m \u001b[0;34m=\u001b[0m \u001b[0mmutation\u001b[0m\u001b[0;34m(\u001b[0m\u001b[0mtemp_p\u001b[0m\u001b[0;34m)\u001b[0m\u001b[0;34m\u001b[0m\u001b[0;34m\u001b[0m\u001b[0m\n\u001b[0m\u001b[1;32m      6\u001b[0m     \u001b[0mprint\u001b[0m\u001b[0;34m(\u001b[0m\u001b[0;34mf'Gen {generation+1:>3d}: avg - {int(evalution(population))}  /  best - {int(best_sample(population))}'\u001b[0m\u001b[0;34m)\u001b[0m\u001b[0;34m\u001b[0m\u001b[0;34m\u001b[0m\u001b[0m\n\u001b[1;32m      7\u001b[0m \u001b[0;34m\u001b[0m\u001b[0m\n",
      "\u001b[0;32m/tmp/ipykernel_28194/1161558035.py\u001b[0m in \u001b[0;36mmutation\u001b[0;34m(population)\u001b[0m\n\u001b[1;32m     50\u001b[0m     \u001b[0;32mfor\u001b[0m \u001b[0mindex\u001b[0m\u001b[0;34m,\u001b[0m \u001b[0mindividual\u001b[0m \u001b[0;32min\u001b[0m \u001b[0menumerate\u001b[0m\u001b[0;34m(\u001b[0m\u001b[0mpopulation\u001b[0m\u001b[0;34m)\u001b[0m\u001b[0;34m:\u001b[0m\u001b[0;34m\u001b[0m\u001b[0;34m\u001b[0m\u001b[0m\n\u001b[1;32m     51\u001b[0m         \u001b[0mtemp\u001b[0m \u001b[0;34m=\u001b[0m \u001b[0mcopy\u001b[0m\u001b[0;34m.\u001b[0m\u001b[0mdeepcopy\u001b[0m\u001b[0;34m(\u001b[0m\u001b[0mindividual\u001b[0m\u001b[0;34m)\u001b[0m\u001b[0;34m\u001b[0m\u001b[0;34m\u001b[0m\u001b[0m\n\u001b[0;32m---> 52\u001b[0;31m         \u001b[0;32mfor\u001b[0m \u001b[0mi\u001b[0m \u001b[0;32min\u001b[0m \u001b[0mrange\u001b[0m\u001b[0;34m(\u001b[0m\u001b[0mlen\u001b[0m\u001b[0;34m(\u001b[0m\u001b[0mindividual\u001b[0m\u001b[0;34m)\u001b[0m\u001b[0;34m)\u001b[0m\u001b[0;34m:\u001b[0m\u001b[0;34m\u001b[0m\u001b[0;34m\u001b[0m\u001b[0m\n\u001b[0m\u001b[1;32m     53\u001b[0m             \u001b[0;32mif\u001b[0m \u001b[0mrandom\u001b[0m\u001b[0;34m.\u001b[0m\u001b[0mrandom\u001b[0m\u001b[0;34m(\u001b[0m\u001b[0;34m)\u001b[0m \u001b[0;34m<\u001b[0m \u001b[0mmutation_p\u001b[0m\u001b[0;34m:\u001b[0m\u001b[0;34m\u001b[0m\u001b[0;34m\u001b[0m\u001b[0m\n\u001b[1;32m     54\u001b[0m                 \u001b[0mx\u001b[0m \u001b[0;34m=\u001b[0m \u001b[0;34m'0'\u001b[0m \u001b[0;32mif\u001b[0m \u001b[0mtemp\u001b[0m\u001b[0;34m[\u001b[0m\u001b[0mi\u001b[0m\u001b[0;34m]\u001b[0m \u001b[0;34m==\u001b[0m \u001b[0;34m'1'\u001b[0m \u001b[0;32melse\u001b[0m \u001b[0;34m'1'\u001b[0m\u001b[0;34m\u001b[0m\u001b[0;34m\u001b[0m\u001b[0m\n",
      "\u001b[0;31mKeyboardInterrupt\u001b[0m: "
     ]
    }
   ],
   "source": [
    "population = src.initialize()\n",
    "for generation in range(generation_iter):\n",
    "    temp_p = roulette(src.fitness_function, population)\n",
    "    temp_p = crossover(temp_p)\n",
    "    population = mutation(temp_p)\n",
    "    print(f'Gen {generation+1:>3d}: avg - {int(evalution(population))}  /  best - {int(best_sample(population))}')\n",
    "\n",
    "population = src.initialize()\n",
    "for generation in range(generation_iter):\n",
    "    temp_p = tournament(src.fitness_function, population)\n",
    "    temp_p = crossover(temp_p)\n",
    "    population = mutation(temp_p)\n",
    "    print(f'Gen {generation+1:>3d}: avg - {int(evalution(population))}  /  best - {int(best_sample(population))}')"
   ]
  }
 ],
 "metadata": {
  "kernelspec": {
   "display_name": "Python 3 (ipykernel)",
   "language": "python",
   "name": "python3"
  },
  "language_info": {
   "codemirror_mode": {
    "name": "ipython",
    "version": 3
   },
   "file_extension": ".py",
   "mimetype": "text/x-python",
   "name": "python",
   "nbconvert_exporter": "python",
   "pygments_lexer": "ipython3",
   "version": "3.8.0"
  },
  "widgets": {
   "application/vnd.jupyter.widget-state+json": {
    "state": {},
    "version_major": 2,
    "version_minor": 0
   }
  }
 },
 "nbformat": 4,
 "nbformat_minor": 5
}
