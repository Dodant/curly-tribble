{
 "cells": [
  {
   "cell_type": "code",
   "execution_count": 56,
   "id": "c2297a87-6649-4f84-a474-eac2c5c3b02f",
   "metadata": {},
   "outputs": [],
   "source": [
    "import numpy as np\n",
    "\n",
    "def read_data(filename):\n",
    "    with open(filename, 'r') as f:\n",
    "        for line in f:\n",
    "            iwp = line.strip().split()\n",
    "            if len(iwp) >= 5 and iwp[2] == 'cities.':\n",
    "                num_of_cities = int(iwp[1])\n",
    "                break\n",
    "                \n",
    "        distance_matrix = []\n",
    "        for line in f:\n",
    "            distances = line.strip().split(',')\n",
    "            if len(distances) == 1: continue\n",
    "            distance_matrix.append([float(i) for i in distances])\n",
    "    return num_of_cities, np.array(distance_matrix)\n",
    "\n",
    "\n",
    "def fitness_function(route, distance_matrix):\n",
    "    total_distance = 0\n",
    "    for i in range(len(route)-1):\n",
    "        print(distance_matrix[i][i+1])\n",
    "        total_distance += distance_matrix[route[i]][route[i+1]]\n",
    "    return total_distance"
   ]
  },
  {
   "cell_type": "code",
   "execution_count": 57,
   "id": "5bc9976c-ce16-4544-9a40-5d9a3b38201f",
   "metadata": {},
   "outputs": [
    {
     "name": "stdout",
     "output_type": "stream",
     "text": [
      "46.083986\n",
      "55.410533\n",
      "7.839359\n",
      "40.912069\n",
      "74.131882\n",
      "45.711928\n",
      "35.874025\n",
      "69.369825\n",
      "69.567708\n"
     ]
    }
   ],
   "source": [
    "num, MAP = read_data('data(TSP)/data-dummy1.txt')\n",
    "route = [8,0,2,3,9,4,6,7,5,1]\n",
    "td = fitness_function(route, MAP)"
   ]
  },
  {
   "cell_type": "code",
   "execution_count": 58,
   "id": "f7a5d2e5-9b89-498f-ab6f-074b2f74a9f1",
   "metadata": {},
   "outputs": [
    {
     "data": {
      "text/plain": [
       "217.34174099999996"
      ]
     },
     "execution_count": 58,
     "metadata": {},
     "output_type": "execute_result"
    }
   ],
   "source": [
    "td"
   ]
  },
  {
   "cell_type": "code",
   "execution_count": 46,
   "id": "8d4a192e-6ebb-48ac-8ccd-e29cac13ebb7",
   "metadata": {},
   "outputs": [
    {
     "data": {
      "text/plain": [
       "(10, 10)"
      ]
     },
     "execution_count": 46,
     "metadata": {},
     "output_type": "execute_result"
    }
   ],
   "source": [
    "map1.shape"
   ]
  },
  {
   "cell_type": "code",
   "execution_count": 47,
   "id": "7e2bb880-5383-4eaa-b130-633b03d5ae9f",
   "metadata": {},
   "outputs": [
    {
     "data": {
      "text/plain": [
       "numpy.ndarray"
      ]
     },
     "execution_count": 47,
     "metadata": {},
     "output_type": "execute_result"
    }
   ],
   "source": [
    "type(map1)"
   ]
  },
  {
   "cell_type": "code",
   "execution_count": null,
   "id": "b64611d7-0de2-47cb-bdbe-6fba77b565a1",
   "metadata": {},
   "outputs": [],
   "source": []
  }
 ],
 "metadata": {
  "kernelspec": {
   "display_name": "Python 3 (ipykernel)",
   "language": "python",
   "name": "python3"
  },
  "language_info": {
   "codemirror_mode": {
    "name": "ipython",
    "version": 3
   },
   "file_extension": ".py",
   "mimetype": "text/x-python",
   "name": "python",
   "nbconvert_exporter": "python",
   "pygments_lexer": "ipython3",
   "version": "3.8.0"
  },
  "widgets": {
   "application/vnd.jupyter.widget-state+json": {
    "state": {},
    "version_major": 2,
    "version_minor": 0
   }
  }
 },
 "nbformat": 4,
 "nbformat_minor": 5
}
