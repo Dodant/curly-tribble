{
 "cells": [
  {
   "cell_type": "code",
   "execution_count": 218,
   "id": "12302d49-a7c1-4df3-9ca3-c154fb42994b",
   "metadata": {},
   "outputs": [],
   "source": [
    "import source as src\n",
    "import math\n",
    "import random\n",
    "import copy\n",
    "import sys\n",
    "\n",
    "import numpy as np\n",
    "import matplotlib.pyplot as plt"
   ]
  },
  {
   "cell_type": "code",
   "execution_count": 219,
   "id": "9fcf7c51-0cb8-4dd1-9db2-5cfa47832806",
   "metadata": {},
   "outputs": [],
   "source": [
    "CROSS_OVER_P = 0.01\n",
    "MUTATION_P = 0.01\n",
    "GEN_ITERATION = 6000\n",
    "POPULATION_SIZE = 100"
   ]
  },
  {
   "cell_type": "code",
   "execution_count": 220,
   "id": "2856a788-fdf1-427a-b30b-5cd1fdce18dc",
   "metadata": {},
   "outputs": [],
   "source": [
    "def tournament(fitness, population):\n",
    "    for index, individual in enumerate(population):\n",
    "        x = random.randint(0, POPULATION_SIZE-1)\n",
    "        if fitness(individual, DISTANCE_MATRIX) > fitness(population[x], DISTANCE_MATRIX):\n",
    "            population[index] = copy.deepcopy(population[x])\n",
    "    return population\n",
    "\n",
    "\n",
    "def crossover(population):\n",
    "    random.shuffle(population)\n",
    "    for i in range(len(population)):\n",
    "        if random.random() < CROSS_OVER_P:\n",
    "            pos = random.randint(0, len(population[i])-1) + 1\n",
    "            tmp_i_l = copy.deepcopy(population[i][:pos])\n",
    "            tmp_i_u = copy.deepcopy(population[i][pos:])\n",
    "            population[i] = np.append(tmp_i_u, tmp_i_l)\n",
    "    return population\n",
    "\n",
    "\n",
    "def elitism(population, T):\n",
    "    fitness_scores = [src.fitness_function(i, DISTANCE_MATRIX) for i in population]\n",
    "    min_index, max_index = np.argsort(fitness_scores)[:T], np.argsort(fitness_scores)[-T:]\n",
    "    for i in range(T):\n",
    "        population[max_index[i]] = population[min_index[i]]\n",
    "    random.shuffle(population)\n",
    "    return population\n",
    "\n",
    "\n",
    "def mutation(population):\n",
    "    for index, individual in enumerate(population):\n",
    "        temp = copy.deepcopy(individual)\n",
    "        for i in range(len(individual)):\n",
    "            if random.random() < MUTATION_P:\n",
    "                pos = random.randint(0, len(individual)-1)\n",
    "                temp[i], temp[pos] = temp[pos], temp[i]\n",
    "        population[index] = temp\n",
    "    return population\n",
    "\n",
    "\n",
    "def evalution(population):\n",
    "    return np.mean([src.fitness_function(i, DISTANCE_MATRIX) for i in population])\n",
    "\n",
    "\n",
    "def best_sample(population):\n",
    "    return np.min([src.fitness_function(i, DISTANCE_MATRIX) for i in population])"
   ]
  },
  {
   "cell_type": "code",
   "execution_count": 221,
   "id": "a3b26c29-b9cb-4266-a4c8-f25d882be434",
   "metadata": {},
   "outputs": [
    {
     "ename": "SyntaxError",
     "evalue": "f-string: unmatched '(' (3260825595.py, line 27)",
     "output_type": "error",
     "traceback": [
      "\u001b[0;36m  File \u001b[0;32m\"/tmp/ipykernel_7833/3260825595.py\"\u001b[0;36m, line \u001b[0;32m27\u001b[0m\n\u001b[0;31m    txt += f'{str('-'.join(route))}, {fitness}'\u001b[0m\n\u001b[0m           ^\u001b[0m\n\u001b[0;31mSyntaxError\u001b[0m\u001b[0;31m:\u001b[0m f-string: unmatched '('\n"
     ]
    }
   ],
   "source": [
    "for i in range(1, 31):\n",
    "    num_of_cities, DISTANCE_MATRIX = src.read_data(f'data(TSP)/data-{i}.txt')\n",
    "    \n",
    "    population = src.initialize(num_of_cities, POPULATION_SIZE)\n",
    "    aver, best = [], []\n",
    "\n",
    "    for generation in range(GEN_ITERATION):\n",
    "        temp_p = tournament(src.fitness_function, population)\n",
    "    #     temp_p = crossover(temp_p)\n",
    "        population = mutation(temp_p)\n",
    "        aver.append(evalution(population))\n",
    "        best.append(best_sample(population))\n",
    "\n",
    "        if generation % 1000 == 0:\n",
    "            print(f'Gen {generation:>4d}: avg - {int(evalution(population))}  /  best - {int(best_sample(population))}')\n",
    "        population = elitism(population, int(POPULATION_SIZE * 0.1))\n",
    "    \n",
    "    plt.title(\"TSP fitness trace\")\n",
    "    plt.plot(aver, label=\"Fitness, average\")\n",
    "    plt.plot(best, label=\"Fitness, best\")\n",
    "    plt.legend()\n",
    "    plt.savefig(f\"output/trace-{i}.png\")\n",
    "    \n",
    "    txt = \"\"\n",
    "    for route in population:\n",
    "        fitness = src.fitness_function(ind1, DISTANCE_MATRIX)\n",
    "        txt += f'{str('-'.join(route))}, {fitness}'\n",
    "    with open(f\"output/fitness-{i}.txt\", \"w\") as f:\n",
    "        f.write(txt)\n",
    "    print(f'Data - {i}')"
   ]
  },
  {
   "cell_type": "code",
   "execution_count": 213,
   "id": "8a386637-27f6-4395-9439-bd4e910bbaee",
   "metadata": {
    "collapsed": true,
    "jupyter": {
     "outputs_hidden": true
    },
    "tags": []
   },
   "outputs": [
    {
     "name": "stdout",
     "output_type": "stream",
     "text": [
      "Gen    0: avg - 10281  /  best - 9693\n"
     ]
    },
    {
     "ename": "KeyboardInterrupt",
     "evalue": "",
     "output_type": "error",
     "traceback": [
      "\u001b[0;31m---------------------------------------------------------------------------\u001b[0m",
      "\u001b[0;31mKeyboardInterrupt\u001b[0m                         Traceback (most recent call last)",
      "\u001b[0;32m/tmp/ipykernel_7833/177471089.py\u001b[0m in \u001b[0;36m<module>\u001b[0;34m\u001b[0m\n\u001b[1;32m      7\u001b[0m     \u001b[0mpopulation\u001b[0m \u001b[0;34m=\u001b[0m \u001b[0mmutation\u001b[0m\u001b[0;34m(\u001b[0m\u001b[0mtemp_p\u001b[0m\u001b[0;34m)\u001b[0m\u001b[0;34m\u001b[0m\u001b[0;34m\u001b[0m\u001b[0m\n\u001b[1;32m      8\u001b[0m     \u001b[0maver\u001b[0m\u001b[0;34m.\u001b[0m\u001b[0mappend\u001b[0m\u001b[0;34m(\u001b[0m\u001b[0mevalution\u001b[0m\u001b[0;34m(\u001b[0m\u001b[0mpopulation\u001b[0m\u001b[0;34m)\u001b[0m\u001b[0;34m)\u001b[0m\u001b[0;34m\u001b[0m\u001b[0;34m\u001b[0m\u001b[0m\n\u001b[0;32m----> 9\u001b[0;31m     \u001b[0mbest\u001b[0m\u001b[0;34m.\u001b[0m\u001b[0mappend\u001b[0m\u001b[0;34m(\u001b[0m\u001b[0mbest_sample\u001b[0m\u001b[0;34m(\u001b[0m\u001b[0mpopulation\u001b[0m\u001b[0;34m)\u001b[0m\u001b[0;34m)\u001b[0m\u001b[0;34m\u001b[0m\u001b[0;34m\u001b[0m\u001b[0m\n\u001b[0m\u001b[1;32m     10\u001b[0m \u001b[0;34m\u001b[0m\u001b[0m\n\u001b[1;32m     11\u001b[0m     \u001b[0;32mif\u001b[0m \u001b[0mgeneration\u001b[0m \u001b[0;34m%\u001b[0m \u001b[0;36m1000\u001b[0m \u001b[0;34m==\u001b[0m \u001b[0;36m0\u001b[0m\u001b[0;34m:\u001b[0m\u001b[0;34m\u001b[0m\u001b[0;34m\u001b[0m\u001b[0m\n",
      "\u001b[0;32m/tmp/ipykernel_7833/764016362.py\u001b[0m in \u001b[0;36mbest_sample\u001b[0;34m(population)\u001b[0m\n\u001b[1;32m     43\u001b[0m \u001b[0;34m\u001b[0m\u001b[0m\n\u001b[1;32m     44\u001b[0m \u001b[0;32mdef\u001b[0m \u001b[0mbest_sample\u001b[0m\u001b[0;34m(\u001b[0m\u001b[0mpopulation\u001b[0m\u001b[0;34m)\u001b[0m\u001b[0;34m:\u001b[0m\u001b[0;34m\u001b[0m\u001b[0;34m\u001b[0m\u001b[0m\n\u001b[0;32m---> 45\u001b[0;31m     \u001b[0;32mreturn\u001b[0m \u001b[0mnp\u001b[0m\u001b[0;34m.\u001b[0m\u001b[0mmin\u001b[0m\u001b[0;34m(\u001b[0m\u001b[0;34m[\u001b[0m\u001b[0msrc\u001b[0m\u001b[0;34m.\u001b[0m\u001b[0mfitness_function\u001b[0m\u001b[0;34m(\u001b[0m\u001b[0mi\u001b[0m\u001b[0;34m,\u001b[0m \u001b[0mDISTANCE_MATRIX\u001b[0m\u001b[0;34m)\u001b[0m \u001b[0;32mfor\u001b[0m \u001b[0mi\u001b[0m \u001b[0;32min\u001b[0m \u001b[0mpopulation\u001b[0m\u001b[0;34m]\u001b[0m\u001b[0;34m)\u001b[0m\u001b[0;34m\u001b[0m\u001b[0;34m\u001b[0m\u001b[0m\n\u001b[0m",
      "\u001b[0;32m/tmp/ipykernel_7833/764016362.py\u001b[0m in \u001b[0;36m<listcomp>\u001b[0;34m(.0)\u001b[0m\n\u001b[1;32m     43\u001b[0m \u001b[0;34m\u001b[0m\u001b[0m\n\u001b[1;32m     44\u001b[0m \u001b[0;32mdef\u001b[0m \u001b[0mbest_sample\u001b[0m\u001b[0;34m(\u001b[0m\u001b[0mpopulation\u001b[0m\u001b[0;34m)\u001b[0m\u001b[0;34m:\u001b[0m\u001b[0;34m\u001b[0m\u001b[0;34m\u001b[0m\u001b[0m\n\u001b[0;32m---> 45\u001b[0;31m     \u001b[0;32mreturn\u001b[0m \u001b[0mnp\u001b[0m\u001b[0;34m.\u001b[0m\u001b[0mmin\u001b[0m\u001b[0;34m(\u001b[0m\u001b[0;34m[\u001b[0m\u001b[0msrc\u001b[0m\u001b[0;34m.\u001b[0m\u001b[0mfitness_function\u001b[0m\u001b[0;34m(\u001b[0m\u001b[0mi\u001b[0m\u001b[0;34m,\u001b[0m \u001b[0mDISTANCE_MATRIX\u001b[0m\u001b[0;34m)\u001b[0m \u001b[0;32mfor\u001b[0m \u001b[0mi\u001b[0m \u001b[0;32min\u001b[0m \u001b[0mpopulation\u001b[0m\u001b[0;34m]\u001b[0m\u001b[0;34m)\u001b[0m\u001b[0;34m\u001b[0m\u001b[0;34m\u001b[0m\u001b[0m\n\u001b[0m",
      "\u001b[0;32m~/Documents/curly-tribble/Evolutionary AI/Traveling Salesman/source.py\u001b[0m in \u001b[0;36mfitness_function\u001b[0;34m(route, distance_matrix)\u001b[0m\n\u001b[1;32m     21\u001b[0m     \u001b[0mtotal_distance\u001b[0m \u001b[0;34m=\u001b[0m \u001b[0;36m0\u001b[0m\u001b[0;34m\u001b[0m\u001b[0;34m\u001b[0m\u001b[0m\n\u001b[1;32m     22\u001b[0m     \u001b[0;32mfor\u001b[0m \u001b[0mi\u001b[0m \u001b[0;32min\u001b[0m \u001b[0mrange\u001b[0m\u001b[0;34m(\u001b[0m\u001b[0mlen\u001b[0m\u001b[0;34m(\u001b[0m\u001b[0mroute\u001b[0m\u001b[0;34m)\u001b[0m\u001b[0;34m-\u001b[0m\u001b[0;36m1\u001b[0m\u001b[0;34m)\u001b[0m\u001b[0;34m:\u001b[0m\u001b[0;34m\u001b[0m\u001b[0;34m\u001b[0m\u001b[0m\n\u001b[0;32m---> 23\u001b[0;31m         \u001b[0mtotal_distance\u001b[0m \u001b[0;34m+=\u001b[0m \u001b[0mdistance_matrix\u001b[0m\u001b[0;34m[\u001b[0m\u001b[0mroute\u001b[0m\u001b[0;34m[\u001b[0m\u001b[0mi\u001b[0m\u001b[0;34m]\u001b[0m\u001b[0;34m]\u001b[0m\u001b[0;34m[\u001b[0m\u001b[0mroute\u001b[0m\u001b[0;34m[\u001b[0m\u001b[0mi\u001b[0m\u001b[0;34m+\u001b[0m\u001b[0;36m1\u001b[0m\u001b[0;34m]\u001b[0m\u001b[0;34m]\u001b[0m\u001b[0;34m\u001b[0m\u001b[0;34m\u001b[0m\u001b[0m\n\u001b[0m\u001b[1;32m     24\u001b[0m     \u001b[0;32mreturn\u001b[0m \u001b[0mtotal_distance\u001b[0m\u001b[0;34m\u001b[0m\u001b[0;34m\u001b[0m\u001b[0m\n\u001b[1;32m     25\u001b[0m \u001b[0;34m\u001b[0m\u001b[0m\n",
      "\u001b[0;31mKeyboardInterrupt\u001b[0m: "
     ]
    }
   ],
   "source": [
    "num_of_cities, DISTANCE_MATRIX = src.read_data('data(TSP)/data-2.txt')\n",
    "\n",
    "population = src.initialize(num_of_cities, POPULATION_SIZE)\n",
    "aver, best = [], []\n",
    "\n",
    "for generation in range(GEN_ITERATION):\n",
    "    temp_p = tournament(src.fitness_function, population)\n",
    "#     temp_p = crossover(temp_p)\n",
    "    population = mutation(temp_p)\n",
    "    aver.append(evalution(population))\n",
    "    best.append(best_sample(population))\n",
    "    \n",
    "    if generation % 1000 == 0:\n",
    "        print(f'Gen {generation:>4d}: avg - {int(evalution(population))}  /  best - {int(best_sample(population))}')\n",
    "    population = elitism(population, int(POPULATION_SIZE * 0.1))\n"
   ]
  },
  {
   "cell_type": "code",
   "execution_count": 209,
   "id": "9f1e163d-aad4-4a36-bfb3-89fc9e63206f",
   "metadata": {},
   "outputs": [
    {
     "data": {
      "image/png": "[encoded data removed]",
      "text/plain": [
       "<Figure size 432x288 with 1 Axes>"
      ]
     },
     "metadata": {
      "needs_background": "light"
     },
     "output_type": "display_data"
    }
   ],
   "source": [
    "plt.title(\"TSP fitness trace\")\n",
    "plt.plot(aver, label=\"Fitness, average\")\n",
    "plt.plot(best, label=\"Fitness, best\")\n",
    "plt.legend()\n",
    "plt.show()"
   ]
  }
 ],
 "metadata": {
  "kernelspec": {
   "display_name": "Python 3 (ipykernel)",
   "language": "python",
   "name": "python3"
  },
  "language_info": {
   "codemirror_mode": {
    "name": "ipython",
    "version": 3
   },
   "file_extension": ".py",
   "mimetype": "text/x-python",
   "name": "python",
   "nbconvert_exporter": "python",
   "pygments_lexer": "ipython3",
   "version": "3.8.0"
  },
  "widgets": {
   "application/vnd.jupyter.widget-state+json": {
    "state": {},
    "version_major": 2,
    "version_minor": 0
   }
  }
 },
 "nbformat": 4,
 "nbformat_minor": 5
}
