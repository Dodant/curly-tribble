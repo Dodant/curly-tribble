{
 "cells": [
  {
   "cell_type": "code",
   "execution_count": 129,
   "id": "c2297a87-6649-4f84-a474-eac2c5c3b02f",
   "metadata": {},
   "outputs": [],
   "source": [
    "import numpy as np\n",
    "import random \n",
    "\n",
    "def read_data(filename):\n",
    "    with open(filename, 'r') as f:\n",
    "        for line in f:\n",
    "            iwp = line.strip().split()\n",
    "            if len(iwp) >= 5 and iwp[2] == 'cities.':\n",
    "                num_of_cities = int(iwp[1])\n",
    "                break\n",
    "                \n",
    "        distance_matrix = []\n",
    "        for line in f:\n",
    "            distances = line.strip().split(',')\n",
    "            if len(distances) == 1: continue\n",
    "            distance_matrix.append([float(i) for i in distances])\n",
    "    return num_of_cities, np.array(distance_matrix)\n",
    "\n",
    "\n",
    "def fitness_function(route, distance_matrix):\n",
    "    total_distance = 0\n",
    "    for i in range(len(route)-1):\n",
    "        total_distance += distance_matrix[route[i]][route[i+1]]\n",
    "    return total_distance\n",
    "\n",
    "\n",
    "def initialize(num_of_cities, num_of_population):\n",
    "    population = []\n",
    "    for _ in range(num_of_population):\n",
    "        population.append(random.sample(list(range(num_of_cities)), num_of_cities))\n",
    "    return np.array(population)"
   ]
  },
  {
   "cell_type": "code",
   "execution_count": 130,
   "id": "5bc9976c-ce16-4544-9a40-5d9a3b38201f",
   "metadata": {},
   "outputs": [],
   "source": [
    "num, MAP = read_data('data(TSP)/data-dummy1.txt')\n",
    "route = [8,0,2,3,9,4,6,7,5,1]\n",
    "td = fitness_function(route, MAP)"
   ]
  },
  {
   "cell_type": "code",
   "execution_count": 131,
   "id": "f7a5d2e5-9b89-498f-ab6f-074b2f74a9f1",
   "metadata": {},
   "outputs": [
    {
     "name": "stdout",
     "output_type": "stream",
     "text": [
      "10\n"
     ]
    }
   ],
   "source": [
    "pop = initialize(num, 10)\n",
    "print(len(pop))"
   ]
  },
  {
   "cell_type": "code",
   "execution_count": 132,
   "id": "8d4a192e-6ebb-48ac-8ccd-e29cac13ebb7",
   "metadata": {},
   "outputs": [
    {
     "data": {
      "text/plain": [
       "array([[6, 3, 9, 2, 8, 7, 5, 4, 0, 1],\n",
       "       [6, 8, 3, 9, 7, 0, 2, 5, 4, 1],\n",
       "       [2, 6, 1, 7, 4, 9, 0, 3, 5, 8],\n",
       "       [3, 1, 8, 2, 7, 5, 4, 0, 9, 6],\n",
       "       [0, 8, 3, 5, 1, 7, 9, 2, 4, 6],\n",
       "       [3, 8, 9, 4, 1, 2, 0, 7, 6, 5],\n",
       "       [9, 5, 8, 0, 7, 6, 2, 4, 1, 3],\n",
       "       [4, 0, 8, 5, 2, 3, 1, 6, 9, 7],\n",
       "       [4, 5, 1, 0, 3, 6, 2, 9, 8, 7],\n",
       "       [9, 3, 6, 1, 8, 7, 0, 5, 2, 4]])"
      ]
     },
     "execution_count": 132,
     "metadata": {},
     "output_type": "execute_result"
    }
   ],
   "source": [
    "pop"
   ]
  },
  {
   "cell_type": "code",
   "execution_count": 133,
   "id": "7e2bb880-5383-4eaa-b130-633b03d5ae9f",
   "metadata": {},
   "outputs": [
    {
     "name": "stdout",
     "output_type": "stream",
     "text": [
      "402.37789399999997\n",
      "482.785029\n",
      "399.11514800000003\n",
      "454.107325\n",
      "368.36772800000006\n",
      "407.705296\n",
      "485.760889\n",
      "460.0028070000001\n",
      "384.817049\n",
      "441.942297\n"
     ]
    }
   ],
   "source": [
    "for i in pop:\n",
    "    print(fitness_function(i, MAP))"
   ]
  },
  {
   "cell_type": "code",
   "execution_count": null,
   "id": "b64611d7-0de2-47cb-bdbe-6fba77b565a1",
   "metadata": {},
   "outputs": [],
   "source": []
  }
 ],
 "metadata": {
  "kernelspec": {
   "display_name": "Python 3 (ipykernel)",
   "language": "python",
   "name": "python3"
  },
  "language_info": {
   "codemirror_mode": {
    "name": "ipython",
    "version": 3
   },
   "file_extension": ".py",
   "mimetype": "text/x-python",
   "name": "python",
   "nbconvert_exporter": "python",
   "pygments_lexer": "ipython3",
   "version": "3.8.0"
  },
  "widgets": {
   "application/vnd.jupyter.widget-state+json": {
    "state": {},
    "version_major": 2,
    "version_minor": 0
   }
  }
 },
 "nbformat": 4,
 "nbformat_minor": 5
}
