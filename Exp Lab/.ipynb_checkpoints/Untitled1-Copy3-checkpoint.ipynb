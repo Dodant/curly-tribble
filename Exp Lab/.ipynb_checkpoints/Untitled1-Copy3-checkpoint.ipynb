{
 "cells": [
  {
   "cell_type": "code",
   "execution_count": 22,
   "id": "1403a792-6849-4568-9617-267ba1445628",
   "metadata": {},
   "outputs": [],
   "source": [
    "# 'zipcode', 'long' 제거\n",
    "\n",
    "import pandas as pd\n",
    "import numpy as np\n",
    "import torch\n",
    "import torch.nn as nn\n",
    "import torch.nn.functional as F \n",
    "from torch.utils.data import TensorDataset, DataLoader\n",
    "import matplotlib.pyplot as plt\n",
    "\n",
    "train_data = pd.read_csv('dataset/price_data_tr.csv')\n",
    "heldout_data = pd.read_csv('dataset/price_data_val.csv')\n",
    "test_data = pd.read_csv('dataset/price_data_ts.csv')"
   ]
  },
  {
   "cell_type": "code",
   "execution_count": 23,
   "id": "360b6db5-20be-4652-82c3-a155b651e985",
   "metadata": {},
   "outputs": [
    {
     "name": "stdout",
     "output_type": "stream",
     "text": [
      "(12968, 21)\n",
      "(4323, 21)\n",
      "(4322, 21)\n"
     ]
    }
   ],
   "source": [
    "print(train_data.shape)\n",
    "print(heldout_data.shape)\n",
    "print(test_data.shape)"
   ]
  },
  {
   "cell_type": "code",
   "execution_count": 24,
   "id": "e45d02bd-4a3a-42dd-a000-4e50f67aba76",
   "metadata": {},
   "outputs": [],
   "source": [
    "# data.columns\n",
    "# 'id', 'date', \n",
    "# 'price', \n",
    "# 'bedrooms', 'bathrooms', 'sqft_living', 'sqft_lot', 'floors', 'waterfront', 'view', 'condition', 'grade',\n",
    "# 'sqft_above', 'sqft_basement', 'yr_built', 'yr_renovated', 'zipcode', 'lat', 'long', 'sqft_living15', 'sqft_lot15'"
   ]
  },
  {
   "cell_type": "code",
   "execution_count": 25,
   "id": "1e32b9bb-74f2-48a3-9e69-9a93d21f48fd",
   "metadata": {},
   "outputs": [
    {
     "name": "stdout",
     "output_type": "stream",
     "text": [
      "           id             date     price  bedrooms\n",
      "0  1310440590  20150413T000000  440000.0         3\n",
      "1  1437580480  20140918T000000  994000.0         5\n",
      "           id             date     price  bedrooms\n",
      "0  7229800175  20140604T000000  453500.0         5\n",
      "1  3905080870  20150206T000000  510000.0         3\n",
      "           id             date  price  bedrooms\n",
      "0  7000100850  20140926T000000    NaN         4\n",
      "1  4037400280  20140923T000000    NaN         3\n"
     ]
    }
   ],
   "source": [
    "print(train_data.iloc[0:2, [0,1,2,3]])\n",
    "print(heldout_data.iloc[0:2, [0,1,2,3]])\n",
    "print(test_data.iloc[0:2, [0,1,2,3]])"
   ]
  },
  {
   "cell_type": "code",
   "execution_count": 26,
   "id": "483c73e1-f4e9-415c-a4d7-6dfbc95bc287",
   "metadata": {},
   "outputs": [],
   "source": [
    "train_data = train_data.drop(['zipcode', 'long'], axis=1)\n",
    "heldout_data = heldout_data.drop(['zipcode', 'long'], axis=1)\n",
    "test_data = test_data.drop(['zipcode', 'long'], axis=1)"
   ]
  },
  {
   "cell_type": "code",
   "execution_count": 27,
   "id": "41422950-7b02-40d7-af7b-b4c24526a440",
   "metadata": {},
   "outputs": [],
   "source": [
    "nor_train = train_data.iloc[:, 3:-1].apply(lambda x: (x-x.mean()) / (x.std()))\n",
    "nor_heldout = heldout_data.iloc[:, 3:-1].apply(lambda x: (x-x.mean()) / (x.std()))\n",
    "nor_test = test_data.iloc[:, 3:-1].apply(lambda x: (x-x.mean()) / (x.std()))\n",
    "\n",
    "nor_train_price = train_data.iloc[:, 2:3].apply(lambda x: (x-x.mean()) / (x.std()))\n",
    "nor_heldout_price = heldout_data.iloc[:, 2:3].apply(lambda x: (x-x.mean()) / (x.std()))"
   ]
  },
  {
   "cell_type": "code",
   "execution_count": 28,
   "id": "2c3c2c44-e259-4299-b043-228a6c955c4b",
   "metadata": {},
   "outputs": [
    {
     "name": "stdout",
     "output_type": "stream",
     "text": [
      "538744.5078655151 361988.18319089006\n",
      "542645.3518390007 367635.16162767523\n",
      "539719.7752588051 363401.4889145882\n"
     ]
    }
   ],
   "source": [
    "train_label_mean, train_label_std = train_data.iloc[:, 2].mean(), train_data.iloc[:, 2].std()\n",
    "heldout_label_mean, heldout_label_std = heldout_data.iloc[:, 2].mean(), heldout_data.iloc[:, 2].std()\n",
    "print(train_label_mean, train_label_std)\n",
    "print(heldout_label_mean, heldout_label_std)\n",
    "\n",
    "uni_label_mean = pd.concat((train_data.iloc[:, 2], heldout_data.iloc[:, 2])).mean()\n",
    "uni_label_std = pd.concat((train_data.iloc[:, 2], heldout_data.iloc[:, 2])).std()\n",
    "print(uni_label_mean, uni_label_std)"
   ]
  },
  {
   "cell_type": "code",
   "execution_count": 29,
   "id": "05513f29-c2a9-480d-abe7-6110ef902b5d",
   "metadata": {},
   "outputs": [],
   "source": [
    "train_feats = torch.tensor(nor_train.iloc[:, :].values, dtype=torch.float32)\n",
    "train_labels = torch.tensor(nor_train_price.values.reshape(-1, 1), dtype=torch.float32)\n",
    "\n",
    "heldout_feats = torch.tensor(nor_heldout.iloc[:, :].values, dtype=torch.float32)\n",
    "heldout_labels = torch.tensor(nor_heldout_price.values.reshape(-1, 1), dtype=torch.float32)\n",
    "\n",
    "test_feat = torch.tensor(nor_test.iloc[:, :].values, dtype=torch.float32)"
   ]
  },
  {
   "cell_type": "code",
   "execution_count": 30,
   "id": "176a396b-79da-4253-84ce-45d0486ad6da",
   "metadata": {},
   "outputs": [
    {
     "name": "stdout",
     "output_type": "stream",
     "text": [
      "torch.Size([12968, 15])\n",
      "torch.Size([12968, 1])\n",
      "torch.Size([4323, 15])\n",
      "torch.Size([4323, 1])\n",
      "torch.Size([4322, 15])\n"
     ]
    }
   ],
   "source": [
    "print(train_feats.shape)\n",
    "print(train_labels.shape)\n",
    "print(heldout_feats.shape)\n",
    "print(heldout_labels.shape)\n",
    "print(test_feat.shape)"
   ]
  },
  {
   "cell_type": "code",
   "execution_count": 46,
   "id": "4f3d108f-0c22-43c5-9493-a00673124626",
   "metadata": {},
   "outputs": [],
   "source": [
    "n_train, in_features = train_data.shape[0], train_feats.shape[1]\n",
    "\n",
    "\n",
    "class Regressor(nn.Module):\n",
    "    def __init__(self):\n",
    "        super(Regressor, self).__init__()\n",
    "        self.fc1 = nn.Linear(in_features, 32)\n",
    "        self.fc2 = nn.Linear(32, 32)\n",
    "        self.fc3 = nn.Linear(32, 32)\n",
    "        self.fc4 = nn.Linear(32, 16)\n",
    "        self.fc5 = nn.Linear(16, 1)\n",
    "        self.dropout = nn.Dropout(0.2)\n",
    "#         self.relu = nn.ReLU() # trial 5\n",
    "        self.relu = nn.PReLU() # trial 3, 6\n",
    "#         self.relu = nn.SELU() # trial 4, 7\n",
    "#         self.relu = nn.Tanh() # trial 8\n",
    "    \n",
    "    def forward(self, x):\n",
    "        x = self.fc1(x)\n",
    "        x = self.relu(x)\n",
    "        x = self.dropout(x)\n",
    "        \n",
    "        x = self.fc2(x)\n",
    "        x = self.relu(x)\n",
    "        x = self.dropout(x)\n",
    "        \n",
    "        x = self.fc3(x)\n",
    "        x = self.relu(x)\n",
    "        x = self.dropout(x)\n",
    "        \n",
    "        x = self.fc4(x)\n",
    "        x = self.relu(x)\n",
    "#         x = self.dropout(x) # trial 2 유 / 5,6,7 무\n",
    "        \n",
    "        x = self.fc5(x)\n",
    "        return x\n",
    "    \n",
    "def rmse(predictions, targets):\n",
    "    return np.sqrt(((predictions - targets) ** 2).mean())"
   ]
  },
  {
   "cell_type": "code",
   "execution_count": 51,
   "id": "5c37bf10-e693-4362-aea6-cfe86a727fdd",
   "metadata": {},
   "outputs": [],
   "source": [
    "learning_rate = 0.001\n",
    "weight_decay = 0.1\n",
    "batch_size = 512\n",
    "epochs = 100\n",
    "\n",
    "device = torch.device('cuda:0' if torch.cuda.is_available() else 'cpu')\n",
    "net = Regressor().to(device)\n",
    "\n",
    "criterion = torch.nn.MSELoss()\n",
    "# optimizer = torch.optim.Adam(net.parameters(), lr=learning_rate, weight_decay=weight_decay)\n",
    "# optimizer = torch.optim.SGD(net.parameters(), lr=learning_rate, weight_decay=weight_decay)\n",
    "optimizer = torch.optim.AdamW(net.parameters(), lr=learning_rate, weight_decay=weight_decay)\n",
    "# optimizer = torch.optim.Adagrad(net.parameters(), lr=learning_rate, lr_decay=0, weight_decay=weight_decay, initial_accumulator_value=0, eps=1e-10)"
   ]
  },
  {
   "cell_type": "code",
   "execution_count": 52,
   "id": "2bf1f9ed-3b41-42ef-aa67-0b9723cd3988",
   "metadata": {},
   "outputs": [],
   "source": [
    "train_features, train_labels  = train_feats.to(device), train_labels.to(device)\n",
    "test_features, test_labels = heldout_feats.to(device), heldout_labels.to(device)\n",
    "\n",
    "dataset = TensorDataset(train_features, train_labels)\n",
    "dataloader = DataLoader(dataset, batch_size=batch_size)\n",
    "\n",
    "train_ls, test_ls = [], []\n",
    "\n",
    "for epoch in range(800):\n",
    "    for inputs, labels in dataloader:\n",
    "        optimizer.zero_grad()\n",
    "        outputs = net(inputs)\n",
    "        loss = criterion(outputs, labels)\n",
    "        loss.backward()\n",
    "        optimizer.step()\n",
    "    \n",
    "    train_rmse = np.sqrt(criterion(net(train_features), train_labels).item())\n",
    "    test_rmse = np.sqrt(criterion(net(test_features), test_labels).item())\n",
    "    \n",
    "    train_ls.append(train_rmse)\n",
    "    test_ls.append(test_rmse)"
   ]
  },
  {
   "cell_type": "code",
   "execution_count": 53,
   "id": "ca39507a-ee18-4e51-b5e6-cdad3d36b3cb",
   "metadata": {},
   "outputs": [
    {
     "data": {
      "image/png": "[encoded data removed]",
      "text/plain": [
       "<Figure size 432x288 with 1 Axes>"
      ]
     },
     "metadata": {
      "needs_background": "light"
     },
     "output_type": "display_data"
    },
    {
     "name": "stdout",
     "output_type": "stream",
     "text": [
      "0.37612430592603147 0.4379121337835085\n"
     ]
    }
   ],
   "source": [
    "plt.plot(train_ls)\n",
    "plt.plot(test_ls)\n",
    "plt.show()\n",
    "\n",
    "print(train_ls[-1], test_ls[-1])"
   ]
  },
  {
   "cell_type": "code",
   "execution_count": 54,
   "id": "7fa60f96-cc3d-49c4-ab2f-8801685caff3",
   "metadata": {},
   "outputs": [
    {
     "name": "stdout",
     "output_type": "stream",
     "text": [
      "155582.76633194942\n",
      "155332.17081449024\n",
      "155495.53399939204\n"
     ]
    }
   ],
   "source": [
    "predicts = net(test_features).to('cpu').detach().numpy()\n",
    "\n",
    "train_predicts = predicts * train_label_std + train_label_mean\n",
    "held_predicts = predicts * heldout_label_std + heldout_label_mean\n",
    "uni_predicts = predicts * uni_label_std + uni_label_mean\n",
    "\n",
    "rmse_train = rmse(train_predicts, heldout_data.iloc[:, [2]].values)\n",
    "rmse_held = rmse(held_predicts, heldout_data.iloc[:, [2]].values)\n",
    "rmse_uni = rmse(uni_predicts, heldout_data.iloc[:, [2]].values)\n",
    "\n",
    "print(rmse_train)\n",
    "print(rmse_held)\n",
    "print(rmse_uni)"
   ]
  },
  {
   "cell_type": "code",
   "execution_count": null,
   "id": "765c41fe-68f4-41d7-8751-e74fe5138a2f",
   "metadata": {},
   "outputs": [],
   "source": []
  },
  {
   "cell_type": "code",
   "execution_count": null,
   "id": "ab02e530-d271-401c-81bf-8768894710ee",
   "metadata": {},
   "outputs": [],
   "source": []
  }
 ],
 "metadata": {
  "kernelspec": {
   "display_name": "Python 3 (ipykernel)",
   "language": "python",
   "name": "python3"
  },
  "language_info": {
   "codemirror_mode": {
    "name": "ipython",
    "version": 3
   },
   "file_extension": ".py",
   "mimetype": "text/x-python",
   "name": "python",
   "nbconvert_exporter": "python",
   "pygments_lexer": "ipython3",
   "version": "3.8.0"
  },
  "widgets": {
   "application/vnd.jupyter.widget-state+json": {
    "state": {},
    "version_major": 2,
    "version_minor": 0
   }
  }
 },
 "nbformat": 4,
 "nbformat_minor": 5
}
