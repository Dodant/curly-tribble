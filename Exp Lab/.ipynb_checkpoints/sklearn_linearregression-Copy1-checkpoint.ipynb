{
 "cells": [
  {
   "cell_type": "code",
   "execution_count": 24,
   "id": "30b2ba81-5881-4aae-9a8d-b33363462968",
   "metadata": {},
   "outputs": [],
   "source": [
    "import numpy as np\n",
    "from sklearn.linear_model import LinearRegression\n",
    "\n",
    "import math\n",
    "\n",
    "import pandas as pd\n",
    "import numpy as np\n",
    "import torch\n",
    "import torch.nn as nn\n",
    "import torch.nn.functional as F \n",
    "from torch.utils.data import TensorDataset, DataLoader\n",
    "import matplotlib.pyplot as plt\n",
    "\n",
    "train_data = pd.read_csv('dataset/price_data_tr.csv')\n",
    "heldout_data = pd.read_csv('dataset/price_data_val.csv')\n",
    "test_data = pd.read_csv('dataset/price_data_ts.csv')"
   ]
  },
  {
   "cell_type": "code",
   "execution_count": 25,
   "id": "a95191ee-d0b2-490a-ba10-08fa8a079065",
   "metadata": {},
   "outputs": [],
   "source": [
    "# 최신 연도로 바꾸고 기존 yr_bult, yr_renovated 삭제\n",
    "train_data['yr_max'] = np.maximum(np.array(train_data.yr_built), np.array(train_data.yr_renovated))\n",
    "train_data = train_data.drop(['yr_built','yr_renovated'], axis=1)\n",
    "\n",
    "heldout_data['yr_max'] = np.maximum(np.array(heldout_data.yr_built), np.array(heldout_data.yr_renovated))\n",
    "heldout_data = heldout_data.drop(['yr_built','yr_renovated'], axis=1)\n",
    "\n",
    "test_data['yr_max'] = np.maximum(np.array(test_data.yr_built), np.array(test_data.yr_renovated))\n",
    "test_data = test_data.drop(['yr_built','yr_renovated'], axis=1)"
   ]
  },
  {
   "cell_type": "code",
   "execution_count": 26,
   "id": "0681448d-b1b2-4eda-af30-ce7099406915",
   "metadata": {},
   "outputs": [],
   "source": [
    "# drop zipcode\n",
    "train_data['zipcode'] = -train_data['zipcode']\n",
    "heldout_data['zipcode'] = -heldout_data['zipcode']\n",
    "test_data['zipcode'] = -test_data['zipcode']"
   ]
  },
  {
   "cell_type": "code",
   "execution_count": 27,
   "id": "01f89f08-f401-46eb-a337-88c2f3bd9671",
   "metadata": {},
   "outputs": [],
   "source": [
    "e, pi, r2, re = math.e, math.pi, 2 ** 0.5, math.e ** 0.5\n",
    "\n",
    "# bathrooms\n",
    "train_data['bathrooms'] = train_data['bathrooms'].apply(lambda x: x**r2)\n",
    "# sqft_lot\n",
    "train_data['sqft_lot'] = train_data['sqft_lot'].apply(lambda x: x**(1/pi))\n",
    "# floors\n",
    "train_data['floors'] = train_data['floors'].apply(lambda x: x**(1/(pi**pi)))\n",
    "# waterfront\n",
    "train_data['waterfront'] = train_data['waterfront'].apply(lambda x: x**(e**e))\n",
    "# condition\n",
    "train_data['condition'] = train_data['condition'].apply(lambda x: x**(pi**2))\n",
    "# grade\n",
    "train_data['grade'] = train_data['grade'].apply(lambda x: x**(re**re))\n",
    "# sqft_basement\n",
    "train_data['sqft_basement'] = train_data['sqft_basement'].apply(lambda x: x**(r2**r2))\n",
    "# lat\n",
    "train_data['lat'] = train_data['lat'].apply(lambda x: x**(1/(pi**pi)))\n",
    "# sqft_lot15\n",
    "train_data['sqft_lot15'] = train_data['sqft_lot15'].apply(lambda x: x**(1/pi))\n",
    "# yr_max\n",
    "train_data['yr_max'] = train_data['yr_max'].apply(lambda x: x**(e**2))\n",
    "\n",
    "\n",
    "# bathrooms\n",
    "heldout_data['bathrooms'] = heldout_data['bathrooms'].apply(lambda x: x**r2)\n",
    "# sqft_lot\n",
    "heldout_data['sqft_lot'] = heldout_data['sqft_lot'].apply(lambda x: x**(1/pi))\n",
    "# floors\n",
    "heldout_data['floors'] = heldout_data['floors'].apply(lambda x: x**(1/(pi**pi)))\n",
    "# waterfront\n",
    "heldout_data['waterfront'] = heldout_data['waterfront'].apply(lambda x: x**(e**e))\n",
    "# condition\n",
    "heldout_data['condition'] = heldout_data['condition'].apply(lambda x: x**(pi**2))\n",
    "# grade\n",
    "heldout_data['grade'] = heldout_data['grade'].apply(lambda x: x**(re**re))\n",
    "# sqft_basement\n",
    "heldout_data['sqft_basement'] = heldout_data['sqft_basement'].apply(lambda x: x**(r2**r2))\n",
    "# lat\n",
    "heldout_data['lat'] = heldout_data['lat'].apply(lambda x: x**(1/(pi**pi)))\n",
    "# sqft_lot15\n",
    "heldout_data['sqft_lot15'] = heldout_data['sqft_lot15'].apply(lambda x: x**(1/pi))\n",
    "# yr_max\n",
    "heldout_data['yr_max'] = heldout_data['yr_max'].apply(lambda x: x**(e**2))\n",
    "\n",
    "\n",
    "# bathrooms\n",
    "test_data['bathrooms'] = test_data['bathrooms'].apply(lambda x: x**r2)\n",
    "# sqft_lot\n",
    "test_data['sqft_lot'] = test_data['sqft_lot'].apply(lambda x: x**(1/pi))\n",
    "# floors\n",
    "test_data['floors'] = test_data['floors'].apply(lambda x: x**(1/(pi**pi)))\n",
    "# waterfront\n",
    "test_data['waterfront'] = test_data['waterfront'].apply(lambda x: x**(e**e))\n",
    "# condition\n",
    "test_data['condition'] = test_data['condition'].apply(lambda x: x**(pi**2))\n",
    "# grade\n",
    "test_data['grade'] = test_data['grade'].apply(lambda x: x**(re**re))\n",
    "# sqft_basement\n",
    "test_data['sqft_basement'] = test_data['sqft_basement'].apply(lambda x: x**(r2**r2))\n",
    "# lat\n",
    "test_data['lat'] = test_data['lat'].apply(lambda x: x**(1/(pi**pi)))\n",
    "# sqft_lot15\n",
    "test_data['sqft_lot15'] = test_data['sqft_lot15'].apply(lambda x: x**(1/pi))\n",
    "# yr_max\n",
    "test_data['yr_max'] = test_data['yr_max'].apply(lambda x: x**(e**2))"
   ]
  },
  {
   "cell_type": "code",
   "execution_count": 28,
   "id": "d2dffca7-12b4-47a1-a172-3d124eb05172",
   "metadata": {},
   "outputs": [],
   "source": [
    "nor_train = train_data.iloc[:, 3:].apply(lambda x: (x-x.mean()) / (x.std()))\n",
    "nor_heldout = heldout_data.iloc[:, 3:].apply(lambda x: (x-x.mean()) / (x.std()))\n",
    "nor_test = test_data.iloc[:, 3:].apply(lambda x: (x-x.mean()) / (x.std()))\n",
    "\n",
    "nor_log_train_price = np.log(train_data.iloc[:, 2:3]).apply(lambda x: (x-x.mean()) / (x.std()))\n",
    "nor_log_heldout_price = np.log(heldout_data.iloc[:, 2:3]).apply(lambda x: (x-x.mean()) / (x.std()))"
   ]
  },
  {
   "cell_type": "code",
   "execution_count": 29,
   "id": "c8cc14c3-5898-4db8-aa5d-50a217c95f73",
   "metadata": {},
   "outputs": [
    {
     "name": "stdout",
     "output_type": "stream",
     "text": [
      "13.04810655020148 0.5220080959315785\n",
      "13.048257499579405 0.5355929705203868\n",
      "13.048144289728448 0.5254218546587482\n"
     ]
    }
   ],
   "source": [
    "train_log_label_mean, train_log_label_std = np.log(train_data.iloc[:, 2]).mean(), np.log(train_data.iloc[:, 2]).std()\n",
    "print(train_log_label_mean, train_log_label_std)\n",
    "\n",
    "heldout_log_label_mean, heldout_log_label_std = np.log(heldout_data.iloc[:, 2]).mean(), np.log(heldout_data.iloc[:, 2]).std()\n",
    "print(heldout_log_label_mean, heldout_log_label_std)\n",
    "\n",
    "uni_log_label_mean = np.log(pd.concat((train_data.iloc[:, 2], heldout_data.iloc[:, 2]))).mean()\n",
    "uni_log_label_std = np.log(pd.concat((train_data.iloc[:, 2], heldout_data.iloc[:, 2]))).std()\n",
    "print(uni_log_label_mean, uni_log_label_std)\n",
    "\n",
    "def rmse(predictions, targets):\n",
    "    return np.sqrt(((predictions - targets) ** 2).mean())"
   ]
  },
  {
   "cell_type": "code",
   "execution_count": 30,
   "id": "f749890d-ba3c-4813-ace7-5336693e34e2",
   "metadata": {},
   "outputs": [],
   "source": [
    "train_feats = np.array(nor_train.iloc[:, :].values)\n",
    "train_labels = np.array(nor_log_train_price.values.reshape(-1, 1))\n",
    "\n",
    "heldout_feats = np.array(nor_heldout.iloc[:, :].values)\n",
    "heldout_labels = np.array(nor_log_heldout_price.values.reshape(-1, 1))\n",
    "\n",
    "test_feat = np.array(nor_test.iloc[:, :].values)"
   ]
  },
  {
   "cell_type": "code",
   "execution_count": 31,
   "id": "b33b8fb0-70cf-4909-91be-beb071910861",
   "metadata": {},
   "outputs": [
    {
     "data": {
      "text/plain": [
       "(12968, 17)"
      ]
     },
     "execution_count": 31,
     "metadata": {},
     "output_type": "execute_result"
    }
   ],
   "source": [
    "train_feats.shape"
   ]
  },
  {
   "cell_type": "code",
   "execution_count": 32,
   "id": "e6011654-f92d-4981-9e71-66f953086747",
   "metadata": {},
   "outputs": [
    {
     "data": {
      "text/plain": [
       "(12968, 1)"
      ]
     },
     "execution_count": 32,
     "metadata": {},
     "output_type": "execute_result"
    }
   ],
   "source": [
    "train_labels.shape"
   ]
  },
  {
   "cell_type": "code",
   "execution_count": 33,
   "id": "025b96f5-b7eb-4044-9dd9-75bc80317582",
   "metadata": {},
   "outputs": [
    {
     "data": {
      "text/plain": [
       "0.7513356555263737"
      ]
     },
     "execution_count": 33,
     "metadata": {},
     "output_type": "execute_result"
    }
   ],
   "source": [
    "reg = LinearRegression().fit(train_feats, train_labels)\n",
    "reg.score(train_feats, train_labels)"
   ]
  },
  {
   "cell_type": "code",
   "execution_count": 35,
   "id": "5803689f-cc6e-4118-8705-2f76e6020e6a",
   "metadata": {},
   "outputs": [
    {
     "name": "stdout",
     "output_type": "stream",
     "text": [
      "196482.16820391844\n",
      "200494.20169127468\n",
      "197331.7907591412\n"
     ]
    }
   ],
   "source": [
    "predicts = reg.predict(heldout_feats)\n",
    "\n",
    "train_predicts = np.exp(predicts * train_log_label_std + train_log_label_mean)\n",
    "held_predicts = np.exp(predicts * heldout_log_label_std + heldout_log_label_mean)\n",
    "uni_predicts = np.exp(predicts * uni_log_label_std + uni_log_label_mean)\n",
    "    \n",
    "rmse_train = rmse(train_predicts, heldout_data.iloc[:, [2]].values)\n",
    "rmse_held = rmse(held_predicts, heldout_data.iloc[:, [2]].values)\n",
    "rmse_uni = rmse(uni_predicts, heldout_data.iloc[:, [2]].values)\n",
    "\n",
    "print(rmse_train)\n",
    "print(rmse_held)\n",
    "print(rmse_uni)"
   ]
  },
  {
   "cell_type": "code",
   "execution_count": null,
   "id": "ba4258a5-cdec-403d-8059-8b46330e8dc6",
   "metadata": {},
   "outputs": [],
   "source": []
  },
  {
   "cell_type": "code",
   "execution_count": null,
   "id": "bdd44c7a-3dc0-4840-a41e-9a1bcd19b333",
   "metadata": {},
   "outputs": [],
   "source": []
  },
  {
   "cell_type": "code",
   "execution_count": null,
   "id": "33ea6431-6bda-4943-803f-3fc973c2ee7f",
   "metadata": {},
   "outputs": [],
   "source": []
  },
  {
   "cell_type": "code",
   "execution_count": 21,
   "id": "013d5caf-bd5c-4b03-93a3-388713aa97ea",
   "metadata": {},
   "outputs": [
    {
     "data": {
      "text/plain": [
       "array([[429075.33204722],\n",
       "       [432547.73680895],\n",
       "       [241741.14347606],\n",
       "       ...,\n",
       "       [634670.83133893],\n",
       "       [495539.89436785],\n",
       "       [483015.11166743]])"
      ]
     },
     "execution_count": 21,
     "metadata": {},
     "output_type": "execute_result"
    }
   ],
   "source": [
    "final_predict = reg.predict(test_feat)\n",
    "final_predict = np.exp(final_predict * uni_log_label_std + uni_log_label_mean)\n",
    "final_predict"
   ]
  },
  {
   "cell_type": "code",
   "execution_count": 22,
   "id": "6d873e60-22fe-459e-b268-84a94621548a",
   "metadata": {},
   "outputs": [
    {
     "data": {
      "text/html": [
       "<div>\n",
       "<style scoped>\n",
       "    .dataframe tbody tr th:only-of-type {\n",
       "        vertical-align: middle;\n",
       "    }\n",
       "\n",
       "    .dataframe tbody tr th {\n",
       "        vertical-align: top;\n",
       "    }\n",
       "\n",
       "    .dataframe thead th {\n",
       "        text-align: right;\n",
       "    }\n",
       "</style>\n",
       "<table border=\"1\" class=\"dataframe\">\n",
       "  <thead>\n",
       "    <tr style=\"text-align: right;\">\n",
       "      <th></th>\n",
       "      <th>id</th>\n",
       "      <th>price</th>\n",
       "    </tr>\n",
       "  </thead>\n",
       "  <tbody>\n",
       "    <tr>\n",
       "      <th>0</th>\n",
       "      <td>700010085020140926T000000</td>\n",
       "      <td>429075.332047</td>\n",
       "    </tr>\n",
       "    <tr>\n",
       "      <th>1</th>\n",
       "      <td>403740028020140923T000000</td>\n",
       "      <td>432547.736809</td>\n",
       "    </tr>\n",
       "    <tr>\n",
       "      <th>2</th>\n",
       "      <td>142340016020140618T000000</td>\n",
       "      <td>241741.143476</td>\n",
       "    </tr>\n",
       "    <tr>\n",
       "      <th>3</th>\n",
       "      <td>776740006020141119T000000</td>\n",
       "      <td>649340.995377</td>\n",
       "    </tr>\n",
       "    <tr>\n",
       "      <th>4</th>\n",
       "      <td>946590050020140617T000000</td>\n",
       "      <td>852638.753103</td>\n",
       "    </tr>\n",
       "    <tr>\n",
       "      <th>...</th>\n",
       "      <td>...</td>\n",
       "      <td>...</td>\n",
       "    </tr>\n",
       "    <tr>\n",
       "      <th>4317</th>\n",
       "      <td>733822037020141006T000000</td>\n",
       "      <td>347053.852664</td>\n",
       "    </tr>\n",
       "    <tr>\n",
       "      <th>4318</th>\n",
       "      <td>681910015020140721T000000</td>\n",
       "      <td>516446.500476</td>\n",
       "    </tr>\n",
       "    <tr>\n",
       "      <th>4319</th>\n",
       "      <td>082405914020140527T000000</td>\n",
       "      <td>634670.831339</td>\n",
       "    </tr>\n",
       "    <tr>\n",
       "      <th>4320</th>\n",
       "      <td>051450009020140513T000000</td>\n",
       "      <td>495539.894368</td>\n",
       "    </tr>\n",
       "    <tr>\n",
       "      <th>4321</th>\n",
       "      <td>770180005020140625T000000</td>\n",
       "      <td>483015.111667</td>\n",
       "    </tr>\n",
       "  </tbody>\n",
       "</table>\n",
       "<p>4322 rows × 2 columns</p>\n",
       "</div>"
      ],
      "text/plain": [
       "                             id          price\n",
       "0     700010085020140926T000000  429075.332047\n",
       "1     403740028020140923T000000  432547.736809\n",
       "2     142340016020140618T000000  241741.143476\n",
       "3     776740006020141119T000000  649340.995377\n",
       "4     946590050020140617T000000  852638.753103\n",
       "...                         ...            ...\n",
       "4317  733822037020141006T000000  347053.852664\n",
       "4318  681910015020140721T000000  516446.500476\n",
       "4319  082405914020140527T000000  634670.831339\n",
       "4320  051450009020140513T000000  495539.894368\n",
       "4321  770180005020140625T000000  483015.111667\n",
       "\n",
       "[4322 rows x 2 columns]"
      ]
     },
     "execution_count": 22,
     "metadata": {},
     "output_type": "execute_result"
    }
   ],
   "source": [
    "test_data = pd.read_csv('dataset/price_data_ts.csv')\n",
    "test_data['price'] = final_predict\n",
    "\n",
    "test_data['id'] = test_data['id'].apply(lambda x : str(x) if len(str(x)) == 10 else '0' + str(x) if len(str(x)) == 9 else '00' + str(x))\n",
    "test_data['id'] = test_data['id'].astype(str) + test_data['date'].astype(str)\n",
    "submission = pd.concat([test_data['id'], test_data['price']], axis=1)\n",
    "submission"
   ]
  },
  {
   "cell_type": "code",
   "execution_count": null,
   "id": "33bc1b8d-5977-430f-ab56-1f40e13446ab",
   "metadata": {},
   "outputs": [],
   "source": []
  }
 ],
 "metadata": {
  "kernelspec": {
   "display_name": "Python 3 (ipykernel)",
   "language": "python",
   "name": "python3"
  },
  "language_info": {
   "codemirror_mode": {
    "name": "ipython",
    "version": 3
   },
   "file_extension": ".py",
   "mimetype": "text/x-python",
   "name": "python",
   "nbconvert_exporter": "python",
   "pygments_lexer": "ipython3",
   "version": "3.8.0"
  },
  "widgets": {
   "application/vnd.jupyter.widget-state+json": {
    "state": {},
    "version_major": 2,
    "version_minor": 0
   }
  }
 },
 "nbformat": 4,
 "nbformat_minor": 5
}
