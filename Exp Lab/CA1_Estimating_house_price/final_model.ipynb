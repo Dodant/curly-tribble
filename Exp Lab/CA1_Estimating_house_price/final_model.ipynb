{
 "cells": [
  {
   "cell_type": "code",
   "execution_count": 493,
   "id": "8651bac5-ea5c-4ffa-9522-716e50578359",
   "metadata": {
    "tags": []
   },
   "outputs": [],
   "source": [
    "import math\n",
    "\n",
    "import pandas as pd\n",
    "import numpy as np\n",
    "import torch\n",
    "import torch.nn as nn\n",
    "import torch.nn.functional as F \n",
    "from torch.utils.data import TensorDataset, DataLoader\n",
    "import matplotlib.pyplot as plt\n",
    "\n",
    "train_data = pd.read_csv('dataset/price_data_tr.csv')\n",
    "heldout_data = pd.read_csv('dataset/price_data_val.csv')\n",
    "test_data = pd.read_csv('dataset/price_data_ts.csv')"
   ]
  },
  {
   "cell_type": "code",
   "execution_count": 494,
   "id": "c411b0d0-c7f7-4c8a-b166-5128c5d00735",
   "metadata": {
    "tags": []
   },
   "outputs": [],
   "source": [
    "#print(train_data.shape) #(12968, 21)\n",
    "#print(heldout_data.shape) #(4323, 21)\n",
    "#print(test_data.shape) #(4322, 21)\n",
    "\n",
    "# data.columns\n",
    "# 'id', 'date', \n",
    "# 'price', \n",
    "# 'bedrooms', 'bathrooms', 'sqft_living', 'sqft_lot', 'floors', 'waterfront', 'view', 'condition', 'grade',\n",
    "# 'sqft_above', 'sqft_basement', 'yr_built', 'yr_renovated', 'zipcode', 'lat', 'long', 'sqft_living15', 'sqft_lot15'"
   ]
  },
  {
   "cell_type": "code",
   "execution_count": 495,
   "id": "a7b41efa-8b62-4735-b398-c9d5ffe06249",
   "metadata": {},
   "outputs": [],
   "source": [
    "# 최신 연도로 바꾸고 기존 yr_bult, yr_renovated 삭제\n",
    "train_data['yr_max'] = np.maximum(np.array(train_data.yr_built), np.array(train_data.yr_renovated))\n",
    "train_data = train_data.drop(['yr_built','yr_renovated'], axis=1)\n",
    "\n",
    "heldout_data['yr_max'] = np.maximum(np.array(heldout_data.yr_built), np.array(heldout_data.yr_renovated))\n",
    "heldout_data = heldout_data.drop(['yr_built','yr_renovated'], axis=1)\n",
    "\n",
    "test_data['yr_max'] = np.maximum(np.array(test_data.yr_built), np.array(test_data.yr_renovated))\n",
    "test_data = test_data.drop(['yr_built','yr_renovated'], axis=1)"
   ]
  },
  {
   "cell_type": "code",
   "execution_count": 496,
   "id": "7c530fa7-9bc0-43b5-8df2-622a5e1ed1a8",
   "metadata": {},
   "outputs": [],
   "source": [
    "# -drop\n",
    "train_data['zipcode'] = -train_data['zipcode']\n",
    "heldout_data['zipcode'] = -heldout_data['zipcode']\n",
    "test_data['zipcode'] = -test_data['zipcode']"
   ]
  },
  {
   "cell_type": "code",
   "execution_count": 497,
   "id": "9d69f927-0691-4ecf-8cfa-6fac592ea025",
   "metadata": {},
   "outputs": [],
   "source": [
    "e, pi, r2, re = math.e, math.pi, 2 ** 0.5, math.e ** 0.5\n",
    "\n",
    "## apple lambda exp. for each features\n",
    "# bathrooms\n",
    "train_data['bathrooms'] = train_data['bathrooms'].apply(lambda x: x**r2)\n",
    "# sqft_lot\n",
    "train_data['sqft_lot'] = train_data['sqft_lot'].apply(lambda x: x**(1/pi))\n",
    "# floors\n",
    "train_data['floors'] = train_data['floors'].apply(lambda x: x**(1/(pi**pi)))\n",
    "# waterfront\n",
    "train_data['waterfront'] = train_data['waterfront'].apply(lambda x: x**(e**e))\n",
    "# condition\n",
    "train_data['condition'] = train_data['condition'].apply(lambda x: x**(pi**2))\n",
    "# grade\n",
    "train_data['grade'] = train_data['grade'].apply(lambda x: x**(re**re))\n",
    "# sqft_basement\n",
    "train_data['sqft_basement'] = train_data['sqft_basement'].apply(lambda x: x**(r2**r2))\n",
    "# lat\n",
    "train_data['lat'] = train_data['lat'].apply(lambda x: x**(1/(pi**pi)))\n",
    "# sqft_lot15\n",
    "train_data['sqft_lot15'] = train_data['sqft_lot15'].apply(lambda x: x**(1/pi))\n",
    "# yr_max\n",
    "train_data['yr_max'] = train_data['yr_max'].apply(lambda x: x**(e**2))\n",
    "\n",
    "\n",
    "heldout_data['bathrooms'] = heldout_data['bathrooms'].apply(lambda x: x**r2)\n",
    "heldout_data['sqft_lot'] = heldout_data['sqft_lot'].apply(lambda x: x**(1/pi))\n",
    "heldout_data['floors'] = heldout_data['floors'].apply(lambda x: x**(1/(pi**pi)))\n",
    "heldout_data['waterfront'] = heldout_data['waterfront'].apply(lambda x: x**(e**e))\n",
    "heldout_data['condition'] = heldout_data['condition'].apply(lambda x: x**(pi**2))\n",
    "heldout_data['grade'] = heldout_data['grade'].apply(lambda x: x**(re**re))\n",
    "heldout_data['sqft_basement'] = heldout_data['sqft_basement'].apply(lambda x: x**(r2**r2))\n",
    "heldout_data['lat'] = heldout_data['lat'].apply(lambda x: x**(1/(pi**pi)))\n",
    "heldout_data['sqft_lot15'] = heldout_data['sqft_lot15'].apply(lambda x: x**(1/pi))\n",
    "heldout_data['yr_max'] = heldout_data['yr_max'].apply(lambda x: x**(e**2))\n",
    "\n",
    "\n",
    "test_data['bathrooms'] = test_data['bathrooms'].apply(lambda x: x**r2)\n",
    "test_data['sqft_lot'] = test_data['sqft_lot'].apply(lambda x: x**(1/pi))\n",
    "test_data['floors'] = test_data['floors'].apply(lambda x: x**(1/(pi**pi)))\n",
    "test_data['waterfront'] = test_data['waterfront'].apply(lambda x: x**(e**e))\n",
    "test_data['condition'] = test_data['condition'].apply(lambda x: x**(pi**2))\n",
    "test_data['grade'] = test_data['grade'].apply(lambda x: x**(re**re))\n",
    "test_data['sqft_basement'] = test_data['sqft_basement'].apply(lambda x: x**(r2**r2))\n",
    "test_data['lat'] = test_data['lat'].apply(lambda x: x**(1/(pi**pi)))\n",
    "test_data['sqft_lot15'] = test_data['sqft_lot15'].apply(lambda x: x**(1/pi))\n",
    "test_data['yr_max'] = test_data['yr_max'].apply(lambda x: x**(e**2))"
   ]
  },
  {
   "cell_type": "code",
   "execution_count": 498,
   "id": "4dad1c57-d226-4a8b-8127-303e1fcac632",
   "metadata": {},
   "outputs": [],
   "source": [
    "# normalize features and prices\n",
    "nor_train = train_data.iloc[:, 3:].apply(lambda x: (x-x.mean()) / x.std())\n",
    "nor_heldout = heldout_data.iloc[:, 3:].apply(lambda x: (x-x.mean()) / x.std())\n",
    "\n",
    "nor_log_train_price = np.log(train_data.iloc[:, 2:3]).apply(lambda x: (x-x.mean()) / x.std())\n",
    "nor_log_heldout_price = np.log(heldout_data.iloc[:, 2:3]).apply(lambda x: (x-x.mean()) / x.std())\n",
    "\n",
    "nor_test = test_data.iloc[:, 3:].apply(lambda x: (x-x.mean()) / x.std())"
   ]
  },
  {
   "cell_type": "code",
   "execution_count": 499,
   "id": "386bcb9d-b2c2-4ae7-be46-340de3b95756",
   "metadata": {},
   "outputs": [
    {
     "name": "stdout",
     "output_type": "stream",
     "text": [
      "13.04810655020148 0.5220080959315785\n",
      "13.048257499579405 0.5355929705203868\n",
      "13.048144289728448 0.5254218546587482\n"
     ]
    }
   ],
   "source": [
    "# log(price) - mean, std for make predictions\n",
    "train_log_label_mean, train_log_label_std = np.log(train_data['price']).mean(), np.log(train_data['price']).std()\n",
    "print(train_log_label_mean, train_log_label_std)\n",
    "\n",
    "heldout_log_label_mean, heldout_log_label_std = np.log(heldout_data['price']).mean(), np.log(heldout_data['price']).std()\n",
    "print(heldout_log_label_mean, heldout_log_label_std)\n",
    "\n",
    "uni_log_label_mean = np.log(pd.concat((train_data['price'], heldout_data['price']))).mean()\n",
    "uni_log_label_std = np.log(pd.concat((train_data['price'], heldout_data['price']))).std()\n",
    "print(uni_log_label_mean, uni_log_label_std)"
   ]
  },
  {
   "cell_type": "code",
   "execution_count": 500,
   "id": "17e6c4cb-ee51-4fa8-953b-4dca90b6c243",
   "metadata": {},
   "outputs": [],
   "source": [
    "# numpy to tensor\n",
    "train_feats = torch.tensor(nor_train.iloc[:, :].values, dtype=torch.float32)\n",
    "heldout_feats = torch.tensor(nor_heldout.iloc[:, :].values, dtype=torch.float32)\n",
    "\n",
    "train_labels = torch.tensor(nor_log_train_price.values.reshape(-1, 1), dtype=torch.float32)\n",
    "heldout_labels = torch.tensor(nor_log_heldout_price.values.reshape(-1, 1), dtype=torch.float32)\n",
    "\n",
    "test_feat = torch.tensor(nor_test.iloc[:, :].values, dtype=torch.float32)"
   ]
  },
  {
   "cell_type": "code",
   "execution_count": 501,
   "id": "24e52a1b-6e79-49ff-b7a0-e367a7f329c2",
   "metadata": {},
   "outputs": [],
   "source": [
    "n_train, in_features = train_data.shape[0], train_feats.shape[1]\n",
    "\n",
    "class Regressor(nn.Module):\n",
    "    def __init__(self):\n",
    "        super(Regressor, self).__init__()\n",
    "        self.fc1 = nn.Linear(in_features, 32)\n",
    "        self.fc2 = nn.Linear(32, 64)\n",
    "        self.fc3 = nn.Linear(64, 128)\n",
    "        self.fc4 = nn.Linear(128, 256)\n",
    "        self.fc5 = nn.Linear(256, 128)\n",
    "        self.fc6 = nn.Linear(128, 64)\n",
    "        self.fc7 = nn.Linear(64, 32)\n",
    "        self.fc8 = nn.Linear(32, 1)\n",
    "        self.bn1 = nn.BatchNorm1d(32)\n",
    "        self.bn2 = nn.BatchNorm1d(64)\n",
    "        self.bn3 = nn.BatchNorm1d(128)\n",
    "        self.bn4 = nn.BatchNorm1d(256)\n",
    "        self.dropout = nn.Dropout(0.1)\n",
    "        self.relu = nn.ReLU()\n",
    "\n",
    "        \n",
    "    def forward(self, x):\n",
    "        x = self.dropout(self.relu(self.bn1(self.fc1(x))))\n",
    "        x = self.dropout(self.relu(self.bn2(self.fc2(x))))\n",
    "        x = self.dropout(self.relu(self.bn3(self.fc3(x))))\n",
    "        x = self.dropout(self.relu(self.bn4(self.fc4(x))))\n",
    "        x = self.dropout(self.relu(self.bn3(self.fc5(x))))\n",
    "        x = self.relu(self.bn2(self.fc6(x)))\n",
    "        x = self.relu(self.bn1(self.fc7(x)))\n",
    "        x = self.fc8(x)\n",
    "        return x\n",
    "    \n",
    "def rmse(predictions, targets):\n",
    "    return np.sqrt(((predictions - targets) ** 2).mean())"
   ]
  },
  {
   "cell_type": "code",
   "execution_count": 502,
   "id": "5850a4ea-b436-464e-a377-4f52b427b420",
   "metadata": {},
   "outputs": [],
   "source": [
    "learning_rate = 0.001\n",
    "weight_decay = 0.1\n",
    "batch_size = 1024\n",
    "epochs = 7000\n",
    "\n",
    "device = torch.device('cuda:0' if torch.cuda.is_available() else 'cpu')\n",
    "net = Regressor().to(device)\n",
    "\n",
    "criterion = torch.nn.MSELoss()\n",
    "optimizer = torch.optim.AdamW(net.parameters(), lr=learning_rate, weight_decay=weight_decay)\n",
    "scheduler = torch.optim.lr_scheduler.MultiStepLR(optimizer, \n",
    "                                                 milestones=[200,400,600,800,\n",
    "                                                             1000,1200,1400,1600,1800,\n",
    "                                                             2000,2200,2400,2600,2800,\n",
    "                                                             3000,3200,3400,3600,3800,\n",
    "                                                             4000,4200,4400,4600,4800,\n",
    "                                                             5100,5400,5700,\n",
    "                                                             6000,6300,6600,6900], \n",
    "                                                 gamma=0.85)"
   ]
  },
  {
   "cell_type": "code",
   "execution_count": 503,
   "id": "8717539b-1030-49ba-8e13-c9ec042e3c09",
   "metadata": {
    "tags": []
   },
   "outputs": [
    {
     "name": "stdout",
     "output_type": "stream",
     "text": [
      "epoch: 200 -- train_rmse: 0.1143, test_rmse: 0.1208\n",
      "epoch: 400 -- train_rmse: 0.1123, test_rmse: 0.1231\n",
      "epoch: 600 -- train_rmse: 0.1111, test_rmse: 0.1205\n",
      "epoch: 800 -- train_rmse: 0.1112, test_rmse: 0.1228\n",
      "epoch: 1000 -- train_rmse: 0.1113, test_rmse: 0.1206\n",
      "epoch: 1200 -- train_rmse: 0.1082, test_rmse: 0.1194\n",
      "epoch: 1400 -- train_rmse: 0.1091, test_rmse: 0.1224\n",
      "epoch: 1600 -- train_rmse: 0.1083, test_rmse: 0.1184\n",
      "epoch: 1800 -- train_rmse: 0.1096, test_rmse: 0.1228\n",
      "epoch: 2000 -- train_rmse: 0.1101, test_rmse: 0.1249\n",
      "epoch: 2200 -- train_rmse: 0.1084, test_rmse: 0.1221\n",
      "epoch: 2400 -- train_rmse: 0.1075, test_rmse: 0.1216\n",
      "epoch: 2600 -- train_rmse: 0.1067, test_rmse: 0.1218\n",
      "epoch: 2800 -- train_rmse: 0.1076, test_rmse: 0.1212\n",
      "epoch: 3000 -- train_rmse: 0.1073, test_rmse: 0.1224\n",
      "epoch: 3200 -- train_rmse: 0.1081, test_rmse: 0.1195\n",
      "epoch: 3400 -- train_rmse: 0.1079, test_rmse: 0.1221\n",
      "epoch: 3600 -- train_rmse: 0.1058, test_rmse: 0.1208\n",
      "epoch: 3800 -- train_rmse: 0.1062, test_rmse: 0.1199\n",
      "epoch: 4000 -- train_rmse: 0.1056, test_rmse: 0.1207\n",
      "epoch: 4200 -- train_rmse: 0.1086, test_rmse: 0.1180\n",
      "epoch: 4400 -- train_rmse: 0.1062, test_rmse: 0.1206\n",
      "epoch: 4600 -- train_rmse: 0.1043, test_rmse: 0.1201\n",
      "epoch: 4800 -- train_rmse: 0.1063, test_rmse: 0.1217\n",
      "epoch: 5000 -- train_rmse: 0.1058, test_rmse: 0.1190\n",
      "epoch: 5200 -- train_rmse: 0.1047, test_rmse: 0.1203\n",
      "epoch: 5400 -- train_rmse: 0.1048, test_rmse: 0.1199\n",
      "epoch: 5600 -- train_rmse: 0.1043, test_rmse: 0.1198\n",
      "epoch: 5800 -- train_rmse: 0.1036, test_rmse: 0.1207\n",
      "epoch: 6000 -- train_rmse: 0.1040, test_rmse: 0.1220\n",
      "epoch: 6200 -- train_rmse: 0.1047, test_rmse: 0.1202\n"
     ]
    }
   ],
   "source": [
    "train_features, train_labels = train_feats.to(device), train_labels.to(device)\n",
    "test_features, test_labels = heldout_feats.to(device), heldout_labels.to(device)\n",
    "\n",
    "dataset = TensorDataset(train_features, train_labels)\n",
    "dataloader = DataLoader(dataset, batch_size=batch_size, shuffle=True, drop_last=True)\n",
    "\n",
    "train_ls, test_ls = [], []\n",
    "\n",
    "for epoch in range(epochs):\n",
    "    for inputs, labels in dataloader:\n",
    "        optimizer.zero_grad()\n",
    "        outputs = net(inputs)\n",
    "        loss = criterion(outputs, labels)\n",
    "        loss.backward()\n",
    "        optimizer.step()\n",
    "        scheduler.step()\n",
    "    \n",
    "    train_rmse = criterion(net(train_features), train_labels).item()\n",
    "    test_rmse = criterion(net(test_features), test_labels).item()\n",
    "    \n",
    "    train_ls.append(train_rmse)\n",
    "    test_ls.append(test_rmse)\n",
    "    \n",
    "    if test_rmse < 0.113:\n",
    "        break\n",
    "    \n",
    "    if (epoch + 1) % 200 == 0:\n",
    "        print(f'epoch: {epoch + 1} -- train_rmse: {train_rmse:.4f}, test_rmse: {test_rmse:.4f}')"
   ]
  },
  {
   "cell_type": "code",
   "execution_count": 504,
   "id": "8b21c41f-7e08-4e93-bb47-619b7ef94379",
   "metadata": {},
   "outputs": [
    {
     "name": "stdout",
     "output_type": "stream",
     "text": [
      "117590.0\n"
     ]
    },
    {
     "data": {
      "image/png": "[encoded data removed]",
      "text/plain": [
       "<Figure size 432x288 with 1 Axes>"
      ]
     },
     "metadata": {
      "needs_background": "light"
     },
     "output_type": "display_data"
    },
    {
     "name": "stdout",
     "output_type": "stream",
     "text": [
      "0.1060, 0.1126\n"
     ]
    }
   ],
   "source": [
    "predicts = net(train_features).to('cpu').detach().numpy()\n",
    "uni_predicts = np.exp(predicts * train_log_label_std + train_log_label_mean)\n",
    "train_labels_ = np.exp(train_labels.cpu() * train_log_label_std + train_log_label_mean)\n",
    "print(rmse(uni_predicts, np.array(train_labels_)))\n",
    "\n",
    "plt.plot(train_ls, label=\"Train\")\n",
    "plt.plot(test_ls, label=\"Test\")\n",
    "plt.legend()\n",
    "plt.show()\n",
    "\n",
    "print(f'{train_ls[-1]:0.4f}, {test_ls[-1]:0.4f}')"
   ]
  },
  {
   "cell_type": "code",
   "execution_count": 505,
   "id": "f2713a4c-a4ca-4b5c-845f-538a0748ce41",
   "metadata": {},
   "outputs": [
    {
     "name": "stdout",
     "output_type": "stream",
     "text": [
      "0.11264660954475403\n"
     ]
    }
   ],
   "source": [
    "print(min(test_ls))"
   ]
  },
  {
   "cell_type": "code",
   "execution_count": 506,
   "id": "6d1d64d3-187d-4d38-a62d-61c9a178da1a",
   "metadata": {},
   "outputs": [
    {
     "name": "stdout",
     "output_type": "stream",
     "text": [
      "136830.94335699466\n",
      "138395.90243675615\n",
      "137023.20984566875\n"
     ]
    },
    {
     "data": {
      "text/plain": [
       "array([[644666.44],\n",
       "       [470956.2 ],\n",
       "       [209384.02],\n",
       "       ...,\n",
       "       [868204.8 ],\n",
       "       [557510.5 ],\n",
       "       [411241.2 ]], dtype=float32)"
      ]
     },
     "execution_count": 506,
     "metadata": {},
     "output_type": "execute_result"
    }
   ],
   "source": [
    "trains = []\n",
    "helds = []\n",
    "unis = []\n",
    "\n",
    "# averaging predictions\n",
    "for i in range(3000):\n",
    "    predicts = net(test_features).to('cpu').detach().numpy()\n",
    "\n",
    "    train_predicts = np.exp(predicts * train_log_label_std + train_log_label_mean)\n",
    "    held_predicts = np.exp(predicts * heldout_log_label_std + heldout_log_label_mean)\n",
    "    uni_predicts = np.exp(predicts * uni_log_label_std + uni_log_label_mean)\n",
    "        \n",
    "    rmse_train = rmse(train_predicts, heldout_data.iloc[:, 2:3].values)\n",
    "    rmse_held = rmse(held_predicts, heldout_data.iloc[:, 2:3].values)\n",
    "    rmse_uni = rmse(uni_predicts, heldout_data.iloc[:, 2:3].values)\n",
    "    \n",
    "    trains.append(rmse_train)\n",
    "    helds.append(rmse_held)\n",
    "    unis.append(rmse_uni)\n",
    "\n",
    "print(np.array(trains).mean())\n",
    "print(np.array(helds).mean())\n",
    "print(np.array(unis).mean())\n",
    "\n",
    "# making final answer\n",
    "finals = []\n",
    "\n",
    "for i in range(3000):\n",
    "    test_predicts = net(test_feat.to('cuda')).cpu().detach().numpy()\n",
    "    final_predict = np.exp(test_predicts * uni_log_label_std + uni_log_label_mean)\n",
    "    finals.append(final_predict)\n",
    "np.array(finals).mean(axis = 0)\n",
    "\n",
    "# 131588.9882797251\n",
    "# 131751.391756751\n",
    "# 131443.0004292868"
   ]
  },
  {
   "cell_type": "code",
   "execution_count": null,
   "id": "0cca6484-e13e-4ce0-bbd5-2d5df3579e44",
   "metadata": {},
   "outputs": [],
   "source": [
    "test_data = pd.read_csv('dataset/price_data_ts.csv')\n",
    "test_data['price'] = np.array(finals).mean(axis = 0)\n",
    "\n",
    "test_data['id'] = test_data['id'].apply(lambda x : str(x) if len(str(x)) == 10 else '0' + str(x) if len(str(x)) == 9 else '00' + str(x))\n",
    "test_data['id'] = test_data['id'].astype(str) + test_data['date'].astype(str)\n",
    "submission = pd.concat([test_data['id'], test_data['price']], axis=1)\n",
    "submission"
   ]
  },
  {
   "cell_type": "code",
   "execution_count": 122,
   "id": "d9e26a46-3270-4a9d-ad73-a65ff33ef6ea",
   "metadata": {},
   "outputs": [],
   "source": [
    "# making submission file\n",
    "submission.to_csv('submission.csv', index=False)"
   ]
  },
  {
   "cell_type": "code",
   "execution_count": 173,
   "id": "5b75ba2e-ce29-4142-a3aa-484a6916ce05",
   "metadata": {},
   "outputs": [],
   "source": [
    "# feature extractor + random forest regressor\n",
    "def extract_middle(net, x):\n",
    "    x = net.dropout(net.relu(net.fc1(x)))\n",
    "    x = net.dropout(net.relu(net.fc2(x)))\n",
    "    x = net.dropout(net.relu(net.fc3(x)))\n",
    "    x = net.dropout(net.relu(net.fc4(x)))\n",
    "    x = net.dropout(net.relu(net.fc5(x)))\n",
    "    x = net.fc6(x)\n",
    "    return x"
   ]
  },
  {
   "cell_type": "code",
   "execution_count": 174,
   "id": "583b2c28-e966-4cdc-b285-242455299a44",
   "metadata": {},
   "outputs": [
    {
     "data": {
      "text/plain": [
       "torch.Size([12968, 17])"
      ]
     },
     "execution_count": 174,
     "metadata": {},
     "output_type": "execute_result"
    }
   ],
   "source": [
    "train_feats.shape"
   ]
  },
  {
   "cell_type": "code",
   "execution_count": 175,
   "id": "6ee86ec2-0693-4739-b53d-8c89aa74e1cd",
   "metadata": {},
   "outputs": [
    {
     "data": {
      "text/plain": [
       "torch.Size([12968, 64])"
      ]
     },
     "execution_count": 175,
     "metadata": {},
     "output_type": "execute_result"
    }
   ],
   "source": [
    "extract_middle(net, train_feats.to('cuda')).shape"
   ]
  },
  {
   "cell_type": "code",
   "execution_count": 176,
   "id": "c3077215-04b8-4d21-a853-30a4d1b4d038",
   "metadata": {},
   "outputs": [
    {
     "data": {
      "text/plain": [
       "torch.Size([12968])"
      ]
     },
     "execution_count": 176,
     "metadata": {},
     "output_type": "execute_result"
    }
   ],
   "source": [
    "train_labels.flatten().shape"
   ]
  },
  {
   "cell_type": "code",
   "execution_count": 177,
   "id": "5ccc0f4c-03be-47e2-a302-d586a112f89b",
   "metadata": {},
   "outputs": [],
   "source": [
    "net = net.cuda() ; train_feats = train_feats.cuda()"
   ]
  },
  {
   "cell_type": "code",
   "execution_count": 178,
   "id": "81cfadfc-6bea-470a-8c7d-b9ee2f8827a9",
   "metadata": {},
   "outputs": [
    {
     "data": {
      "text/plain": [
       "RandomForestRegressor()"
      ]
     },
     "execution_count": 178,
     "metadata": {},
     "output_type": "execute_result"
    }
   ],
   "source": [
    "from sklearn.ensemble import RandomForestRegressor\n",
    "from sklearn.metrics import mean_squared_error\n",
    "model = RandomForestRegressor()\n",
    "middle_value = extract_middle(net, train_feats)\n",
    "middle_value = middle_value.cpu()\n",
    "middle_value = middle_value.detach().numpy()\n",
    "\n",
    "train_labels_cpu = train_labels.cpu()\n",
    "train_labels_cpu = train_labels_cpu.detach().numpy()\n",
    "\n",
    "model.fit(middle_value, train_labels_cpu.flatten())"
   ]
  },
  {
   "cell_type": "code",
   "execution_count": 179,
   "id": "9e0ecb73-04ce-40e0-b23e-fe3f0b6c27cd",
   "metadata": {},
   "outputs": [
    {
     "name": "stdout",
     "output_type": "stream",
     "text": [
      "평균제곱근오차 181190.2087980236\n",
      "평균제곱근오차 179051.13282611215\n",
      "평균제곱근오차 180575.48078188335\n"
     ]
    }
   ],
   "source": [
    "# val_labels_cpu = train_labels.cpu()\n",
    "# val_labels_cpu = train_labels_cpu.detach().numpy()\n",
    "middle_val = extract_middle(net, test_features)\n",
    "middle_val = middle_val.cpu()\n",
    "middle_val = middle_val.detach().numpy()\n",
    "\n",
    "predicts = model.predict(middle_val)\n",
    "train_predicts = np.exp(predicts * train_log_label_std + train_log_label_mean)\n",
    "held_predicts = np.exp(predicts * heldout_log_label_std + heldout_log_label_mean)\n",
    "uni_predicts = np.exp(predicts * uni_log_label_std + uni_log_label_mean)\n",
    "\n",
    "tmse = np.sqrt(mean_squared_error(train_predicts, heldout_data.iloc[:, [2]].values))\n",
    "hmse = np.sqrt(mean_squared_error(held_predicts, heldout_data.iloc[:, [2]].values))\n",
    "umse = np.sqrt(mean_squared_error(uni_predicts, heldout_data.iloc[:, [2]].values))\n",
    "\n",
    "print('평균제곱근오차', tmse)\n",
    "print('평균제곱근오차', hmse)\n",
    "print('평균제곱근오차', umse)"
   ]
  }
 ],
 "metadata": {
  "kernelspec": {
   "display_name": "Python 3 (ipykernel)",
   "language": "python",
   "name": "python3"
  },
  "language_info": {
   "codemirror_mode": {
    "name": "ipython",
    "version": 3
   },
   "file_extension": ".py",
   "mimetype": "text/x-python",
   "name": "python",
   "nbconvert_exporter": "python",
   "pygments_lexer": "ipython3",
   "version": "3.8.0"
  },
  "widgets": {
   "application/vnd.jupyter.widget-state+json": {
    "state": {},
    "version_major": 2,
    "version_minor": 0
   }
  }
 },
 "nbformat": 4,
 "nbformat_minor": 5
}
