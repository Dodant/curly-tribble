{
 "cells": [
  {
   "cell_type": "code",
   "execution_count": 11,
   "id": "7a83430c-12ac-4d47-ba56-13f48dc50990",
   "metadata": {},
   "outputs": [],
   "source": [
    "import numpy as np\n",
    "\n",
    "orginal = [2,3,5,7,11,13,17,19,23,26,37,39]\n",
    "log_orginal = np.log(orginal)"
   ]
  },
  {
   "cell_type": "code",
   "execution_count": 12,
   "id": "5be17e03-4740-4edb-94ce-21a909970a42",
   "metadata": {},
   "outputs": [
    {
     "data": {
      "text/plain": [
       "array([0.69314718, 1.09861229, 1.60943791, 1.94591015, 2.39789527,\n",
       "       2.56494936, 2.83321334, 2.94443898, 3.13549422, 3.25809654,\n",
       "       3.61091791, 3.66356165])"
      ]
     },
     "execution_count": 12,
     "metadata": {},
     "output_type": "execute_result"
    }
   ],
   "source": [
    "log_orginal"
   ]
  },
  {
   "cell_type": "code",
   "execution_count": 13,
   "id": "988da2fb-f131-4709-9706-149ec8dafd57",
   "metadata": {},
   "outputs": [
    {
     "name": "stdout",
     "output_type": "stream",
     "text": [
      "2.4796395664103783 0.9225654882751851\n"
     ]
    }
   ],
   "source": [
    "log_mean = log_orginal.mean()\n",
    "log_std = log_orginal.std()\n",
    "print(log_mean, log_std)"
   ]
  },
  {
   "cell_type": "code",
   "execution_count": 14,
   "id": "a4402147-482a-4f94-9a5b-87bdad2102f2",
   "metadata": {},
   "outputs": [
    {
     "data": {
      "text/plain": [
       "array([-1.93643964, -1.49694227, -0.94324107, -0.5785274 , -0.08860541,\n",
       "        0.09247017,  0.3832506 ,  0.50381184,  0.71090308,  0.84379589,\n",
       "        1.22623094,  1.28329327])"
      ]
     },
     "execution_count": 14,
     "metadata": {},
     "output_type": "execute_result"
    }
   ],
   "source": [
    "(log_orginal - log_mean) / log_std"
   ]
  },
  {
   "cell_type": "code",
   "execution_count": 15,
   "id": "83262574-c31b-4b05-b63d-d70ffa367d80",
   "metadata": {},
   "outputs": [],
   "source": [
    "predicts = [-1.93643964, -1.49694227, -0.94324107, -0.5785274 , -0.08860541, 0.09247017,  0.3832506 ,  0.50381184,  0.71090308,  0.84379589, 1.22623094,  1.28329327]"
   ]
  },
  {
   "cell_type": "code",
   "execution_count": 16,
   "id": "64193f0e-16b6-445d-b778-06bcad7db14c",
   "metadata": {},
   "outputs": [],
   "source": [
    "predicts = np.exp(np.array(predicts) * log_std + log_mean)"
   ]
  },
  {
   "cell_type": "code",
   "execution_count": 21,
   "id": "1959822f-4bac-4ca2-a7f8-ef39056902fa",
   "metadata": {},
   "outputs": [
    {
     "data": {
      "text/plain": [
       "array([11, 10,  9,  8,  7,  6,  5,  4,  3,  2,  1,  0])"
      ]
     },
     "execution_count": 21,
     "metadata": {},
     "output_type": "execute_result"
    }
   ],
   "source": [
    "predicts\n",
    "\n",
    "np.argsort(predicts)[::-1]"
   ]
  },
  {
   "cell_type": "code",
   "execution_count": null,
   "id": "dc7fe1c3-7dcc-4f09-8fa0-ee9934f4c6f6",
   "metadata": {},
   "outputs": [],
   "source": []
  }
 ],
 "metadata": {
  "kernelspec": {
   "display_name": "Python 3 (ipykernel)",
   "language": "python",
   "name": "python3"
  },
  "language_info": {
   "codemirror_mode": {
    "name": "ipython",
    "version": 3
   },
   "file_extension": ".py",
   "mimetype": "text/x-python",
   "name": "python",
   "nbconvert_exporter": "python",
   "pygments_lexer": "ipython3",
   "version": "3.8.0"
  },
  "widgets": {
   "application/vnd.jupyter.widget-state+json": {
    "state": {},
    "version_major": 2,
    "version_minor": 0
   }
  }
 },
 "nbformat": 4,
 "nbformat_minor": 5
}
