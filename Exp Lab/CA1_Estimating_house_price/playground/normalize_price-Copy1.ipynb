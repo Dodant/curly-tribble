{
 "cells": [
  {
   "cell_type": "code",
   "execution_count": 12,
   "id": "8651bac5-ea5c-4ffa-9522-716e50578359",
   "metadata": {},
   "outputs": [],
   "source": [
    "import pandas as pd\n",
    "import numpy as np\n",
    "import torch\n",
    "import torch.nn as nn\n",
    "import torch.nn.functional as F \n",
    "from torch.utils.data import TensorDataset, DataLoader\n",
    "import matplotlib.pyplot as plt\n",
    "\n",
    "train_data = pd.read_csv('dataset/price_data_tr.csv')\n",
    "heldout_data = pd.read_csv('dataset/price_data_val.csv')\n",
    "test_data = pd.read_csv('dataset/price_data_ts.csv')"
   ]
  },
  {
   "cell_type": "code",
   "execution_count": 13,
   "id": "c411b0d0-c7f7-4c8a-b166-5128c5d00735",
   "metadata": {},
   "outputs": [],
   "source": [
    "#print(train_data.shape) #(12968, 21)\n",
    "#print(heldout_data.shape) #(4323, 21)\n",
    "#print(test_data.shape) #(4322, 21)\n",
    "\n",
    "# data.columns\n",
    "# 'id', 'date', \n",
    "# 'price', \n",
    "# 'bedrooms', 'bathrooms', 'sqft_living', 'sqft_lot', 'floors', 'waterfront', 'view', 'condition', 'grade',\n",
    "# 'sqft_above', 'sqft_basement', 'yr_built', 'yr_renovated', 'zipcode', 'lat', 'long', 'sqft_living15', 'sqft_lot15'"
   ]
  },
  {
   "cell_type": "code",
   "execution_count": 14,
   "id": "4dad1c57-d226-4a8b-8127-303e1fcac632",
   "metadata": {},
   "outputs": [],
   "source": [
    "nor_train = train_data.iloc[:, 3:-1].apply(lambda x: (x-x.mean()) / (x.std()))\n",
    "nor_heldout = heldout_data.iloc[:, 3:-1].apply(lambda x: (x-x.mean()) / (x.std()))\n",
    "nor_test = test_data.iloc[:, 3:-1].apply(lambda x: (x-x.mean()) / (x.std()))\n",
    "\n",
    "nor_log_train_price = np.log(train_data.iloc[:, 2:3]).apply(lambda x: (x-x.mean()) / (x.std()))\n",
    "nor_log_heldout_price = np.log(heldout_data.iloc[:, 2:3]).apply(lambda x: (x-x.mean()) / (x.std()))"
   ]
  },
  {
   "cell_type": "code",
   "execution_count": 15,
   "id": "9c343556-fb8e-4e76-a046-a14eaaf5d26c",
   "metadata": {},
   "outputs": [
    {
     "data": {
      "text/plain": [
       "price    13.048107\n",
       "dtype: float64"
      ]
     },
     "execution_count": 15,
     "metadata": {},
     "output_type": "execute_result"
    }
   ],
   "source": [
    "np.log(train_data.iloc[:, 2:3]).mean()"
   ]
  },
  {
   "cell_type": "code",
   "execution_count": 16,
   "id": "386bcb9d-b2c2-4ae7-be46-340de3b95756",
   "metadata": {},
   "outputs": [
    {
     "name": "stdout",
     "output_type": "stream",
     "text": [
      "13.04810655020148 0.5220080959315785\n",
      "13.048257499579405 0.5355929705203868\n",
      "13.048144289728448 0.5254218546587482\n"
     ]
    }
   ],
   "source": [
    "train_log_label_mean, train_log_label_std = np.log(train_data.iloc[:, 2]).mean(), np.log(train_data.iloc[:, 2]).std()\n",
    "heldout_log_label_mean, heldout_log_label_std = np.log(heldout_data.iloc[:, 2]).mean(), np.log(heldout_data.iloc[:, 2]).std()\n",
    "print(train_log_label_mean, train_log_label_std)\n",
    "print(heldout_log_label_mean, heldout_log_label_std)\n",
    "\n",
    "uni_log_label_mean = np.log(pd.concat((train_data.iloc[:, 2], heldout_data.iloc[:, 2]))).mean()\n",
    "uni_log_label_std = np.log(pd.concat((train_data.iloc[:, 2], heldout_data.iloc[:, 2]))).std()\n",
    "print(uni_log_label_mean, uni_log_label_std)"
   ]
  },
  {
   "cell_type": "code",
   "execution_count": 17,
   "id": "17e6c4cb-ee51-4fa8-953b-4dca90b6c243",
   "metadata": {},
   "outputs": [],
   "source": [
    "train_feats = torch.tensor(nor_train.iloc[:, :].values, dtype=torch.float32)\n",
    "train_labels = torch.tensor(nor_log_train_price.values.reshape(-1, 1), dtype=torch.float32)\n",
    "\n",
    "heldout_feats = torch.tensor(nor_heldout.iloc[:, :].values, dtype=torch.float32)\n",
    "heldout_labels = torch.tensor(nor_log_heldout_price.values.reshape(-1, 1), dtype=torch.float32)\n",
    "\n",
    "test_feat = torch.tensor(nor_test.iloc[:, :].values, dtype=torch.float32)"
   ]
  },
  {
   "cell_type": "code",
   "execution_count": 18,
   "id": "24e52a1b-6e79-49ff-b7a0-e367a7f329c2",
   "metadata": {},
   "outputs": [],
   "source": [
    "n_train, in_features = train_data.shape[0], train_feats.shape[1]\n",
    "\n",
    "\n",
    "class Regressor(nn.Module):\n",
    "    def __init__(self):\n",
    "        super(Regressor, self).__init__()\n",
    "        self.fc1 = nn.Linear(in_features, 64)\n",
    "        self.fc2 = nn.Linear(64, 128)\n",
    "        self.fc3 = nn.Linear(128, 64)\n",
    "        self.fc4 = nn.Linear(64, 32)\n",
    "        self.fc5 = nn.Linear(32, 8)\n",
    "        self.fc6 = nn.Linear(8, 1)\n",
    "        self.dropout = nn.Dropout(0.1)\n",
    "        self.relu = nn.ReLU() # trial 5\n",
    "#         self.relu = nn.PReLU() # trial 3, 6\n",
    "#         self.relu = nn.SELU() # trial 4, 7\n",
    "#         self.relu = nn.Tanh() # trial 8\n",
    "    \n",
    "    def forward(self, x):\n",
    "        x = self.fc1(x)\n",
    "        x = self.relu(x)\n",
    "        x = self.dropout(x)\n",
    "        \n",
    "        x = self.fc2(x)\n",
    "        x = self.relu(x)\n",
    "        x = self.dropout(x)\n",
    "        \n",
    "        x = self.fc3(x)\n",
    "        x = self.relu(x)\n",
    "        x = self.dropout(x)\n",
    "        \n",
    "        x = self.fc4(x)\n",
    "        x = self.relu(x)\n",
    "        x = self.dropout(x)\n",
    "        \n",
    "        x = self.fc5(x)\n",
    "        x = self.relu(x)\n",
    "#         x = self.dropout(x) # trial 2 유 / 5,6,7 무\n",
    "        \n",
    "        x = self.fc6(x)\n",
    "        return x\n",
    "    \n",
    "def rmse(predictions, targets):\n",
    "    return np.sqrt(((predictions - targets) ** 2).mean())"
   ]
  },
  {
   "cell_type": "code",
   "execution_count": 19,
   "id": "5850a4ea-b436-464e-a377-4f52b427b420",
   "metadata": {},
   "outputs": [],
   "source": [
    "learning_rate = 0.001\n",
    "weight_decay = 0.1\n",
    "batch_size = 512\n",
    "epochs = 100\n",
    "\n",
    "device = torch.device('cuda:0' if torch.cuda.is_available() else 'cpu')\n",
    "net = Regressor().to(device)\n",
    "\n",
    "criterion = torch.nn.MSELoss()\n",
    "# optimizer = torch.optim.Adam(net.parameters(), lr=learning_rate, weight_decay=weight_decay)\n",
    "# optimizer = torch.optim.SGD(net.parameters(), lr=learning_rate, weight_decay=weight_decay)\n",
    "optimizer = torch.optim.AdamW(net.parameters(), lr=learning_rate, weight_decay=weight_decay)\n",
    "# optimizer = torch.optim.Adagrad(net.parameters(), lr=learning_rate, lr_decay=0, weight_decay=weight_decay, initial_accumulator_value=0, eps=1e-10)"
   ]
  },
  {
   "cell_type": "code",
   "execution_count": 20,
   "id": "8717539b-1030-49ba-8e13-c9ec042e3c09",
   "metadata": {},
   "outputs": [],
   "source": [
    "train_features, train_labels  = train_feats.to(device), train_labels.to(device)\n",
    "test_features, test_labels = heldout_feats.to(device), heldout_labels.to(device)\n",
    "\n",
    "dataset = TensorDataset(train_features, train_labels)\n",
    "dataloader = DataLoader(dataset, batch_size=batch_size)\n",
    "\n",
    "train_ls, test_ls = [], []\n",
    "\n",
    "for epoch in range(800):\n",
    "    for inputs, labels in dataloader:\n",
    "        optimizer.zero_grad()\n",
    "        outputs = net(inputs)\n",
    "        loss = criterion(outputs, labels)\n",
    "        loss.backward()\n",
    "        optimizer.step()\n",
    "    \n",
    "    train_rmse = criterion(net(train_features), train_labels).item()\n",
    "    test_rmse = criterion(net(test_features), test_labels).item()\n",
    "    \n",
    "    train_ls.append(train_rmse)\n",
    "    test_ls.append(test_rmse)"
   ]
  },
  {
   "cell_type": "code",
   "execution_count": 21,
   "id": "95b79ef3-f0a0-46f8-947a-0becc2ce3f2a",
   "metadata": {},
   "outputs": [
    {
     "data": {
      "image/png": "[encoded data removed]",
      "text/plain": [
       "<Figure size 432x288 with 1 Axes>"
      ]
     },
     "metadata": {
      "needs_background": "light"
     },
     "output_type": "display_data"
    },
    {
     "name": "stdout",
     "output_type": "stream",
     "text": [
      "0.0732, 0.1214\n"
     ]
    }
   ],
   "source": [
    "plt.plot(train_ls, label=\"Train\")\n",
    "plt.plot(test_ls, label=\"Test\")\n",
    "plt.legend()\n",
    "plt.show()\n",
    "\n",
    "print(f'{train_ls[-1]:0.4f}, {test_ls[-1]:0.4f}')"
   ]
  },
  {
   "cell_type": "code",
   "execution_count": 11,
   "id": "64b0b219-e815-42dd-95b9-27b7725f6662",
   "metadata": {},
   "outputs": [
    {
     "name": "stdout",
     "output_type": "stream",
     "text": [
      "137104.66439229043\n",
      "135624.49861266607\n",
      "136582.84829388844\n"
     ]
    }
   ],
   "source": [
    "trains = []\n",
    "helds = []\n",
    "unis = []\n",
    "\n",
    "for i in range(1000):\n",
    "    predicts = net(test_features).to('cpu').detach().numpy()\n",
    "\n",
    "    train_predicts = np.exp(predicts * train_log_label_std + train_log_label_mean)\n",
    "    held_predicts = np.exp(predicts * heldout_log_label_std + heldout_log_label_mean)\n",
    "    uni_predicts = np.exp(predicts * uni_log_label_std + uni_log_label_mean)\n",
    "\n",
    "    rmse_train = rmse(train_predicts, heldout_data.iloc[:, [2]].values)\n",
    "    rmse_held = rmse(held_predicts, heldout_data.iloc[:, [2]].values)\n",
    "    rmse_uni = rmse(uni_predicts, heldout_data.iloc[:, [2]].values)\n",
    "    \n",
    "    trains.append(rmse_train)\n",
    "    helds.append(rmse_held)\n",
    "    unis.append(rmse_uni)\n",
    "\n",
    "print(np.array(trains).mean())\n",
    "print(np.array(helds).mean())\n",
    "print(np.array(unis).mean())"
   ]
  },
  {
   "cell_type": "code",
   "execution_count": 101,
   "id": "ccfdd4ec-07cd-49af-9a7a-5cff02c80944",
   "metadata": {},
   "outputs": [
    {
     "data": {
      "text/plain": [
       "array([[643628.2 ],\n",
       "       [476315.25],\n",
       "       [200871.36],\n",
       "       ...,\n",
       "       [885213.8 ],\n",
       "       [576023.06],\n",
       "       [380764.88]], dtype=float32)"
      ]
     },
     "execution_count": 101,
     "metadata": {},
     "output_type": "execute_result"
    }
   ],
   "source": [
    "finals = []\n",
    "\n",
    "for i in range(1000):\n",
    "    test_predicts = net(test_feat.to('cuda')).cpu().detach().numpy()\n",
    "    final_predict = np.exp(test_predicts * uni_log_label_std + uni_log_label_mean)\n",
    "    finals.append(final_predict)\n",
    "np.array(finals).mean(axis = 0)"
   ]
  },
  {
   "cell_type": "code",
   "execution_count": 102,
   "id": "0cca6484-e13e-4ce0-bbd5-2d5df3579e44",
   "metadata": {},
   "outputs": [
    {
     "data": {
      "text/html": [
       "<div>\n",
       "<style scoped>\n",
       "    .dataframe tbody tr th:only-of-type {\n",
       "        vertical-align: middle;\n",
       "    }\n",
       "\n",
       "    .dataframe tbody tr th {\n",
       "        vertical-align: top;\n",
       "    }\n",
       "\n",
       "    .dataframe thead th {\n",
       "        text-align: right;\n",
       "    }\n",
       "</style>\n",
       "<table border=\"1\" class=\"dataframe\">\n",
       "  <thead>\n",
       "    <tr style=\"text-align: right;\">\n",
       "      <th></th>\n",
       "      <th>id</th>\n",
       "      <th>price</th>\n",
       "    </tr>\n",
       "  </thead>\n",
       "  <tbody>\n",
       "    <tr>\n",
       "      <th>0</th>\n",
       "      <td>700010085020140926T000000</td>\n",
       "      <td>643628.187500</td>\n",
       "    </tr>\n",
       "    <tr>\n",
       "      <th>1</th>\n",
       "      <td>403740028020140923T000000</td>\n",
       "      <td>476315.250000</td>\n",
       "    </tr>\n",
       "    <tr>\n",
       "      <th>2</th>\n",
       "      <td>142340016020140618T000000</td>\n",
       "      <td>200871.359375</td>\n",
       "    </tr>\n",
       "    <tr>\n",
       "      <th>3</th>\n",
       "      <td>776740006020141119T000000</td>\n",
       "      <td>452570.437500</td>\n",
       "    </tr>\n",
       "    <tr>\n",
       "      <th>4</th>\n",
       "      <td>946590050020140617T000000</td>\n",
       "      <td>560632.250000</td>\n",
       "    </tr>\n",
       "    <tr>\n",
       "      <th>...</th>\n",
       "      <td>...</td>\n",
       "      <td>...</td>\n",
       "    </tr>\n",
       "    <tr>\n",
       "      <th>4317</th>\n",
       "      <td>733822037020141006T000000</td>\n",
       "      <td>308283.187500</td>\n",
       "    </tr>\n",
       "    <tr>\n",
       "      <th>4318</th>\n",
       "      <td>681910015020140721T000000</td>\n",
       "      <td>601546.187500</td>\n",
       "    </tr>\n",
       "    <tr>\n",
       "      <th>4319</th>\n",
       "      <td>082405914020140527T000000</td>\n",
       "      <td>885213.812500</td>\n",
       "    </tr>\n",
       "    <tr>\n",
       "      <th>4320</th>\n",
       "      <td>051450009020140513T000000</td>\n",
       "      <td>576023.062500</td>\n",
       "    </tr>\n",
       "    <tr>\n",
       "      <th>4321</th>\n",
       "      <td>770180005020140625T000000</td>\n",
       "      <td>380764.875000</td>\n",
       "    </tr>\n",
       "  </tbody>\n",
       "</table>\n",
       "<p>4322 rows × 2 columns</p>\n",
       "</div>"
      ],
      "text/plain": [
       "                             id          price\n",
       "0     700010085020140926T000000  643628.187500\n",
       "1     403740028020140923T000000  476315.250000\n",
       "2     142340016020140618T000000  200871.359375\n",
       "3     776740006020141119T000000  452570.437500\n",
       "4     946590050020140617T000000  560632.250000\n",
       "...                         ...            ...\n",
       "4317  733822037020141006T000000  308283.187500\n",
       "4318  681910015020140721T000000  601546.187500\n",
       "4319  082405914020140527T000000  885213.812500\n",
       "4320  051450009020140513T000000  576023.062500\n",
       "4321  770180005020140625T000000  380764.875000\n",
       "\n",
       "[4322 rows x 2 columns]"
      ]
     },
     "execution_count": 102,
     "metadata": {},
     "output_type": "execute_result"
    }
   ],
   "source": [
    "test_data = pd.read_csv('dataset/price_data_ts.csv')\n",
    "test_data['price'] = np.array(finals).mean(axis = 0)\n",
    "\n",
    "test_data['id'] = test_data['id'].apply(lambda x : str(x) if len(str(x)) == 10 else '0' + str(x) if len(str(x)) == 9 else '00' + str(x))\n",
    "test_data['id'] = test_data['id'].astype(str) + test_data['date'].astype(str)\n",
    "submission = pd.concat([test_data['id'], test_data['price']], axis=1)\n",
    "submission"
   ]
  },
  {
   "cell_type": "code",
   "execution_count": 100,
   "id": "d9e26a46-3270-4a9d-ad73-a65ff33ef6ea",
   "metadata": {},
   "outputs": [],
   "source": [
    "submission.to_csv('submission.csv', index=False)"
   ]
  },
  {
   "cell_type": "code",
   "execution_count": null,
   "id": "2040cf65-c408-49a9-9b99-0049f3219cbc",
   "metadata": {},
   "outputs": [],
   "source": []
  }
 ],
 "metadata": {
  "kernelspec": {
   "display_name": "Python 3 (ipykernel)",
   "language": "python",
   "name": "python3"
  },
  "language_info": {
   "codemirror_mode": {
    "name": "ipython",
    "version": 3
   },
   "file_extension": ".py",
   "mimetype": "text/x-python",
   "name": "python",
   "nbconvert_exporter": "python",
   "pygments_lexer": "ipython3",
   "version": "3.8.0"
  },
  "widgets": {
   "application/vnd.jupyter.widget-state+json": {
    "state": {},
    "version_major": 2,
    "version_minor": 0
   }
  }
 },
 "nbformat": 4,
 "nbformat_minor": 5
}
