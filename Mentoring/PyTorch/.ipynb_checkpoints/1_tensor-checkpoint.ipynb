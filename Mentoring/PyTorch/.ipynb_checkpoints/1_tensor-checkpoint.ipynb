{
 "cells": [
  {
   "cell_type": "code",
   "execution_count": 16,
   "metadata": {},
   "outputs": [],
   "source": [
    "import numpy as np\n",
    "import torch"
   ]
  },
  {
   "cell_type": "code",
   "execution_count": 18,
   "metadata": {},
   "outputs": [
    {
     "data": {
      "text/plain": [
       "tensor([[ 1.2612e-44,  0.0000e+00,         nan,         nan],\n",
       "        [ 1.4359e+07,  1.3563e-19, -3.6591e-25, -9.0811e-34],\n",
       "        [-1.2598e+21, -3.6598e-25, -9.0811e-34, -1.2598e+21],\n",
       "        [-3.6598e-25, -9.0811e-34, -1.2598e+21, -3.6598e-25],\n",
       "        [-9.0811e-34, -1.2598e+21, -3.6598e-25, -9.0811e-34]])"
      ]
     },
     "execution_count": 18,
     "metadata": {},
     "output_type": "execute_result"
    }
   ],
   "source": [
    "x = torch.empty(5,4)\n",
    "x"
   ]
  },
  {
   "cell_type": "code",
   "execution_count": 19,
   "metadata": {},
   "outputs": [
    {
     "data": {
      "text/plain": [
       "tensor([[1., 1., 1.],\n",
       "        [1., 1., 1.],\n",
       "        [1., 1., 1.]])"
      ]
     },
     "execution_count": 19,
     "metadata": {},
     "output_type": "execute_result"
    }
   ],
   "source": [
    "torch.ones(3,3)"
   ]
  },
  {
   "cell_type": "code",
   "execution_count": 20,
   "metadata": {},
   "outputs": [
    {
     "data": {
      "text/plain": [
       "tensor([0., 0.])"
      ]
     },
     "execution_count": 20,
     "metadata": {},
     "output_type": "execute_result"
    }
   ],
   "source": [
    "torch.zeros(2)"
   ]
  },
  {
   "cell_type": "code",
   "execution_count": 21,
   "metadata": {},
   "outputs": [
    {
     "data": {
      "text/plain": [
       "tensor([[0.5556, 0.8291, 0.4121, 0.6135, 0.4655, 0.2628],\n",
       "        [0.6673, 0.9199, 0.3905, 0.5988, 0.4293, 0.2033],\n",
       "        [0.1694, 0.0839, 0.0581, 0.8982, 0.3474, 0.5934],\n",
       "        [0.8847, 0.7513, 0.4166, 0.3896, 0.3742, 0.7754],\n",
       "        [0.4947, 0.5826, 0.8525, 0.9467, 0.9946, 0.1356]])"
      ]
     },
     "execution_count": 21,
     "metadata": {},
     "output_type": "execute_result"
    }
   ],
   "source": [
    "torch.rand(5,6)"
   ]
  },
  {
   "cell_type": "code",
   "execution_count": 22,
   "metadata": {},
   "outputs": [],
   "source": [
    "l = [13, 4]\n",
    "r = np.array([4,5,6,7])"
   ]
  },
  {
   "cell_type": "code",
   "execution_count": 23,
   "metadata": {},
   "outputs": [
    {
     "data": {
      "text/plain": [
       "tensor([13,  4])"
      ]
     },
     "execution_count": 23,
     "metadata": {},
     "output_type": "execute_result"
    }
   ],
   "source": [
    "torch.tensor(l)"
   ]
  },
  {
   "cell_type": "code",
   "execution_count": 24,
   "metadata": {},
   "outputs": [
    {
     "data": {
      "text/plain": [
       "tensor([4, 5, 6, 7])"
      ]
     },
     "execution_count": 24,
     "metadata": {},
     "output_type": "execute_result"
    }
   ],
   "source": [
    "torch.tensor(r)"
   ]
  },
  {
   "cell_type": "code",
   "execution_count": 25,
   "metadata": {},
   "outputs": [
    {
     "data": {
      "text/plain": [
       "torch.Size([5, 4])"
      ]
     },
     "execution_count": 25,
     "metadata": {},
     "output_type": "execute_result"
    }
   ],
   "source": [
    "x.size()"
   ]
  },
  {
   "cell_type": "code",
   "execution_count": 26,
   "metadata": {},
   "outputs": [
    {
     "data": {
      "text/plain": [
       "torch.Tensor"
      ]
     },
     "execution_count": 26,
     "metadata": {},
     "output_type": "execute_result"
    }
   ],
   "source": [
    "type(x)"
   ]
  },
  {
   "cell_type": "code",
   "execution_count": 27,
   "metadata": {},
   "outputs": [
    {
     "name": "stdout",
     "output_type": "stream",
     "text": [
      "tensor([[0.5088, 0.3193],\n",
      "        [0.0439, 0.3206]])\n",
      "tensor([[0.5957, 0.6472],\n",
      "        [0.1305, 0.9076]])\n"
     ]
    }
   ],
   "source": [
    "x = torch.rand(2,2)\n",
    "y = torch.rand(2,2)\n",
    "print(x)\n",
    "print(y)"
   ]
  },
  {
   "cell_type": "code",
   "execution_count": 28,
   "metadata": {},
   "outputs": [
    {
     "data": {
      "text/plain": [
       "tensor([[1.1045, 0.9665],\n",
       "        [0.1744, 1.2282]])"
      ]
     },
     "execution_count": 28,
     "metadata": {},
     "output_type": "execute_result"
    }
   ],
   "source": [
    "x + y"
   ]
  },
  {
   "cell_type": "code",
   "execution_count": 29,
   "metadata": {},
   "outputs": [
    {
     "data": {
      "text/plain": [
       "tensor([[1.1045, 0.9665],\n",
       "        [0.1744, 1.2282]])"
      ]
     },
     "execution_count": 29,
     "metadata": {},
     "output_type": "execute_result"
    }
   ],
   "source": [
    "torch.add(x,y)"
   ]
  },
  {
   "cell_type": "code",
   "execution_count": 30,
   "metadata": {},
   "outputs": [
    {
     "data": {
      "text/plain": [
       "tensor([[1.1045, 0.9665],\n",
       "        [0.1744, 1.2282]])"
      ]
     },
     "execution_count": 30,
     "metadata": {},
     "output_type": "execute_result"
    }
   ],
   "source": [
    "y.add(x)"
   ]
  },
  {
   "cell_type": "code",
   "execution_count": 31,
   "metadata": {},
   "outputs": [
    {
     "data": {
      "text/plain": [
       "tensor([[0.5957, 0.6472],\n",
       "        [0.1305, 0.9076]])"
      ]
     },
     "execution_count": 31,
     "metadata": {},
     "output_type": "execute_result"
    }
   ],
   "source": [
    "y"
   ]
  },
  {
   "cell_type": "code",
   "execution_count": 32,
   "metadata": {},
   "outputs": [
    {
     "data": {
      "text/plain": [
       "tensor([[1.1045, 0.9665],\n",
       "        [0.1744, 1.2282]])"
      ]
     },
     "execution_count": 32,
     "metadata": {},
     "output_type": "execute_result"
    }
   ],
   "source": [
    "y.add_(x) # _ inplace"
   ]
  },
  {
   "cell_type": "code",
   "execution_count": 33,
   "metadata": {},
   "outputs": [
    {
     "data": {
      "text/plain": [
       "tensor([[1.1045, 0.9665],\n",
       "        [0.1744, 1.2282]])"
      ]
     },
     "execution_count": 33,
     "metadata": {},
     "output_type": "execute_result"
    }
   ],
   "source": [
    "y"
   ]
  },
  {
   "cell_type": "code",
   "execution_count": 34,
   "metadata": {},
   "outputs": [
    {
     "data": {
      "text/plain": [
       "tensor(1.2282)"
      ]
     },
     "execution_count": 34,
     "metadata": {},
     "output_type": "execute_result"
    }
   ],
   "source": [
    "y[1,1]"
   ]
  },
  {
   "cell_type": "code",
   "execution_count": 35,
   "metadata": {},
   "outputs": [
    {
     "data": {
      "text/plain": [
       "tensor([0.9665, 1.2282])"
      ]
     },
     "execution_count": 35,
     "metadata": {},
     "output_type": "execute_result"
    }
   ],
   "source": [
    "y[:,1]"
   ]
  },
  {
   "cell_type": "code",
   "execution_count": 37,
   "metadata": {},
   "outputs": [
    {
     "data": {
      "text/plain": [
       "tensor([[0.0874, 0.3139, 0.7215, 0.0975, 0.8426, 0.0346, 0.3253, 0.4742],\n",
       "        [0.1557, 0.9604, 0.1518, 0.2440, 0.7199, 0.1554, 0.7406, 0.3746],\n",
       "        [0.5932, 0.3774, 0.3928, 0.3134, 0.2879, 0.1613, 0.4156, 0.2770],\n",
       "        [0.4477, 0.9913, 0.8808, 0.6335, 0.6654, 0.5842, 0.3449, 0.6287],\n",
       "        [0.8046, 0.9290, 0.9585, 0.4434, 0.3196, 0.8057, 0.0600, 0.0710],\n",
       "        [0.6430, 0.4321, 0.5364, 0.6181, 0.7308, 0.7486, 0.5578, 0.9903],\n",
       "        [0.5103, 0.6822, 0.6054, 0.1574, 0.3352, 0.3434, 0.9256, 0.9190],\n",
       "        [0.2180, 0.2314, 0.5547, 0.9702, 0.8298, 0.4742, 0.9508, 0.8767]])"
      ]
     },
     "execution_count": 37,
     "metadata": {},
     "output_type": "execute_result"
    }
   ],
   "source": [
    "x = torch.rand(8,8)\n",
    "x"
   ]
  },
  {
   "cell_type": "code",
   "execution_count": 38,
   "metadata": {},
   "outputs": [
    {
     "data": {
      "text/plain": [
       "tensor([0.0874, 0.3139, 0.7215, 0.0975, 0.8426, 0.0346, 0.3253, 0.4742, 0.1557,\n",
       "        0.9604, 0.1518, 0.2440, 0.7199, 0.1554, 0.7406, 0.3746, 0.5932, 0.3774,\n",
       "        0.3928, 0.3134, 0.2879, 0.1613, 0.4156, 0.2770, 0.4477, 0.9913, 0.8808,\n",
       "        0.6335, 0.6654, 0.5842, 0.3449, 0.6287, 0.8046, 0.9290, 0.9585, 0.4434,\n",
       "        0.3196, 0.8057, 0.0600, 0.0710, 0.6430, 0.4321, 0.5364, 0.6181, 0.7308,\n",
       "        0.7486, 0.5578, 0.9903, 0.5103, 0.6822, 0.6054, 0.1574, 0.3352, 0.3434,\n",
       "        0.9256, 0.9190, 0.2180, 0.2314, 0.5547, 0.9702, 0.8298, 0.4742, 0.9508,\n",
       "        0.8767])"
      ]
     },
     "execution_count": 38,
     "metadata": {},
     "output_type": "execute_result"
    }
   ],
   "source": [
    "x.view(64)"
   ]
  },
  {
   "cell_type": "code",
   "execution_count": 39,
   "metadata": {},
   "outputs": [
    {
     "data": {
      "text/plain": [
       "tensor([[0.0874, 0.3139, 0.7215, 0.0975, 0.8426, 0.0346, 0.3253, 0.4742, 0.1557,\n",
       "         0.9604, 0.1518, 0.2440, 0.7199, 0.1554, 0.7406, 0.3746],\n",
       "        [0.5932, 0.3774, 0.3928, 0.3134, 0.2879, 0.1613, 0.4156, 0.2770, 0.4477,\n",
       "         0.9913, 0.8808, 0.6335, 0.6654, 0.5842, 0.3449, 0.6287],\n",
       "        [0.8046, 0.9290, 0.9585, 0.4434, 0.3196, 0.8057, 0.0600, 0.0710, 0.6430,\n",
       "         0.4321, 0.5364, 0.6181, 0.7308, 0.7486, 0.5578, 0.9903],\n",
       "        [0.5103, 0.6822, 0.6054, 0.1574, 0.3352, 0.3434, 0.9256, 0.9190, 0.2180,\n",
       "         0.2314, 0.5547, 0.9702, 0.8298, 0.4742, 0.9508, 0.8767]])"
      ]
     },
     "execution_count": 39,
     "metadata": {},
     "output_type": "execute_result"
    }
   ],
   "source": [
    "x.view(4,16)"
   ]
  },
  {
   "cell_type": "code",
   "execution_count": 40,
   "metadata": {},
   "outputs": [
    {
     "data": {
      "text/plain": [
       "tensor([[0.0874, 0.3139, 0.7215, 0.0975, 0.8426, 0.0346, 0.3253, 0.4742, 0.1557,\n",
       "         0.9604, 0.1518, 0.2440, 0.7199, 0.1554, 0.7406, 0.3746],\n",
       "        [0.5932, 0.3774, 0.3928, 0.3134, 0.2879, 0.1613, 0.4156, 0.2770, 0.4477,\n",
       "         0.9913, 0.8808, 0.6335, 0.6654, 0.5842, 0.3449, 0.6287],\n",
       "        [0.8046, 0.9290, 0.9585, 0.4434, 0.3196, 0.8057, 0.0600, 0.0710, 0.6430,\n",
       "         0.4321, 0.5364, 0.6181, 0.7308, 0.7486, 0.5578, 0.9903],\n",
       "        [0.5103, 0.6822, 0.6054, 0.1574, 0.3352, 0.3434, 0.9256, 0.9190, 0.2180,\n",
       "         0.2314, 0.5547, 0.9702, 0.8298, 0.4742, 0.9508, 0.8767]])"
      ]
     },
     "execution_count": 40,
     "metadata": {},
     "output_type": "execute_result"
    }
   ],
   "source": [
    "x.view(-1,16) # -1이란 표현은 어느 약수가 정해지면 자동으로 계산됨"
   ]
  },
  {
   "cell_type": "code",
   "execution_count": 41,
   "metadata": {},
   "outputs": [
    {
     "data": {
      "text/plain": [
       "tensor([[[0.0874, 0.3139, 0.7215, 0.0975],\n",
       "         [0.8426, 0.0346, 0.3253, 0.4742],\n",
       "         [0.1557, 0.9604, 0.1518, 0.2440],\n",
       "         [0.7199, 0.1554, 0.7406, 0.3746]],\n",
       "\n",
       "        [[0.5932, 0.3774, 0.3928, 0.3134],\n",
       "         [0.2879, 0.1613, 0.4156, 0.2770],\n",
       "         [0.4477, 0.9913, 0.8808, 0.6335],\n",
       "         [0.6654, 0.5842, 0.3449, 0.6287]],\n",
       "\n",
       "        [[0.8046, 0.9290, 0.9585, 0.4434],\n",
       "         [0.3196, 0.8057, 0.0600, 0.0710],\n",
       "         [0.6430, 0.4321, 0.5364, 0.6181],\n",
       "         [0.7308, 0.7486, 0.5578, 0.9903]],\n",
       "\n",
       "        [[0.5103, 0.6822, 0.6054, 0.1574],\n",
       "         [0.3352, 0.3434, 0.9256, 0.9190],\n",
       "         [0.2180, 0.2314, 0.5547, 0.9702],\n",
       "         [0.8298, 0.4742, 0.9508, 0.8767]]])"
      ]
     },
     "execution_count": 41,
     "metadata": {},
     "output_type": "execute_result"
    }
   ],
   "source": [
    "x.view(-1,4,4)"
   ]
  },
  {
   "cell_type": "code",
   "execution_count": 42,
   "metadata": {},
   "outputs": [
    {
     "name": "stdout",
     "output_type": "stream",
     "text": [
      "[[0.08742338 0.31388634 0.72154886 0.09753925 0.8426172  0.03464127\n",
      "  0.32528836 0.47420877]\n",
      " [0.15568572 0.9603848  0.15180004 0.24404049 0.71985227 0.15535617\n",
      "  0.74061036 0.37462503]\n",
      " [0.5931736  0.377353   0.39281422 0.31344724 0.28791815 0.16125363\n",
      "  0.41558892 0.27703726]\n",
      " [0.44774842 0.9912986  0.8807634  0.6334504  0.66544354 0.58420086\n",
      "  0.34492403 0.6286508 ]\n",
      " [0.80456805 0.92903405 0.95850784 0.443389   0.3195573  0.80565363\n",
      "  0.05999631 0.0710057 ]\n",
      " [0.6429966  0.4320619  0.536414   0.61814904 0.7308053  0.7485794\n",
      "  0.5578112  0.99031895]\n",
      " [0.5103292  0.68218845 0.6054114  0.15738964 0.33524585 0.34336227\n",
      "  0.92560214 0.9190417 ]\n",
      " [0.21804559 0.23141128 0.55472976 0.9701553  0.8298285  0.4741593\n",
      "  0.95078045 0.8766988 ]]\n"
     ]
    }
   ],
   "source": [
    "y = x.numpy()\n",
    "print(y)"
   ]
  },
  {
   "cell_type": "code",
   "execution_count": 43,
   "metadata": {},
   "outputs": [
    {
     "data": {
      "text/plain": [
       "numpy.ndarray"
      ]
     },
     "execution_count": 43,
     "metadata": {},
     "output_type": "execute_result"
    }
   ],
   "source": [
    "type(y)"
   ]
  },
  {
   "cell_type": "code",
   "execution_count": 44,
   "metadata": {},
   "outputs": [
    {
     "data": {
      "text/plain": [
       "tensor([1.])"
      ]
     },
     "execution_count": 44,
     "metadata": {},
     "output_type": "execute_result"
    }
   ],
   "source": [
    "x = torch.ones(1)\n",
    "x"
   ]
  },
  {
   "cell_type": "code",
   "execution_count": 45,
   "metadata": {},
   "outputs": [
    {
     "data": {
      "text/plain": [
       "1.0"
      ]
     },
     "execution_count": 45,
     "metadata": {},
     "output_type": "execute_result"
    }
   ],
   "source": [
    "x.item() \n",
    "# tensor의 스칼라값을 뽑아내는 방법\n",
    "# loss function을 계산할때 loss값을 직접 뽑아내고 싶을 때"
   ]
  },
  {
   "cell_type": "code",
   "execution_count": 49,
   "metadata": {},
   "outputs": [
    {
     "data": {
      "text/plain": [
       "tensor([1.])"
      ]
     },
     "execution_count": 49,
     "metadata": {},
     "output_type": "execute_result"
    }
   ],
   "source": [
    "x"
   ]
  },
  {
   "cell_type": "code",
   "execution_count": 50,
   "metadata": {},
   "outputs": [],
   "source": [
    "y = torch.as_tensor(x)"
   ]
  },
  {
   "cell_type": "code",
   "execution_count": 51,
   "metadata": {},
   "outputs": [
    {
     "data": {
      "text/plain": [
       "tensor([1.])"
      ]
     },
     "execution_count": 51,
     "metadata": {},
     "output_type": "execute_result"
    }
   ],
   "source": [
    "y"
   ]
  },
  {
   "cell_type": "code",
   "execution_count": 52,
   "metadata": {},
   "outputs": [],
   "source": [
    "y[0] = 6"
   ]
  },
  {
   "cell_type": "code",
   "execution_count": 53,
   "metadata": {},
   "outputs": [
    {
     "data": {
      "text/plain": [
       "tensor([6.])"
      ]
     },
     "execution_count": 53,
     "metadata": {},
     "output_type": "execute_result"
    }
   ],
   "source": [
    "x"
   ]
  },
  {
   "cell_type": "code",
   "execution_count": null,
   "metadata": {},
   "outputs": [],
   "source": []
  }
 ],
 "metadata": {
  "kernelspec": {
   "display_name": "Python 3.8",
   "language": "python",
   "name": "python3"
  },
  "language_info": {
   "codemirror_mode": {
    "name": "ipython",
    "version": 3
   },
   "file_extension": ".py",
   "mimetype": "text/x-python",
   "name": "python",
   "nbconvert_exporter": "python",
   "pygments_lexer": "ipython3",
   "version": "3.8.2"
  }
 },
 "nbformat": 4,
 "nbformat_minor": 4
}
