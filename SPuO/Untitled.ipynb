{
 "cells": [
  {
   "cell_type": "code",
   "execution_count": 88,
   "id": "890f2cad-9c8f-4d9d-8a54-1dff24922bee",
   "metadata": {},
   "outputs": [],
   "source": [
    "import numpy as np\n",
    "import matplotlib.pyplot as plt\n",
    "from scipy import sparse\n",
    "import cv2"
   ]
  },
  {
   "cell_type": "code",
   "execution_count": 57,
   "id": "c0771ee8-f162-41fc-91e8-c6f514f27a7b",
   "metadata": {},
   "outputs": [],
   "source": [
    "img = cv2.imread('Emily-In-Paris-gray.png', cv2.IMREAD_GRAYSCALE)\n",
    "# cv2.imshow('gray', original_img)\n",
    "# cv2.waitKey(0)\n",
    "# cv2.destroyAllWindows()"
   ]
  },
  {
   "cell_type": "code",
   "execution_count": 58,
   "id": "62021529-6dbf-411c-b828-568b4399d425",
   "metadata": {},
   "outputs": [
    {
     "data": {
      "text/plain": [
       "(450, 750)"
      ]
     },
     "execution_count": 58,
     "metadata": {},
     "output_type": "execute_result"
    }
   ],
   "source": [
    "height, width = img.shape\n",
    "height, width"
   ]
  },
  {
   "cell_type": "code",
   "execution_count": 62,
   "id": "38dfccd6-6bf9-473c-8eba-2b35803c1c07",
   "metadata": {},
   "outputs": [
    {
     "data": {
      "text/plain": [
       "numpy.uint8"
      ]
     },
     "execution_count": 62,
     "metadata": {},
     "output_type": "execute_result"
    }
   ],
   "source": [
    "neighborhood = sparse.lil_matrix((height * width, height * width)) # 337500 * 337500\n",
    "neighborhood[:15, :15].toarray()\n",
    "type(img[0][0])"
   ]
  },
  {
   "cell_type": "code",
   "execution_count": 102,
   "id": "f0efa4e8-3007-4b57-8e4e-9088e5dae0dc",
   "metadata": {
    "tags": []
   },
   "outputs": [
    {
     "ename": "NameError",
     "evalue": "name 'numpy' is not defined",
     "output_type": "error",
     "traceback": [
      "\u001b[0;31m---------------------------------------------------------------------------\u001b[0m",
      "\u001b[0;31mNameError\u001b[0m                                 Traceback (most recent call last)",
      "\u001b[0;32m/tmp/ipykernel_26652/3245874131.py\u001b[0m in \u001b[0;36m<module>\u001b[0;34m\u001b[0m\n\u001b[1;32m     85\u001b[0m         \u001b[0;32mexcept\u001b[0m \u001b[0mIndexError\u001b[0m\u001b[0;34m:\u001b[0m \u001b[0;32mpass\u001b[0m\u001b[0;34m\u001b[0m\u001b[0;34m\u001b[0m\u001b[0m\n\u001b[1;32m     86\u001b[0m \u001b[0;34m\u001b[0m\u001b[0m\n\u001b[0;32m---> 87\u001b[0;31m         \u001b[0mn_mean\u001b[0m \u001b[0;34m=\u001b[0m \u001b[0mnumpy\u001b[0m\u001b[0;34m.\u001b[0m\u001b[0mmean\u001b[0m\u001b[0;34m(\u001b[0m\u001b[0mnumpy\u001b[0m\u001b[0;34m.\u001b[0m\u001b[0marray\u001b[0m\u001b[0;34m(\u001b[0m\u001b[0mneighbor_values\u001b[0m\u001b[0;34m)\u001b[0m\u001b[0;34m)\u001b[0m\u001b[0;34m\u001b[0m\u001b[0;34m\u001b[0m\u001b[0m\n\u001b[0m\u001b[1;32m     88\u001b[0m         \u001b[0mn_var\u001b[0m \u001b[0;34m=\u001b[0m \u001b[0mnumpy\u001b[0m\u001b[0;34m.\u001b[0m\u001b[0mvar\u001b[0m\u001b[0;34m(\u001b[0m\u001b[0mnumpy\u001b[0m\u001b[0;34m.\u001b[0m\u001b[0marray\u001b[0m\u001b[0;34m(\u001b[0m\u001b[0mneighbor_values\u001b[0m\u001b[0;34m)\u001b[0m\u001b[0;34m)\u001b[0m\u001b[0;34m\u001b[0m\u001b[0;34m\u001b[0m\u001b[0m\n\u001b[1;32m     89\u001b[0m \u001b[0;34m\u001b[0m\u001b[0m\n",
      "\u001b[0;31mNameError\u001b[0m: name 'numpy' is not defined"
     ]
    }
   ],
   "source": [
    "def weight_f(mean, var, r, s): # option 2\n",
    "    return 1 + ((r-mean)*(s-mean))/var\n",
    "\n",
    "\n",
    "numbering = 0\n",
    "\n",
    "for j in range(width):\n",
    "    for i in range(height):\n",
    "        r = img[i][j]\n",
    "        r = r.astype(int)\n",
    "        s = [0 for i in range(8)]\n",
    "        neighbor_values = []\n",
    "\n",
    "        # left top\n",
    "        # -height-1\n",
    "        try:\n",
    "            s = img[i-1][j-1]\n",
    "            s = s.astype(int)\n",
    "            s[0] = \n",
    "            neighbor_values.append(s1)\n",
    "            neighborhood[numbering, numbering-height-1] = abs(r-s)\n",
    "        except IndexError: pass\n",
    "\n",
    "        # left\n",
    "        # -height\n",
    "        try:\n",
    "            s = img[i][j-1]\n",
    "            s2 = s.astype(int)\n",
    "            neighbor_values.append(s2)\n",
    "            neighborhood[numbering, numbering-height] = abs(r-s)\n",
    "        except IndexError: pass\n",
    "        \n",
    "        # left bot\n",
    "        # -height+1\n",
    "        try:\n",
    "            s = img[i+1][j-1]\n",
    "            s3 = s.astype(int)\n",
    "            neighbor_values.append(s3)\n",
    "            neighborhood[numbering, numbering-height+1] = abs(r-s)\n",
    "        except IndexError: pass\n",
    "            \n",
    "        \n",
    "        # top\n",
    "        # -1\n",
    "        try:\n",
    "            s = img[i-1][j]\n",
    "            s4 = s.astype(int)\n",
    "            neighbor_values.append(s4)\n",
    "            neighborhood[numbering, numbering-1] = abs(r-s)\n",
    "        except IndexError: pass\n",
    "            \n",
    "        # bot\n",
    "        # +1\n",
    "        try:\n",
    "            s = img[i+1][j]\n",
    "            s6 = s.astype(int)\n",
    "            neighbor_values.append(s6)\n",
    "            neighborhood[numbering, numbering+1] = abs(r-s)\n",
    "        except IndexError: pass\n",
    "        \n",
    "        \n",
    "        # right top\n",
    "        # +height-1\n",
    "        try:\n",
    "            s = img[i-1][j+1]\n",
    "            s7 = s.astype(int)\n",
    "            neighbor_values.append(s7)\n",
    "            neighborhood[numbering, numbering+height-1] = abs(r-s)\n",
    "        except IndexError: pass\n",
    "            \n",
    "        # right\n",
    "        # +height\n",
    "        try:\n",
    "            s = img[i][j+1]\n",
    "            s8 = s.astype(int)\n",
    "            neighbor_values.append(8)\n",
    "            neighborhood[numbering, numbering+height] = abs(r-s)\n",
    "        except IndexError: pass\n",
    "            \n",
    "        # right bot\n",
    "        # +height+1\n",
    "        try:\n",
    "            s = img[i+1][j+1]\n",
    "            s9 = s.astype(int)\n",
    "            neighbor_values.append(s9)\n",
    "            neighborhood[numbering, numbering+height+1] = abs(r-s)\n",
    "        except IndexError: pass\n",
    "        \n",
    "        n_mean, n_var = np.mean(neighbor_values), np.var(neighbor_values)\n",
    "        \n",
    "        \n",
    "        \n",
    "        try: neighborhood[numbering, numbering-height-1] = abs(r-s)\n",
    "        except IndexError: pass\n",
    "        try: neighborhood[numbering, numbering-height] = abs(r-s)\n",
    "        except IndexError: pass\n",
    "        try: neighborhood[numbering, numbering-height+1] = abs(r-s)\n",
    "        except IndexError: pass\n",
    "        try: neighborhood[numbering, numbering-1] = abs(r-s)\n",
    "        except IndexError: pass\n",
    "        try: neighborhood[numbering, numbering+1] = abs(r-s)\n",
    "        except IndexError: pass\n",
    "        try: neighborhood[numbering, numbering+height-1] = abs(r-s)\n",
    "        except IndexError: pass\n",
    "        try: neighborhood[numbering, numbering+height] = abs(r-s)\n",
    "        except IndexError: pass\n",
    "        try: neighborhood[numbering, numbering+height] = abs(r-s)\n",
    "        except IndexError: pass\n",
    "        \n",
    "        \n",
    "        numbering += 1\n"
   ]
  },
  {
   "cell_type": "code",
   "execution_count": 71,
   "id": "20a3fd83-f9c4-4ac0-94e3-c4c9e9dcad83",
   "metadata": {
    "tags": []
   },
   "outputs": [
    {
     "data": {
      "text/plain": [
       "array([[0., 1., 0., 0., 0., 0., 0., 0., 0., 0., 0., 0., 0., 0., 0.],\n",
       "       [1., 0., 0., 0., 0., 0., 0., 0., 0., 0., 0., 0., 0., 0., 0.],\n",
       "       [0., 0., 0., 0., 0., 0., 0., 0., 0., 0., 0., 0., 0., 0., 0.],\n",
       "       [0., 0., 0., 0., 1., 0., 0., 0., 0., 0., 0., 0., 0., 0., 0.],\n",
       "       [0., 0., 0., 1., 0., 0., 0., 0., 0., 0., 0., 0., 0., 0., 0.],\n",
       "       [0., 0., 0., 0., 0., 0., 1., 0., 0., 0., 0., 0., 0., 0., 0.],\n",
       "       [0., 0., 0., 0., 0., 1., 0., 0., 0., 0., 0., 0., 0., 0., 0.],\n",
       "       [0., 0., 0., 0., 0., 0., 0., 0., 1., 0., 0., 0., 0., 0., 0.],\n",
       "       [0., 0., 0., 0., 0., 0., 0., 1., 0., 1., 0., 0., 0., 0., 0.],\n",
       "       [0., 0., 0., 0., 0., 0., 0., 0., 1., 0., 1., 0., 0., 0., 0.],\n",
       "       [0., 0., 0., 0., 0., 0., 0., 0., 0., 1., 0., 1., 0., 0., 0.],\n",
       "       [0., 0., 0., 0., 0., 0., 0., 0., 0., 0., 1., 0., 1., 0., 0.],\n",
       "       [0., 0., 0., 0., 0., 0., 0., 0., 0., 0., 0., 1., 0., 1., 0.],\n",
       "       [0., 0., 0., 0., 0., 0., 0., 0., 0., 0., 0., 0., 1., 0., 0.],\n",
       "       [0., 0., 0., 0., 0., 0., 0., 0., 0., 0., 0., 0., 0., 0., 0.]])"
      ]
     },
     "execution_count": 71,
     "metadata": {},
     "output_type": "execute_result"
    }
   ],
   "source": [
    "\n",
    "neighborhood[:15, :15].toarray()"
   ]
  },
  {
   "cell_type": "code",
   "execution_count": 50,
   "id": "079169c6-0244-46a2-b449-4f600c5dd785",
   "metadata": {
    "tags": []
   },
   "outputs": [
    {
     "name": "stdout",
     "output_type": "stream",
     "text": [
      "indexerror\n"
     ]
    }
   ],
   "source": [
    "try:\n",
    "    neighborhood[1023810293]\n",
    "except IndexError:\n",
    "    print('indexerror')"
   ]
  },
  {
   "cell_type": "code",
   "execution_count": 73,
   "id": "101ecb87-0606-460e-8413-a49cd32ea8c6",
   "metadata": {},
   "outputs": [
    {
     "data": {
      "text/plain": [
       "array([[252, 252, 252, 252, 252, 252, 252, 253, 252, 253],\n",
       "       [253, 253, 253, 253, 253, 252, 252, 253, 252, 253],\n",
       "       [253, 253, 253, 253, 253, 252, 252, 252, 252, 253],\n",
       "       [253, 252, 252, 253, 253, 253, 252, 253, 253, 252],\n",
       "       [252, 252, 252, 252, 252, 252, 253, 253, 253, 252],\n",
       "       [252, 252, 252, 252, 252, 252, 253, 253, 253, 253],\n",
       "       [253, 253, 253, 252, 252, 253, 253, 252, 252, 252],\n",
       "       [253, 253, 253, 253, 253, 253, 253, 252, 252, 252],\n",
       "       [252, 253, 253, 253, 252, 253, 253, 253, 252, 253],\n",
       "       [253, 253, 253, 253, 253, 253, 252, 252, 253, 253]], dtype=uint8)"
      ]
     },
     "execution_count": 73,
     "metadata": {},
     "output_type": "execute_result"
    }
   ],
   "source": [
    "sparce.neighborhood"
   ]
  },
  {
   "cell_type": "code",
   "execution_count": 98,
   "id": "8e36b7ec-c3f4-44d0-8c2d-b2ba77790a1f",
   "metadata": {},
   "outputs": [
    {
     "data": {
      "image/png": "[encoded data removed]",
      "text/plain": [
       "<Figure size 7200x7200 with 1 Axes>"
      ]
     },
     "metadata": {
      "needs_background": "light"
     },
     "output_type": "display_data"
    }
   ],
   "source": [
    "plt.figure(figsize=(100,100))\n",
    "plt.spy(neighborhood[:300, :337200])\n",
    "plt.show()"
   ]
  },
  {
   "cell_type": "code",
   "execution_count": 103,
   "id": "24bab7ec-b360-4b3c-af95-fa533dba3c51",
   "metadata": {},
   "outputs": [
    {
     "data": {
      "text/plain": [
       "3.5"
      ]
     },
     "execution_count": 103,
     "metadata": {},
     "output_type": "execute_result"
    }
   ],
   "source": [
    "np.mean([3,4])"
   ]
  },
  {
   "cell_type": "code",
   "execution_count": null,
   "id": "b43c831b-2156-48a2-ad1f-3281c99a215e",
   "metadata": {},
   "outputs": [],
   "source": []
  }
 ],
 "metadata": {
  "kernelspec": {
   "display_name": "Python 3 (ipykernel)",
   "language": "python",
   "name": "python3"
  },
  "language_info": {
   "codemirror_mode": {
    "name": "ipython",
    "version": 3
   },
   "file_extension": ".py",
   "mimetype": "text/x-python",
   "name": "python",
   "nbconvert_exporter": "python",
   "pygments_lexer": "ipython3",
   "version": "3.8.0"
  },
  "widgets": {
   "application/vnd.jupyter.widget-state+json": {
    "state": {},
    "version_major": 2,
    "version_minor": 0
   }
  }
 },
 "nbformat": 4,
 "nbformat_minor": 5
}
