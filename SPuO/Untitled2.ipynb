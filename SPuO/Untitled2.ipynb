{
 "cells": [
  {
   "cell_type": "code",
   "execution_count": 80,
   "id": "8501240e-ced7-42c8-9f45-008f774b633e",
   "metadata": {},
   "outputs": [],
   "source": [
    "import numpy as np\n",
    "import matplotlib.pyplot as plt\n",
    "from scipy import sparse\n",
    "import cv2"
   ]
  },
  {
   "cell_type": "code",
   "execution_count": 81,
   "id": "d362f477-0702-49ee-9c63-ef00b08cc7ea",
   "metadata": {},
   "outputs": [],
   "source": [
    "img = cv2.imread('Emily-In-Paris-gray.png', cv2.IMREAD_GRAYSCALE)\n",
    "# cv2.imshow('gray', original_img)\n",
    "# cv2.waitKey(0)\n",
    "# cv2.destroyAllWindows()"
   ]
  },
  {
   "cell_type": "code",
   "execution_count": 82,
   "id": "f2b84cd3-ebbe-4950-87f5-b4c379c6205f",
   "metadata": {},
   "outputs": [],
   "source": [
    "def get_neighbor_pixels(image, coord, T):\n",
    "    x, y = coord\n",
    "    s_coord, s_value = [], []\n",
    "    \n",
    "    for i in range(-T, T+1):\n",
    "        for j in range(-T, T+1):\n",
    "            if i == j == 0: continue\n",
    "            try: \n",
    "                if x + i < 0 or y + j < 0: continue\n",
    "                s = image[x+i][y+j] \n",
    "                s_coord.append((x+i, y+j))\n",
    "                s_value.append(s)\n",
    "            except IndexError: continue     \n",
    "    return s_coord, s_value\n",
    "\n",
    "def weight_f(mean, var, r, s): # option 2\n",
    "    eps = 1e-6\n",
    "    return 1 + ((r-mean)*(s-mean))/(var+eps)\n",
    "\n",
    "def get_weight(r, values):\n",
    "    n_mean, n_var = np.mean(values), np.var(values)\n",
    "    weight_neighbor = [weight_f(n_mean, n_var, r, i) for i in values]\n",
    "    normalized_neighbor = weight_neighbor / np.sum(weight_neighbor)\n",
    "    return normalized_neighbor\n",
    "\n",
    "def get_neighbor_matrix(image, T):\n",
    "    height, width = image.shape\n",
    "    neighborhood = sparse.lil_matrix((height * width, height * width)) # 337,500 * 337,500\n",
    "    numbering = 0\n",
    "\n",
    "    for i in range(height):\n",
    "        for j in range(width):\n",
    "            r = img[i][j]\n",
    "            coords, values = get_neighbor_pixels(img, (i, j), T)\n",
    "            normalized_neighbor = get_weight(r, values)\n",
    "            for (x, y), weight in zip(coords, normalized_neighbor):\n",
    "                neighborhood[numbering, x * width + y] = weight\n",
    "            numbering += 1\n",
    "            \n",
    "    return neighborhood"
   ]
  },
  {
   "cell_type": "code",
   "execution_count": 83,
   "id": "4fc8723a-2a53-4ffa-8152-efcc68d62513",
   "metadata": {},
   "outputs": [],
   "source": [
    "naver = get_neighbor_matrix(img, 3)"
   ]
  },
  {
   "cell_type": "code",
   "execution_count": 95,
   "id": "10fa8fed-09ad-46a3-adbd-c4c6cc11ce63",
   "metadata": {},
   "outputs": [],
   "source": [
    "# plt.figure(figsize=(50,50))\n",
    "# plt.spy(naver, markersize=1)\n",
    "# plt.show()"
   ]
  },
  {
   "cell_type": "code",
   "execution_count": 147,
   "id": "43e44257-dd91-4a75-94ef-fb5008c31a30",
   "metadata": {},
   "outputs": [],
   "source": [
    "scribbles = cv2.imread('Emily-In-Paris-scribbles.png')\n",
    "h, w, c = scribbles.shape\n",
    "\n",
    "scribbles_back = np.zeros((h * w,))\n",
    "scribbles_fore = np.zeros((h * w,))\n",
    "numbering = 0\n",
    "\n",
    "for i in range(height):\n",
    "    for j in range(width):\n",
    "        if scribbles[i][j][2] == 1:\n",
    "            scribbles_back[numbering] = 1\n",
    "        elif scribbles[i][j][2] == 2:\n",
    "            scribbles_fore[numbering] = 1\n",
    "        numbering += 1"
   ]
  },
  {
   "cell_type": "code",
   "execution_count": null,
   "id": "2f11d6af-00e1-463b-a9f2-75b4b28a20c4",
   "metadata": {},
   "outputs": [],
   "source": []
  }
 ],
 "metadata": {
  "kernelspec": {
   "display_name": "Python 3 (ipykernel)",
   "language": "python",
   "name": "python3"
  },
  "language_info": {
   "codemirror_mode": {
    "name": "ipython",
    "version": 3
   },
   "file_extension": ".py",
   "mimetype": "text/x-python",
   "name": "python",
   "nbconvert_exporter": "python",
   "pygments_lexer": "ipython3",
   "version": "3.8.0"
  },
  "widgets": {
   "application/vnd.jupyter.widget-state+json": {
    "state": {},
    "version_major": 2,
    "version_minor": 0
   }
  }
 },
 "nbformat": 4,
 "nbformat_minor": 5
}
