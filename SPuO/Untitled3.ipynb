{
 "cells": [
  {
   "cell_type": "code",
   "execution_count": 17,
   "id": "125807a0-a2db-41a2-a817-a164bb03c87d",
   "metadata": {},
   "outputs": [],
   "source": [
    "import numpy as np\n",
    "\n",
    "a = [.1,.2,.3,.4,.5,.6,.7,.8]\n",
    "b = [.8,.7,.6,.5,.4,.3,.2,.1]\n",
    "\n",
    "# m = np.argmax(np.array(a), np.array(b))"
   ]
  },
  {
   "cell_type": "code",
   "execution_count": null,
   "id": "b277a758-9b52-4be8-9d33-7805ce71c1fa",
   "metadata": {},
   "outputs": [],
   "source": []
  },
  {
   "cell_type": "code",
   "execution_count": 18,
   "id": "982daeb0-7a42-4a75-a1c1-74866f8682cc",
   "metadata": {},
   "outputs": [],
   "source": [
    "s = np.array([[.1,.2,.3,.4,.5,.6,.7,.8], [.8,.7,.6,.5,.4,.3,.2,.1]])"
   ]
  },
  {
   "cell_type": "code",
   "execution_count": 19,
   "id": "a6e91940-4211-4293-96e8-c3e86bb3b5d0",
   "metadata": {},
   "outputs": [
    {
     "data": {
      "text/plain": [
       "array([[0.1, 0.2, 0.3, 0.4, 0.5, 0.6, 0.7, 0.8],\n",
       "       [0.8, 0.7, 0.6, 0.5, 0.4, 0.3, 0.2, 0.1]])"
      ]
     },
     "execution_count": 19,
     "metadata": {},
     "output_type": "execute_result"
    }
   ],
   "source": [
    "s"
   ]
  },
  {
   "cell_type": "code",
   "execution_count": 20,
   "id": "9db6b0b4-3e55-4ef6-b6ea-1cee7cc155e0",
   "metadata": {},
   "outputs": [
    {
     "data": {
      "text/plain": [
       "array([1, 1, 1, 1, 0, 0, 0, 0])"
      ]
     },
     "execution_count": 20,
     "metadata": {},
     "output_type": "execute_result"
    }
   ],
   "source": [
    "s.argmax(axis=0)"
   ]
  },
  {
   "cell_type": "code",
   "execution_count": 28,
   "id": "d3dccabd-c62f-4dec-b999-ee6476089d12",
   "metadata": {},
   "outputs": [
    {
     "data": {
      "text/plain": [
       "array([[1, 1, 1, 1],\n",
       "       [0, 0, 0, 0]])"
      ]
     },
     "execution_count": 28,
     "metadata": {},
     "output_type": "execute_result"
    }
   ],
   "source": [
    "n = np.concatenate([[a],[b]])\n",
    "c = n.argmax(axis=0)\n",
    "np.reshape(c, (2, 4))"
   ]
  },
  {
   "cell_type": "code",
   "execution_count": 29,
   "id": "b04e6720-2152-4696-9110-84964599f6da",
   "metadata": {},
   "outputs": [
    {
     "data": {
      "text/plain": [
       "array([False, False,  True, False, False,  True, False, False])"
      ]
     },
     "execution_count": 29,
     "metadata": {},
     "output_type": "execute_result"
    }
   ],
   "source": [
    "a = [1,0,1,0,1,1,0,0]\n",
    "b = [0,0,1,0,0,1,1,0]\n",
    "\n",
    "intersection = np.logical_and(a, b)\n",
    "intersection"
   ]
  },
  {
   "cell_type": "code",
   "execution_count": 31,
   "id": "74965450-2e76-4a5a-8b91-550bdeecbaeb",
   "metadata": {},
   "outputs": [
    {
     "data": {
      "text/plain": [
       "2"
      ]
     },
     "execution_count": 31,
     "metadata": {},
     "output_type": "execute_result"
    }
   ],
   "source": [
    "np.sum(intersection)"
   ]
  },
  {
   "cell_type": "code",
   "execution_count": null,
   "id": "a340d096-9446-4af4-a3d1-6a64bc59e6ab",
   "metadata": {},
   "outputs": [],
   "source": []
  }
 ],
 "metadata": {
  "kernelspec": {
   "display_name": "Python 3 (ipykernel)",
   "language": "python",
   "name": "python3"
  },
  "language_info": {
   "codemirror_mode": {
    "name": "ipython",
    "version": 3
   },
   "file_extension": ".py",
   "mimetype": "text/x-python",
   "name": "python",
   "nbconvert_exporter": "python",
   "pygments_lexer": "ipython3",
   "version": "3.8.0"
  },
  "widgets": {
   "application/vnd.jupyter.widget-state+json": {
    "state": {},
    "version_major": 2,
    "version_minor": 0
   }
  }
 },
 "nbformat": 4,
 "nbformat_minor": 5
}
