{
 "cells": [
  {
   "cell_type": "code",
   "execution_count": 43,
   "id": "0cad0330-20a3-4876-a1fc-90ba107460dc",
   "metadata": {
    "tags": []
   },
   "outputs": [],
   "source": [
    "import os\n",
    "from PIL import Image\n",
    "\n",
    "import scipy\n",
    "import numpy as np\n",
    "import benfordslaw\n",
    "import torch\n",
    "\n",
    "\n",
    "benford = np.array([30.1, 17.6, 12.5, 9.7, 7.9, 6.7, 5.8, 5.1, 4.6]) / 100\n",
    "\n",
    "def mlh(bin_percent_):\n",
    "    return scipy.stats.pearsonr(benford, bin_percent_[1:])[0]\n",
    "\n",
    "def bincount(tensor):\n",
    "    counts = torch.zeros(10)\n",
    "    for i in range(10):\n",
    "        counts[i] = torch.count_nonzero(tensor == i)\n",
    "    return counts\n",
    "\n",
    "def bin_count(tensor):\n",
    "    tensor = tensor.abs() * 1e10\n",
    "    long_tensor = torch.log10(tensor).long()\n",
    "    tensor = tensor // 10 ** long_tensor\n",
    "    return bincount(tensor.long())\n",
    "\n",
    "def bin_percent(tensor):\n",
    "    return tensor / tensor.sum()"
   ]
  },
  {
   "cell_type": "code",
   "execution_count": 62,
   "id": "8bbc60b0-f39a-41d0-8662-437cef493f29",
   "metadata": {},
   "outputs": [
    {
     "name": "stderr",
     "output_type": "stream",
     "text": [
      "/tmp/ipykernel_148344/2462985517.py:24: UserWarning: __floordiv__ is deprecated, and its behavior will change in a future version of pytorch. It currently rounds toward 0 (like the 'trunc' function NOT 'floor'). This results in incorrect rounding for negative values. To keep the current behavior, use torch.div(a, b, rounding_mode='trunc'), or for actual floor division, use torch.div(a, b, rounding_mode='floor').\n",
      "  tensor = tensor // 10 ** long_tensor\n"
     ]
    },
    {
     "name": "stdout",
     "output_type": "stream",
     "text": [
      "automobile : 0.912\n",
      "frog : 0.936\n",
      "ship : 0.766\n",
      "horse : 0.894\n",
      "bird : 0.865\n",
      "deer : 0.909\n",
      "airplane : 0.701\n",
      "cat : 0.894\n",
      "dog : 0.874\n",
      "truck : 0.884\n"
     ]
    }
   ],
   "source": [
    "from torchvision import transforms\n",
    "\n",
    "image_path = '/home/dodant/Documents/Datasets/CIFAR 10 - images/train'\n",
    "# image_path = '/home/dodant/Documents/Datasets/CIFAR 100 - images/train_image'\n",
    "# mean = [0.4913997551666284, 0.48215855929893703, 0.4465309133731618]\n",
    "# std = [0.24703225141799082, 0.24348516474564, 0.26158783926049628]\n",
    "    \n",
    "for label in os.listdir(image_path):\n",
    "    # print(label)\n",
    "    img_list_jpg = [img for img in os.listdir(image_path + '/' + label) if img.endswith(\".jpg\")]\n",
    "    \n",
    "    img_list_np = []\n",
    "    digit_count = torch.zeros(10)\n",
    "\n",
    "    for i in img_list_jpg:\n",
    "        img = Image.open(image_path + '/' + label +'/' + i)\n",
    "        \n",
    "        timg_ = torch.Tensor(np.array(img))\n",
    "        \n",
    "        # timg_ = transforms.Normalize(mean, std)(timg_.view(3,32,32))\n",
    "        timg_ = transforms.Normalize((0.5, 0.5, 0.5), (0.5, 0.5, 0.5))(timg_.view(3,32,32))\n",
    "        digit_count += bin_count(timg_)\n",
    "\n",
    "    print(f'{label} : {mlh(bin_percent(digit_count)):.3f}')"
   ]
  },
  {
   "cell_type": "code",
   "execution_count": null,
   "id": "8fab95c8-da9e-4f56-8783-6832cd3834ce",
   "metadata": {},
   "outputs": [],
   "source": []
  },
  {
   "cell_type": "markdown",
   "id": "bb26c0e0-7f39-4e73-9c23-53eb1d215f1b",
   "metadata": {},
   "source": [
    "## Original\n",
    "automobile : 0.945\n",
    "frog : 0.885\n",
    "ship : 0.936\n",
    "horse : 0.924\n",
    "bird : 0.902\n",
    "deer : 0.872\n",
    "airplane : 0.941\n",
    "cat : 0.932\n",
    "dog : 0.927\n",
    "truck : 0.947\n",
    "\n",
    "## Normalize (0.5, 0.5, 0.5), (0.5, 0.5, 0.5)\n",
    "automobile : 0.912\n",
    "frog : 0.936\n",
    "ship : 0.766\n",
    "horse : 0.894\n",
    "bird : 0.865\n",
    "deer : 0.909\n",
    "airplane : 0.701\n",
    "cat : 0.894\n",
    "dog : 0.874\n",
    "truck : 0.884\n",
    "\n",
    "# Normalize\n",
    "mean = [0.4913997551666284, 0.48215855929893703, 0.4465309133731618]\n",
    "std = [0.24703225141799082, 0.24348516474564, 0.26158783926049628]\n",
    "automobile : 0.819\n",
    "frog : 0.525\n",
    "ship : -0.021\n",
    "horse : 0.527\n",
    "bird : 0.259\n",
    "deer : 0.332\n",
    "airplane : -0.357\n",
    "cat : 0.608\n",
    "dog : 0.480\n",
    "truck : 0.859"
   ]
  }
 ],
 "metadata": {
  "kernelspec": {
   "display_name": "dl39",
   "language": "python",
   "name": "dl39"
  },
  "language_info": {
   "codemirror_mode": {
    "name": "ipython",
    "version": 3
   },
   "file_extension": ".py",
   "mimetype": "text/x-python",
   "name": "python",
   "nbconvert_exporter": "python",
   "pygments_lexer": "ipython3",
   "version": "3.9.0"
  }
 },
 "nbformat": 4,
 "nbformat_minor": 5
}
